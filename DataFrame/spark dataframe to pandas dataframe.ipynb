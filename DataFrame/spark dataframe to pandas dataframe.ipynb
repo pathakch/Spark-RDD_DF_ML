{
 "cells": [
  {
   "cell_type": "code",
   "execution_count": 1,
   "metadata": {},
   "outputs": [],
   "source": [
    "import pyspark\n",
    "import findspark\n",
    "from pyspark import SparkConf\n",
    "from pyspark import SparkContext\n",
    "from pyspark.sql import SQLContext\n",
    "from pyspark.sql import *\n",
    "from pyspark.sql import Row\n",
    "sc=SparkContext.getOrCreate(SparkConf().setMaster(\"local[*]\"))\n",
    "sqlcontext=SQLContext(sc)"
   ]
  },
  {
   "cell_type": "code",
   "execution_count": null,
   "metadata": {},
   "outputs": [],
   "source": [
    "import pandas as pd"
   ]
  },
  {
   "cell_type": "code",
   "execution_count": null,
   "metadata": {},
   "outputs": [],
   "source": [
    "input_file_path=\"file:///C:/Users/ckp43_000/Documents/generic-food.csv\""
   ]
  },
  {
   "cell_type": "code",
   "execution_count": null,
   "metadata": {},
   "outputs": [],
   "source": [
    "# creating spark/pyspark dataframe reading a csv file.\n",
    "rating_df=sqlcontext.read.csv(input_file_path,header=True)"
   ]
  },
  {
   "cell_type": "code",
   "execution_count": 15,
   "metadata": {},
   "outputs": [
    {
     "data": {
      "text/plain": [
       "907"
      ]
     },
     "execution_count": 15,
     "metadata": {},
     "output_type": "execute_result"
    }
   ],
   "source": [
    "rating_df.count()"
   ]
  },
  {
   "cell_type": "code",
   "execution_count": 14,
   "metadata": {
    "scrolled": true
   },
   "outputs": [
    {
     "name": "stdout",
     "output_type": "stream",
     "text": [
      "+--------------+--------------------+----------------+--------------------+\n",
      "|      FOODNAME|      SCIENTIFICNAME|           GROUP|            SUBGROUP|\n",
      "+--------------+--------------------+----------------+--------------------+\n",
      "|      Angelica|    Angelica keiskei|Herbs and Spices|               Herbs|\n",
      "| Savoy cabbage|Brassica oleracea...|      Vegetables|            Cabbages|\n",
      "| Silver linden|      Tilia argentea|Herbs and Spices|               Herbs|\n",
      "|          Kiwi| Actinidia chinensis|          Fruits|     Tropical fruits|\n",
      "|Allium (Onion)|              Allium|      Vegetables|Onion-family vege...|\n",
      "|  Garden onion|         Allium cepa|      Vegetables|Onion-family vege...|\n",
      "|          Leek|       Allium porrum|      Vegetables|Onion-family vege...|\n",
      "|        Garlic|      Allium sativum|Herbs and Spices|               Herbs|\n",
      "|        Chives|Allium schoenoprasum|Herbs and Spices|               Herbs|\n",
      "| Lemon verbena|   Aloysia triphylla|Herbs and Spices|               Herbs|\n",
      "|    Cashew nut|Anacardium occide...|            Nuts|                Nuts|\n",
      "|     Pineapple|      Ananas comosus|          Fruits|     Tropical fruits|\n",
      "|          Dill|  Anethum graveolens|Herbs and Spices|               Herbs|\n",
      "| Custard apple|   Annona reticulata|          Fruits|     Tropical fruits|\n",
      "|   Wild celery|    Apium graveolens|Herbs and Spices|              Spices|\n",
      "|        Peanut|    Arachis hypogaea|            Nuts|                Nuts|\n",
      "|       Burdock|       Arctium lappa|      Vegetables|     Root vegetables|\n",
      "|   Horseradish| Armoracia rusticana|Herbs and Spices|              Spices|\n",
      "|      Tarragon|Artemisia dracunc...|Herbs and Spices|               Herbs|\n",
      "|       Mugwort|  Artemisia vulgaris|Herbs and Spices|               Herbs|\n",
      "+--------------+--------------------+----------------+--------------------+\n",
      "only showing top 20 rows\n",
      "\n"
     ]
    }
   ],
   "source": [
    "rating_df.show(5)"
   ]
  },
  {
   "attachments": {},
   "cell_type": "markdown",
   "metadata": {},
   "source": [
    "### Registering Spark DataFrame as Pandas DataFrame :\n",
    "     required Code:-->>   \"spark_df.select(*).toPandas()\"\n",
    "     Check Below Code:--->>"
   ]
  },
  {
   "cell_type": "code",
   "execution_count": 16,
   "metadata": {},
   "outputs": [],
   "source": [
    "# creating pandas dataframe from spark/pyspark dataframe.\n",
    "pd_rating_df=rating_df.select(\"*\").toPandas()"
   ]
  },
  {
   "cell_type": "code",
   "execution_count": 19,
   "metadata": {},
   "outputs": [
    {
     "data": {
      "text/html": [
       "<div>\n",
       "<style scoped>\n",
       "    .dataframe tbody tr th:only-of-type {\n",
       "        vertical-align: middle;\n",
       "    }\n",
       "\n",
       "    .dataframe tbody tr th {\n",
       "        vertical-align: top;\n",
       "    }\n",
       "\n",
       "    .dataframe thead th {\n",
       "        text-align: right;\n",
       "    }\n",
       "</style>\n",
       "<table border=\"1\" class=\"dataframe\">\n",
       "  <thead>\n",
       "    <tr style=\"text-align: right;\">\n",
       "      <th></th>\n",
       "      <th>FOODNAME</th>\n",
       "      <th>SCIENTIFICNAME</th>\n",
       "      <th>GROUP</th>\n",
       "      <th>SUBGROUP</th>\n",
       "    </tr>\n",
       "  </thead>\n",
       "  <tbody>\n",
       "    <tr>\n",
       "      <td>0</td>\n",
       "      <td>Angelica</td>\n",
       "      <td>Angelica keiskei</td>\n",
       "      <td>Herbs and Spices</td>\n",
       "      <td>Herbs</td>\n",
       "    </tr>\n",
       "    <tr>\n",
       "      <td>1</td>\n",
       "      <td>Savoy cabbage</td>\n",
       "      <td>Brassica oleracea var. sabauda</td>\n",
       "      <td>Vegetables</td>\n",
       "      <td>Cabbages</td>\n",
       "    </tr>\n",
       "    <tr>\n",
       "      <td>2</td>\n",
       "      <td>Silver linden</td>\n",
       "      <td>Tilia argentea</td>\n",
       "      <td>Herbs and Spices</td>\n",
       "      <td>Herbs</td>\n",
       "    </tr>\n",
       "    <tr>\n",
       "      <td>3</td>\n",
       "      <td>Kiwi</td>\n",
       "      <td>Actinidia chinensis</td>\n",
       "      <td>Fruits</td>\n",
       "      <td>Tropical fruits</td>\n",
       "    </tr>\n",
       "    <tr>\n",
       "      <td>4</td>\n",
       "      <td>Allium (Onion)</td>\n",
       "      <td>Allium</td>\n",
       "      <td>Vegetables</td>\n",
       "      <td>Onion-family vegetables</td>\n",
       "    </tr>\n",
       "    <tr>\n",
       "      <td>...</td>\n",
       "      <td>...</td>\n",
       "      <td>...</td>\n",
       "      <td>...</td>\n",
       "      <td>...</td>\n",
       "    </tr>\n",
       "    <tr>\n",
       "      <td>902</td>\n",
       "      <td>Romaine lettuce</td>\n",
       "      <td>Lactuca sativa L. var. longifolia</td>\n",
       "      <td>Vegetables</td>\n",
       "      <td>Leaf vegetables</td>\n",
       "    </tr>\n",
       "    <tr>\n",
       "      <td>903</td>\n",
       "      <td>Cow milk, pasteurized, vitamin A + D added, 0%...</td>\n",
       "      <td>None</td>\n",
       "      <td>Milk and milk products</td>\n",
       "      <td>Unfermented milks</td>\n",
       "    </tr>\n",
       "    <tr>\n",
       "      <td>904</td>\n",
       "      <td>Cow milk, pasteurized, vitamin A + D added, 1%...</td>\n",
       "      <td>None</td>\n",
       "      <td>Milk and milk products</td>\n",
       "      <td>Unfermented milks</td>\n",
       "    </tr>\n",
       "    <tr>\n",
       "      <td>905</td>\n",
       "      <td>Cow milk, pasteurized, vitamin A + D added, 2%...</td>\n",
       "      <td>None</td>\n",
       "      <td>Milk and milk products</td>\n",
       "      <td>Unfermented milks</td>\n",
       "    </tr>\n",
       "    <tr>\n",
       "      <td>906</td>\n",
       "      <td>Cow milk, pasteurized, vitamin D added, 3.25% fat</td>\n",
       "      <td>None</td>\n",
       "      <td>Milk and milk products</td>\n",
       "      <td>Unfermented milks</td>\n",
       "    </tr>\n",
       "  </tbody>\n",
       "</table>\n",
       "<p>907 rows × 4 columns</p>\n",
       "</div>"
      ],
      "text/plain": [
       "                                              FOODNAME  \\\n",
       "0                                             Angelica   \n",
       "1                                        Savoy cabbage   \n",
       "2                                        Silver linden   \n",
       "3                                                 Kiwi   \n",
       "4                                       Allium (Onion)   \n",
       "..                                                 ...   \n",
       "902                                    Romaine lettuce   \n",
       "903  Cow milk, pasteurized, vitamin A + D added, 0%...   \n",
       "904  Cow milk, pasteurized, vitamin A + D added, 1%...   \n",
       "905  Cow milk, pasteurized, vitamin A + D added, 2%...   \n",
       "906  Cow milk, pasteurized, vitamin D added, 3.25% fat   \n",
       "\n",
       "                        SCIENTIFICNAME                   GROUP  \\\n",
       "0                     Angelica keiskei        Herbs and Spices   \n",
       "1       Brassica oleracea var. sabauda              Vegetables   \n",
       "2                       Tilia argentea        Herbs and Spices   \n",
       "3                  Actinidia chinensis                  Fruits   \n",
       "4                               Allium              Vegetables   \n",
       "..                                 ...                     ...   \n",
       "902  Lactuca sativa L. var. longifolia              Vegetables   \n",
       "903                               None  Milk and milk products   \n",
       "904                               None  Milk and milk products   \n",
       "905                               None  Milk and milk products   \n",
       "906                               None  Milk and milk products   \n",
       "\n",
       "                    SUBGROUP  \n",
       "0                      Herbs  \n",
       "1                   Cabbages  \n",
       "2                      Herbs  \n",
       "3            Tropical fruits  \n",
       "4    Onion-family vegetables  \n",
       "..                       ...  \n",
       "902          Leaf vegetables  \n",
       "903        Unfermented milks  \n",
       "904        Unfermented milks  \n",
       "905        Unfermented milks  \n",
       "906        Unfermented milks  \n",
       "\n",
       "[907 rows x 4 columns]"
      ]
     },
     "execution_count": 19,
     "metadata": {},
     "output_type": "execute_result"
    }
   ],
   "source": [
    "pd_rating_df"
   ]
  },
  {
   "cell_type": "code",
   "execution_count": 20,
   "metadata": {},
   "outputs": [
    {
     "data": {
      "text/plain": [
       "RangeIndex(start=0, stop=907, step=1)"
      ]
     },
     "execution_count": 20,
     "metadata": {},
     "output_type": "execute_result"
    }
   ],
   "source": [
    "# get 'index' of pandas dataframe.\n",
    "pd_rating_df.index"
   ]
  },
  {
   "cell_type": "code",
   "execution_count": 23,
   "metadata": {},
   "outputs": [
    {
     "data": {
      "text/plain": [
       "Index(['FOODNAME', 'SCIENTIFICNAME', 'GROUP', 'SUBGROUP'], dtype='object')"
      ]
     },
     "execution_count": 23,
     "metadata": {},
     "output_type": "execute_result"
    }
   ],
   "source": [
    "# get column names of pandas dataframe.\n",
    "pd_rating_df.columns"
   ]
  },
  {
   "cell_type": "code",
   "execution_count": 25,
   "metadata": {},
   "outputs": [
    {
     "data": {
      "text/plain": [
       "0            Herbs and Spices\n",
       "1                  Vegetables\n",
       "2            Herbs and Spices\n",
       "3                      Fruits\n",
       "4                  Vegetables\n",
       "                ...          \n",
       "902                Vegetables\n",
       "903    Milk and milk products\n",
       "904    Milk and milk products\n",
       "905    Milk and milk products\n",
       "906    Milk and milk products\n",
       "Name: GROUP, Length: 907, dtype: object"
      ]
     },
     "execution_count": 25,
     "metadata": {},
     "output_type": "execute_result"
    }
   ],
   "source": [
    "# selecting one column named 'GROUP' from pandas dataframe.\n",
    "pd_rating_df['GROUP']"
   ]
  },
  {
   "cell_type": "code",
   "execution_count": 27,
   "metadata": {},
   "outputs": [],
   "source": [
    "import numpy as np "
   ]
  },
  {
   "cell_type": "code",
   "execution_count": 28,
   "metadata": {},
   "outputs": [
    {
     "data": {
      "text/plain": [
       "<module 'numpy' from 'C:\\\\Anaconda3\\\\lib\\\\site-packages\\\\numpy\\\\__init__.py'>"
      ]
     },
     "execution_count": 28,
     "metadata": {},
     "output_type": "execute_result"
    }
   ],
   "source": [
    "np"
   ]
  },
  {
   "cell_type": "code",
   "execution_count": 32,
   "metadata": {},
   "outputs": [
    {
     "data": {
      "text/plain": [
       "<module 'pandas' from 'C:\\\\Anaconda3\\\\lib\\\\site-packages\\\\pandas\\\\__init__.py'>"
      ]
     },
     "execution_count": 32,
     "metadata": {},
     "output_type": "execute_result"
    }
   ],
   "source": [
    "pd"
   ]
  },
  {
   "cell_type": "code",
   "execution_count": 34,
   "metadata": {},
   "outputs": [],
   "source": [
    "# create a series using pandas taking 1000 random numbers from 'random.randn' package of python\n",
    "# index of this series will be dates -- index will contain 1000 dates starting from 1/1/2000.\n",
    "\n",
    "num=pd.Series(np.random.randn(1000),index=pd.date_range('1/1/2000',periods=1000))"
   ]
  },
  {
   "cell_type": "code",
   "execution_count": 35,
   "metadata": {},
   "outputs": [
    {
     "data": {
      "text/plain": [
       "2000-01-01    1.451315\n",
       "2000-01-02   -0.011233\n",
       "2000-01-03    1.244259\n",
       "2000-01-04   -0.494571\n",
       "2000-01-05    0.521825\n",
       "                ...   \n",
       "2002-09-22   -0.451296\n",
       "2002-09-23    1.052378\n",
       "2002-09-24    1.130259\n",
       "2002-09-25    2.208690\n",
       "2002-09-26   -0.497320\n",
       "Freq: D, Length: 1000, dtype: float64"
      ]
     },
     "execution_count": 35,
     "metadata": {},
     "output_type": "execute_result"
    }
   ],
   "source": [
    "num"
   ]
  },
  {
   "cell_type": "code",
   "execution_count": 37,
   "metadata": {},
   "outputs": [
    {
     "data": {
      "text/plain": [
       "2000-01-01     1.451315\n",
       "2000-01-02     1.440082\n",
       "2000-01-03     2.684341\n",
       "2000-01-04     2.189770\n",
       "2000-01-05     2.711595\n",
       "                ...    \n",
       "2002-09-22     8.636513\n",
       "2002-09-23     9.688891\n",
       "2002-09-24    10.819149\n",
       "2002-09-25    13.027839\n",
       "2002-09-26    12.530520\n",
       "Freq: D, Length: 1000, dtype: float64"
      ]
     },
     "execution_count": 37,
     "metadata": {},
     "output_type": "execute_result"
    }
   ],
   "source": [
    "# get cummulative sum of this series using 'cumsum' function of pandas series. \n",
    "\n",
    "cumsum_ser=num.cumsum()\n",
    "cumsum_ser"
   ]
  },
  {
   "cell_type": "code",
   "execution_count": 72,
   "metadata": {},
   "outputs": [],
   "source": [
    "import matplotlib.pyplot as plt"
   ]
  },
  {
   "cell_type": "code",
   "execution_count": 74,
   "metadata": {},
   "outputs": [
    {
     "data": {
      "text/plain": [
       "<matplotlib.axes._subplots.AxesSubplot at 0x608e6649c8>"
      ]
     },
     "execution_count": 74,
     "metadata": {},
     "output_type": "execute_result"
    },
    {
     "data": {
      "image/png": "[encoded data removed]",
      "text/plain": [
       "<Figure size 432x288 with 1 Axes>"
      ]
     },
     "metadata": {
      "needs_background": "light"
     },
     "output_type": "display_data"
    }
   ],
   "source": [
    "cumsum_ser.plot()"
   ]
  },
  {
   "cell_type": "code",
   "execution_count": 46,
   "metadata": {},
   "outputs": [
    {
     "data": {
      "text/html": [
       "<div>\n",
       "<style scoped>\n",
       "    .dataframe tbody tr th:only-of-type {\n",
       "        vertical-align: middle;\n",
       "    }\n",
       "\n",
       "    .dataframe tbody tr th {\n",
       "        vertical-align: top;\n",
       "    }\n",
       "\n",
       "    .dataframe thead th {\n",
       "        text-align: right;\n",
       "    }\n",
       "</style>\n",
       "<table border=\"1\" class=\"dataframe\">\n",
       "  <thead>\n",
       "    <tr style=\"text-align: right;\">\n",
       "      <th></th>\n",
       "      <th>B</th>\n",
       "      <th>C</th>\n",
       "    </tr>\n",
       "  </thead>\n",
       "  <tbody>\n",
       "    <tr>\n",
       "      <td>0</td>\n",
       "      <td>0.768619</td>\n",
       "      <td>0.676004</td>\n",
       "    </tr>\n",
       "    <tr>\n",
       "      <td>1</td>\n",
       "      <td>1.079144</td>\n",
       "      <td>1.583260</td>\n",
       "    </tr>\n",
       "    <tr>\n",
       "      <td>2</td>\n",
       "      <td>1.992934</td>\n",
       "      <td>1.903758</td>\n",
       "    </tr>\n",
       "    <tr>\n",
       "      <td>3</td>\n",
       "      <td>2.107892</td>\n",
       "      <td>2.456471</td>\n",
       "    </tr>\n",
       "    <tr>\n",
       "      <td>4</td>\n",
       "      <td>2.829295</td>\n",
       "      <td>2.660259</td>\n",
       "    </tr>\n",
       "    <tr>\n",
       "      <td>5</td>\n",
       "      <td>3.333609</td>\n",
       "      <td>3.104844</td>\n",
       "    </tr>\n",
       "    <tr>\n",
       "      <td>6</td>\n",
       "      <td>4.215919</td>\n",
       "      <td>3.242892</td>\n",
       "    </tr>\n",
       "    <tr>\n",
       "      <td>7</td>\n",
       "      <td>4.467234</td>\n",
       "      <td>4.126259</td>\n",
       "    </tr>\n",
       "    <tr>\n",
       "      <td>8</td>\n",
       "      <td>5.058547</td>\n",
       "      <td>4.347092</td>\n",
       "    </tr>\n",
       "    <tr>\n",
       "      <td>9</td>\n",
       "      <td>5.071475</td>\n",
       "      <td>4.995659</td>\n",
       "    </tr>\n",
       "  </tbody>\n",
       "</table>\n",
       "</div>"
      ],
      "text/plain": [
       "          B         C\n",
       "0  0.768619  0.676004\n",
       "1  1.079144  1.583260\n",
       "2  1.992934  1.903758\n",
       "3  2.107892  2.456471\n",
       "4  2.829295  2.660259\n",
       "5  3.333609  3.104844\n",
       "6  4.215919  3.242892\n",
       "7  4.467234  4.126259\n",
       "8  5.058547  4.347092\n",
       "9  5.071475  4.995659"
      ]
     },
     "execution_count": 46,
     "metadata": {},
     "output_type": "execute_result"
    }
   ],
   "source": [
    "df1=pd.DataFrame(np.random.rand(10,2),columns=['B','C']).cumsum()\n",
    "df1"
   ]
  },
  {
   "cell_type": "code",
   "execution_count": 54,
   "metadata": {},
   "outputs": [],
   "source": [
    "df1['A']=pd.Series(np.random.rand(10))"
   ]
  },
  {
   "cell_type": "code",
   "execution_count": 55,
   "metadata": {},
   "outputs": [
    {
     "data": {
      "text/plain": [
       "0    0.535004\n",
       "1    0.301879\n",
       "2    0.523546\n",
       "3    0.817233\n",
       "4    0.070185\n",
       "5    0.412875\n",
       "6    0.352511\n",
       "7    0.466998\n",
       "8    0.588693\n",
       "9    0.397579\n",
       "Name: A, dtype: float64"
      ]
     },
     "execution_count": 55,
     "metadata": {},
     "output_type": "execute_result"
    }
   ],
   "source": [
    "df1['A']"
   ]
  },
  {
   "cell_type": "code",
   "execution_count": 52,
   "metadata": {
    "collapsed": true
   },
   "outputs": [
    {
     "data": {
      "text/plain": [
       "array([[0.87458852, 0.50523225],\n",
       "       [0.73170295, 0.25242445],\n",
       "       [0.31258546, 0.72362635],\n",
       "       [0.32975789, 0.68300663],\n",
       "       [0.38937954, 0.75212214],\n",
       "       [0.21615084, 0.73380833],\n",
       "       [0.77382873, 0.27206847],\n",
       "       [0.04944898, 0.33997203],\n",
       "       [0.09496418, 0.32706781],\n",
       "       [0.52417691, 0.74600011]])"
      ]
     },
     "execution_count": 52,
     "metadata": {},
     "output_type": "execute_result"
    }
   ],
   "source": [
    "np.random.rand(10,2)"
   ]
  },
  {
   "cell_type": "code",
   "execution_count": 59,
   "metadata": {},
   "outputs": [
    {
     "data": {
      "image/png": "[encoded data removed]",
      "text/plain": [
       "<Figure size 432x288 with 1 Axes>"
      ]
     },
     "metadata": {
      "needs_background": "light"
     },
     "output_type": "display_data"
    }
   ],
   "source": [
    "plt.plot([1,2,3,4,5])\n",
    "\n",
    "plt.ylabel('some numbers')\n",
    "plt.xlabel('some random numbers')\n",
    "\n",
    "plt.show()"
   ]
  },
  {
   "cell_type": "code",
   "execution_count": 75,
   "metadata": {},
   "outputs": [
    {
     "data": {
      "image/png": "[encoded data removed]",
      "text/plain": [
       "<Figure size 432x288 with 1 Axes>"
      ]
     },
     "metadata": {
      "needs_background": "light"
     },
     "output_type": "display_data"
    }
   ],
   "source": [
    "lst=[1,2,3,4,5,6,7]\n",
    "plt.plot(lst)\n",
    "plt.ylabel('some numbers')\n",
    "plt.xlabel('some numbers')\n",
    "plt.show()"
   ]
  },
  {
   "cell_type": "code",
   "execution_count": 79,
   "metadata": {},
   "outputs": [
    {
     "data": {
      "image/png": "[encoded data removed]",
      "text/plain": [
       "<Figure size 432x288 with 1 Axes>"
      ]
     },
     "metadata": {
      "needs_background": "light"
     },
     "output_type": "display_data"
    }
   ],
   "source": [
    "plt.plot([1,2,3,4],[10,20,30,40])\n",
    "plt.xlabel('1 to 4')\n",
    "plt.ylabel('10 to 40')\n",
    "plt.show()"
   ]
  },
  {
   "cell_type": "code",
   "execution_count": 80,
   "metadata": {},
   "outputs": [
    {
     "data": {
      "image/png": "[encoded data removed]",
      "text/plain": [
       "<Figure size 432x288 with 1 Axes>"
      ]
     },
     "metadata": {
      "needs_background": "light"
     },
     "output_type": "display_data"
    }
   ],
   "source": [
    "plt.plot([1,2,3,4],[10,20,30,40],'ro')\n",
    "plt.show()"
   ]
  },
  {
   "cell_type": "code",
   "execution_count": 89,
   "metadata": {},
   "outputs": [
    {
     "data": {
      "image/png": "[encoded data removed]",
      "text/plain": [
       "<Figure size 432x288 with 1 Axes>"
      ]
     },
     "metadata": {
      "needs_background": "light"
     },
     "output_type": "display_data"
    }
   ],
   "source": [
    "plt.plot([1,2,3,4],[10,10.25,20,8],'ro')\n",
    "# plt.axis([6,15,12,30])  this decides (xmin,xmax,ymin,ymax)\n",
    "plt.xlabel('x axis')\n",
    "plt.ylabel('y axis')\n",
    "plt.show()"
   ]
  },
  {
   "cell_type": "code",
   "execution_count": 90,
   "metadata": {},
   "outputs": [
    {
     "data": {
      "text/plain": [
       "<module 'numpy' from 'C:\\\\Anaconda3\\\\lib\\\\site-packages\\\\numpy\\\\__init__.py'>"
      ]
     },
     "execution_count": 90,
     "metadata": {},
     "output_type": "execute_result"
    }
   ],
   "source": [
    "np\n"
   ]
  },
  {
   "cell_type": "code",
   "execution_count": 106,
   "metadata": {},
   "outputs": [
    {
     "data": {
      "text/plain": [
       "array([ 5,  7,  9, 11, 13, 15, 17, 19])"
      ]
     },
     "execution_count": 106,
     "metadata": {},
     "output_type": "execute_result"
    }
   ],
   "source": [
    "t=np.arange(5,20,2)\n",
    "t\n"
   ]
  },
  {
   "cell_type": "code",
   "execution_count": 102,
   "metadata": {},
   "outputs": [
    {
     "data": {
      "text/plain": [
       "array([100, 169, 256, 361], dtype=int32)"
      ]
     },
     "execution_count": 102,
     "metadata": {},
     "output_type": "execute_result"
    }
   ],
   "source": [
    "t**2"
   ]
  },
  {
   "cell_type": "code",
   "execution_count": 107,
   "metadata": {},
   "outputs": [
    {
     "data": {
      "image/png": "[encoded data removed]",
      "text/plain": [
       "<Figure size 432x288 with 1 Axes>"
      ]
     },
     "metadata": {
      "needs_background": "light"
     },
     "output_type": "display_data"
    }
   ],
   "source": [
    "plt.plot(t,t,'r--',t,t**3,'bs',t,t**4,'g^')\n",
    "plt.show()"
   ]
  },
  {
   "cell_type": "code",
   "execution_count": 110,
   "metadata": {},
   "outputs": [
    {
     "data": {
      "image/png": "[encoded data removed]",
      "text/plain": [
       "<Figure size 432x288 with 1 Axes>"
      ]
     },
     "metadata": {
      "needs_background": "light"
     },
     "output_type": "display_data"
    }
   ],
   "source": [
    "plt.plot([1,2,3,4,5],'g^')\n",
    "plt.show()"
   ]
  },
  {
   "cell_type": "code",
   "execution_count": 66,
   "metadata": {},
   "outputs": [
    {
     "data": {
      "text/plain": [
       "range(0, 6)"
      ]
     },
     "execution_count": 66,
     "metadata": {},
     "output_type": "execute_result"
    }
   ],
   "source": [
    "range(6)"
   ]
  },
  {
   "cell_type": "code",
   "execution_count": 67,
   "metadata": {},
   "outputs": [
    {
     "name": "stdout",
     "output_type": "stream",
     "text": [
      "0\n",
      "1\n",
      "2\n",
      "3\n",
      "4\n",
      "5\n",
      "6\n",
      "7\n",
      "8\n",
      "9\n"
     ]
    }
   ],
   "source": [
    "for ele in range(10):\n",
    "    print(ele)"
   ]
  },
  {
   "cell_type": "code",
   "execution_count": 68,
   "metadata": {},
   "outputs": [
    {
     "name": "stdout",
     "output_type": "stream",
     "text": [
      "range(0, 10)\n"
     ]
    }
   ],
   "source": [
    "print(range(10))"
   ]
  }
 ],
 "metadata": {
  "kernelspec": {
   "display_name": "Python 3",
   "language": "python",
   "name": "python3"
  },
  "language_info": {
   "codemirror_mode": {
    "name": "ipython",
    "version": 3
   },
   "file_extension": ".py",
   "mimetype": "text/x-python",
   "name": "python",
   "nbconvert_exporter": "python",
   "pygments_lexer": "ipython3",
   "version": "3.7.4"
  }
 },
 "nbformat": 4,
 "nbformat_minor": 2
}
