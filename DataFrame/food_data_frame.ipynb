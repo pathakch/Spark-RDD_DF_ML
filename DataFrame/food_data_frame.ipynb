{
 "cells": [
  {
   "cell_type": "code",
   "execution_count": 8,
   "metadata": {},
   "outputs": [],
   "source": [
    "import pyspark\n",
    "import findspark\n",
    "findspark.find()\n",
    "findspark.init()\n",
    "from pyspark.sql import *\n",
    "from pyspark.sql import Row\n",
    "from pyspark.sql import SQLContext\n",
    "from pyspark import SparkConf\n",
    "from pyspark import SparkContext\n",
    "sc=SparkContext.getOrCreate(SparkConf().setMaster(\"local[*]\"))\n"
   ]
  },
  {
   "cell_type": "code",
   "execution_count": 27,
   "metadata": {},
   "outputs": [],
   "source": [
    "#machine learning libs......\n",
    "\n",
    "from pyspark.ml import Pipeline\n",
    "from pyspark.ml.classification import LogisticRegression\n",
    "from pyspark.sql.types import *\n",
    "from pyspark.sql.functions import UserDefinedFunction\n",
    "from IPython import get_ipython\n",
    "from pyspark.ml.feature import HashingTF,Tokenizer"
   ]
  },
  {
   "cell_type": "code",
   "execution_count": null,
   "metadata": {},
   "outputs": [],
   "source": []
  },
  {
   "cell_type": "code",
   "execution_count": 31,
   "metadata": {},
   "outputs": [],
   "source": [
    "sqlcontext=SQLContext(sc) "
   ]
  },
  {
   "cell_type": "code",
   "execution_count": 12,
   "metadata": {},
   "outputs": [],
   "source": [
    "input_file_path=\"file:///C:/Users/ckp43_000/Documents/food-inspections.csv\"\n",
    "food_df=sqlcontext.read.csv(input_file_path,inferSchema=True,header=True)"
   ]
  },
  {
   "cell_type": "code",
   "execution_count": 13,
   "metadata": {
    "scrolled": true
   },
   "outputs": [
    {
     "name": "stdout",
     "output_type": "stream",
     "text": [
      "+-------------+--------------------+--------------------+---------+--------------------+-------------+--------------------+-------+-----+-----+--------------------+--------------------+------------------+--------------------+------------------+------------------+--------------------+--------------------------+---------+---------------+-------------+-----+\n",
      "|Inspection ID|            DBA Name|            AKA Name|License #|       Facility Type|         Risk|             Address|   City|State|  Zip|     Inspection Date|     Inspection Type|           Results|          Violations|          Latitude|         Longitude|            Location|Historical Wards 2003-2015|Zip Codes|Community Areas|Census Tracts|Wards|\n",
      "+-------------+--------------------+--------------------+---------+--------------------+-------------+--------------------+-------+-----+-----+--------------------+--------------------+------------------+--------------------+------------------+------------------+--------------------+--------------------------+---------+---------------+-------------+-----+\n",
      "|      2352683|CHIPOTLE MEXICAN ...|CHIPOTLE MEXICAN ...|  2670642|          Restaurant|Risk 1 (High)|  1025 W ADDISON ST |CHICAGO|   IL|60613|2019-12-04T00:00:...|License Re-Inspec...|Pass w/ Conditions|3. MANAGEMENT, FO...| 41.94711774835235| -87.6553811622124|{'latitude': '-87...|                      null|     null|           null|         null| null|\n",
      "|      2352734|         CHILI'S T-I|    CHILI'S (T1-B14)|    34169|          Restaurant|Risk 1 (High)|  11601 W TOUHY AVE |CHICAGO|   IL|60666|2019-12-04T00:00:...|             Canvass|              Pass|10. ADEQUATE HAND...|42.008536400868735|-87.91442843927047|{'latitude': '-87...|                      null|     null|           null|         null| null|\n",
      "|      2352713|NICK'S FIRE GRILL...|NICK'S FIRE GRILL...|  2699090|                null|Risk 1 (High)|     2900 W 63RD ST |CHICAGO|   IL|60629|2019-12-04T00:00:...|             License|         Not Ready|                null|41.779189500114654|-87.69589237398256|{'latitude': '-87...|                      null|     null|           null|         null| null|\n",
      "|      2352701|TAQUERIA BLUE LIN...|                null|  2703436|          Restaurant|Risk 1 (High)| 3401 W BELMONT AVE |CHICAGO|   IL|60618|2019-12-04T00:00:...|             License|Pass w/ Conditions|3. MANAGEMENT, FO...| 41.93916783376966|-87.71254599117191|{'latitude': '-87...|                      null|     null|           null|         null| null|\n",
      "|      2352727|PORTAGE PARK DAY ...|MOSAIC EARLY CHIL...|  2215815|Children's Servic...|Risk 1 (High)|5332-5334 W ADDIS...|CHICAGO|   IL|60641|2019-12-04T00:00:...|             Canvass|              Pass|                null|41.946064744956374|-87.76072227616888|{'latitude': '-87...|                      null|     null|           null|         null| null|\n",
      "|      2352738|   AMARIT RESTAURANT|   AMARIT RESTAURANT|  1801618|          Restaurant|Risk 1 (High)|  600 S DEARBORN ST |CHICAGO|   IL|60605|2019-12-04T00:00:...|Canvass Re-Inspec...|              Pass|                null| 41.87448116568133|-87.62935653990546|{'latitude': '-87...|                      null|     null|           null|         null| null|\n",
      "|      2352684|CHIPOTLE MEXICAN ...|CHIPOTLE MEXICAN ...|  2670643|          Restaurant|Risk 1 (High)|  1025 W ADDISON ST |CHICAGO|   IL|60613|2019-12-04T00:00:...|License Re-Inspec...|Pass w/ Conditions|                null| 41.94711774835235| -87.6553811622124|{'latitude': '-87...|                      null|     null|           null|         null| null|\n",
      "|      2352702|  NAIBOA LATIN STORE|  NAIBOA LATIN STORE|  2698776|       Grocery Store| Risk 3 (Low)|    3349 N CLARK ST |CHICAGO|   IL|60657|2019-12-04T00:00:...|             License|Pass w/ Conditions|5. PROCEDURES FOR...|41.943031768727145|-87.65299525711882|{'latitude': '-87...|                      null|     null|           null|         null| null|\n",
      "|      2352718|            JAMIESON|JAMIESON PUBLIC S...|    23931|              School|Risk 1 (High)|      5650 N MOZART |CHICAGO|   IL|60659|2019-12-04T00:00:...|             Canvass|              Pass|49. NON-FOOD/FOOD...|41.984613716529374|-87.70056525028134|{'latitude': '-87...|                      null|     null|           null|         null| null|\n",
      "|      2352696|GATEWAY MONTESSOR...|  GATEWAY MONTESSORI|  2506383|Children's Servic...|Risk 1 (High)|  4041 N PULASKI RD |CHICAGO|   IL|60641|2019-12-04T00:00:...|             Canvass|              Pass|                null| 41.95487664850197|-87.72750513009342|{'latitude': '-87...|                      null|     null|           null|         null| null|\n",
      "+-------------+--------------------+--------------------+---------+--------------------+-------------+--------------------+-------+-----+-----+--------------------+--------------------+------------------+--------------------+------------------+------------------+--------------------+--------------------------+---------+---------------+-------------+-----+\n",
      "only showing top 10 rows\n",
      "\n"
     ]
    }
   ],
   "source": [
    "food_df.show(10)"
   ]
  },
  {
   "cell_type": "code",
   "execution_count": 14,
   "metadata": {},
   "outputs": [
    {
     "name": "stdout",
     "output_type": "stream",
     "text": [
      "root\n",
      " |-- Inspection ID: integer (nullable = true)\n",
      " |-- DBA Name: string (nullable = true)\n",
      " |-- AKA Name: string (nullable = true)\n",
      " |-- License #: integer (nullable = true)\n",
      " |-- Facility Type: string (nullable = true)\n",
      " |-- Risk: string (nullable = true)\n",
      " |-- Address: string (nullable = true)\n",
      " |-- City: string (nullable = true)\n",
      " |-- State: string (nullable = true)\n",
      " |-- Zip: integer (nullable = true)\n",
      " |-- Inspection Date: string (nullable = true)\n",
      " |-- Inspection Type: string (nullable = true)\n",
      " |-- Results: string (nullable = true)\n",
      " |-- Violations: string (nullable = true)\n",
      " |-- Latitude: double (nullable = true)\n",
      " |-- Longitude: double (nullable = true)\n",
      " |-- Location: string (nullable = true)\n",
      " |-- Historical Wards 2003-2015: string (nullable = true)\n",
      " |-- Zip Codes: string (nullable = true)\n",
      " |-- Community Areas: string (nullable = true)\n",
      " |-- Census Tracts: string (nullable = true)\n",
      " |-- Wards: string (nullable = true)\n",
      "\n"
     ]
    }
   ],
   "source": [
    "food_df.printSchema()"
   ]
  },
  {
   "cell_type": "code",
   "execution_count": 15,
   "metadata": {
    "scrolled": true
   },
   "outputs": [
    {
     "name": "stdout",
     "output_type": "stream",
     "text": [
      "+-------------+--------------------+--------------------+---------+--------------------+-------------+--------------------+-------+-----+-----+--------------------+--------------------+------------------+--------------------+------------------+------------------+--------------------+--------------------------+---------+---------------+-------------+-----+\n",
      "|Inspection ID|            DBA Name|            AKA Name|License #|       Facility Type|         Risk|             Address|   City|State|  Zip|     Inspection Date|     Inspection Type|           Results|          Violations|          Latitude|         Longitude|            Location|Historical Wards 2003-2015|Zip Codes|Community Areas|Census Tracts|Wards|\n",
      "+-------------+--------------------+--------------------+---------+--------------------+-------------+--------------------+-------+-----+-----+--------------------+--------------------+------------------+--------------------+------------------+------------------+--------------------+--------------------------+---------+---------------+-------------+-----+\n",
      "|      2352683|CHIPOTLE MEXICAN ...|CHIPOTLE MEXICAN ...|  2670642|          Restaurant|Risk 1 (High)|  1025 W ADDISON ST |CHICAGO|   IL|60613|2019-12-04T00:00:...|License Re-Inspec...|Pass w/ Conditions|3. MANAGEMENT, FO...| 41.94711774835235| -87.6553811622124|{'latitude': '-87...|                      null|     null|           null|         null| null|\n",
      "|      2352734|         CHILI'S T-I|    CHILI'S (T1-B14)|    34169|          Restaurant|Risk 1 (High)|  11601 W TOUHY AVE |CHICAGO|   IL|60666|2019-12-04T00:00:...|             Canvass|              Pass|10. ADEQUATE HAND...|42.008536400868735|-87.91442843927047|{'latitude': '-87...|                      null|     null|           null|         null| null|\n",
      "|      2352713|NICK'S FIRE GRILL...|NICK'S FIRE GRILL...|  2699090|                null|Risk 1 (High)|     2900 W 63RD ST |CHICAGO|   IL|60629|2019-12-04T00:00:...|             License|         Not Ready|                null|41.779189500114654|-87.69589237398256|{'latitude': '-87...|                      null|     null|           null|         null| null|\n",
      "|      2352701|TAQUERIA BLUE LIN...|                null|  2703436|          Restaurant|Risk 1 (High)| 3401 W BELMONT AVE |CHICAGO|   IL|60618|2019-12-04T00:00:...|             License|Pass w/ Conditions|3. MANAGEMENT, FO...| 41.93916783376966|-87.71254599117191|{'latitude': '-87...|                      null|     null|           null|         null| null|\n",
      "|      2352727|PORTAGE PARK DAY ...|MOSAIC EARLY CHIL...|  2215815|Children's Servic...|Risk 1 (High)|5332-5334 W ADDIS...|CHICAGO|   IL|60641|2019-12-04T00:00:...|             Canvass|              Pass|                null|41.946064744956374|-87.76072227616888|{'latitude': '-87...|                      null|     null|           null|         null| null|\n",
      "+-------------+--------------------+--------------------+---------+--------------------+-------------+--------------------+-------+-----+-----+--------------------+--------------------+------------------+--------------------+------------------+------------------+--------------------+--------------------------+---------+---------------+-------------+-----+\n",
      "only showing top 5 rows\n",
      "\n"
     ]
    }
   ],
   "source": [
    "food_df.show(5)"
   ]
  },
  {
   "cell_type": "code",
   "execution_count": 37,
   "metadata": {},
   "outputs": [],
   "source": [
    "food_Table=food_df.createOrReplaceTempView(\"food_Table\")"
   ]
  },
  {
   "cell_type": "code",
   "execution_count": 38,
   "metadata": {},
   "outputs": [
    {
     "name": "stdout",
     "output_type": "stream",
     "text": [
      "+--------------------+---------+-------+\n",
      "|            col_name|data_type|comment|\n",
      "+--------------------+---------+-------+\n",
      "|       Inspection ID|      int|   null|\n",
      "|            DBA Name|   string|   null|\n",
      "|            AKA Name|   string|   null|\n",
      "|           License #|      int|   null|\n",
      "|       Facility Type|   string|   null|\n",
      "|                Risk|   string|   null|\n",
      "|             Address|   string|   null|\n",
      "|                City|   string|   null|\n",
      "|               State|   string|   null|\n",
      "|                 Zip|      int|   null|\n",
      "|     Inspection Date|   string|   null|\n",
      "|     Inspection Type|   string|   null|\n",
      "|             Results|   string|   null|\n",
      "|          Violations|   string|   null|\n",
      "|            Latitude|   double|   null|\n",
      "|           Longitude|   double|   null|\n",
      "|            Location|   string|   null|\n",
      "|Historical Wards ...|   string|   null|\n",
      "|           Zip Codes|   string|   null|\n",
      "|     Community Areas|   string|   null|\n",
      "+--------------------+---------+-------+\n",
      "only showing top 20 rows\n",
      "\n"
     ]
    }
   ],
   "source": [
    "sqlcontext.sql(\"\"\"\n",
    "describe table food_Table\"\"\").show()"
   ]
  },
  {
   "cell_type": "code",
   "execution_count": 40,
   "metadata": {},
   "outputs": [
    {
     "name": "stdout",
     "output_type": "stream",
     "text": [
      "+-------------+--------------------+--------------------+---------+--------------------+-------------+--------------------+-------+-----+-----+--------------------+--------------------+------------------+--------------------+------------------+------------------+--------------------+--------------------------+---------+---------------+-------------+-----+\n",
      "|Inspection ID|            DBA Name|            AKA Name|License #|       Facility Type|         Risk|             Address|   City|State|  Zip|     Inspection Date|     Inspection Type|           Results|          Violations|          Latitude|         Longitude|            Location|Historical Wards 2003-2015|Zip Codes|Community Areas|Census Tracts|Wards|\n",
      "+-------------+--------------------+--------------------+---------+--------------------+-------------+--------------------+-------+-----+-----+--------------------+--------------------+------------------+--------------------+------------------+------------------+--------------------+--------------------------+---------+---------------+-------------+-----+\n",
      "|      2352683|CHIPOTLE MEXICAN ...|CHIPOTLE MEXICAN ...|  2670642|          Restaurant|Risk 1 (High)|  1025 W ADDISON ST |CHICAGO|   IL|60613|2019-12-04T00:00:...|License Re-Inspec...|Pass w/ Conditions|3. MANAGEMENT, FO...| 41.94711774835235| -87.6553811622124|{'latitude': '-87...|                      null|     null|           null|         null| null|\n",
      "|      2352734|         CHILI'S T-I|    CHILI'S (T1-B14)|    34169|          Restaurant|Risk 1 (High)|  11601 W TOUHY AVE |CHICAGO|   IL|60666|2019-12-04T00:00:...|             Canvass|              Pass|10. ADEQUATE HAND...|42.008536400868735|-87.91442843927047|{'latitude': '-87...|                      null|     null|           null|         null| null|\n",
      "|      2352713|NICK'S FIRE GRILL...|NICK'S FIRE GRILL...|  2699090|                null|Risk 1 (High)|     2900 W 63RD ST |CHICAGO|   IL|60629|2019-12-04T00:00:...|             License|         Not Ready|                null|41.779189500114654|-87.69589237398256|{'latitude': '-87...|                      null|     null|           null|         null| null|\n",
      "|      2352701|TAQUERIA BLUE LIN...|                null|  2703436|          Restaurant|Risk 1 (High)| 3401 W BELMONT AVE |CHICAGO|   IL|60618|2019-12-04T00:00:...|             License|Pass w/ Conditions|3. MANAGEMENT, FO...| 41.93916783376966|-87.71254599117191|{'latitude': '-87...|                      null|     null|           null|         null| null|\n",
      "|      2352727|PORTAGE PARK DAY ...|MOSAIC EARLY CHIL...|  2215815|Children's Servic...|Risk 1 (High)|5332-5334 W ADDIS...|CHICAGO|   IL|60641|2019-12-04T00:00:...|             Canvass|              Pass|                null|41.946064744956374|-87.76072227616888|{'latitude': '-87...|                      null|     null|           null|         null| null|\n",
      "|      2352738|   AMARIT RESTAURANT|   AMARIT RESTAURANT|  1801618|          Restaurant|Risk 1 (High)|  600 S DEARBORN ST |CHICAGO|   IL|60605|2019-12-04T00:00:...|Canvass Re-Inspec...|              Pass|                null| 41.87448116568133|-87.62935653990546|{'latitude': '-87...|                      null|     null|           null|         null| null|\n",
      "|      2352684|CHIPOTLE MEXICAN ...|CHIPOTLE MEXICAN ...|  2670643|          Restaurant|Risk 1 (High)|  1025 W ADDISON ST |CHICAGO|   IL|60613|2019-12-04T00:00:...|License Re-Inspec...|Pass w/ Conditions|                null| 41.94711774835235| -87.6553811622124|{'latitude': '-87...|                      null|     null|           null|         null| null|\n",
      "|      2352702|  NAIBOA LATIN STORE|  NAIBOA LATIN STORE|  2698776|       Grocery Store| Risk 3 (Low)|    3349 N CLARK ST |CHICAGO|   IL|60657|2019-12-04T00:00:...|             License|Pass w/ Conditions|5. PROCEDURES FOR...|41.943031768727145|-87.65299525711882|{'latitude': '-87...|                      null|     null|           null|         null| null|\n",
      "|      2352718|            JAMIESON|JAMIESON PUBLIC S...|    23931|              School|Risk 1 (High)|      5650 N MOZART |CHICAGO|   IL|60659|2019-12-04T00:00:...|             Canvass|              Pass|49. NON-FOOD/FOOD...|41.984613716529374|-87.70056525028134|{'latitude': '-87...|                      null|     null|           null|         null| null|\n",
      "|      2352696|GATEWAY MONTESSOR...|  GATEWAY MONTESSORI|  2506383|Children's Servic...|Risk 1 (High)|  4041 N PULASKI RD |CHICAGO|   IL|60641|2019-12-04T00:00:...|             Canvass|              Pass|                null| 41.95487664850197|-87.72750513009342|{'latitude': '-87...|                      null|     null|           null|         null| null|\n",
      "+-------------+--------------------+--------------------+---------+--------------------+-------------+--------------------+-------+-----+-----+--------------------+--------------------+------------------+--------------------+------------------+------------------+--------------------+--------------------------+---------+---------------+-------------+-----+\n",
      "\n"
     ]
    }
   ],
   "source": [
    "sqlcontext.sql(\"\"\"\n",
    "select b* from food_Table limit 10\"\"\").show()"
   ]
  },
  {
   "cell_type": "code",
   "execution_count": 41,
   "metadata": {},
   "outputs": [
    {
     "name": "stdout",
     "output_type": "stream",
     "text": [
      "+--------+\n",
      "|count(1)|\n",
      "+--------+\n",
      "|  196825|\n",
      "+--------+\n",
      "\n"
     ]
    }
   ],
   "source": [
    "sqlcontext.sql(\"\"\"\n",
    "select count(*) from food_Table\"\"\").show()"
   ]
  },
  {
   "cell_type": "markdown",
   "metadata": {},
   "source": [
    "### Creating rdd from a file\n",
    "     --->>> to create rdd we need SparkContext (sc)\n",
    "          rdd=sc.textFile('file_path')"
   ]
  },
  {
   "cell_type": "code",
   "execution_count": 32,
   "metadata": {},
   "outputs": [],
   "source": [
    "food_rdd=sc.textFile(input_file_path)"
   ]
  },
  {
   "cell_type": "code",
   "execution_count": 33,
   "metadata": {},
   "outputs": [
    {
     "data": {
      "text/plain": [
       "['Inspection ID,DBA Name,AKA Name,License #,Facility Type,Risk,Address,City,State,Zip,Inspection Date,Inspection Type,Results,Violations,Latitude,Longitude,Location,Historical Wards 2003-2015,Zip Codes,Community Areas,Census Tracts,Wards']"
      ]
     },
     "execution_count": 33,
     "metadata": {},
     "output_type": "execute_result"
    }
   ],
   "source": [
    "food_rdd.take(1) "
   ]
  },
  {
   "cell_type": "code",
   "execution_count": 34,
   "metadata": {},
   "outputs": [
    {
     "data": {
      "text/plain": [
       "['Inspection ID,DBA Name,AKA Name,License #,Facility Type,Risk,Address,City,State,Zip,Inspection Date,Inspection Type,Results,Violations,Latitude,Longitude,Location,Historical Wards 2003-2015,Zip Codes,Community Areas,Census Tracts,Wards',\n",
       " '2352683,CHIPOTLE MEXICAN GRILL,CHIPOTLE MEXICAN GRILL,2670642,Restaurant,Risk 1 (High),1025 W ADDISON ST ,CHICAGO,IL,60613,2019-12-04T00:00:00.000,License Re-Inspection,Pass w/ Conditions,\"3. MANAGEMENT, FOOD EMPLOYEE AND CONDITIONAL EMPLOYEE; KNOWLEDGE, RESPONSIBILITIES AND REPORTING - Comments: FOUND NO EMPLOYEE HEALTH POLICY AT PREMISES. PRIORITY FOUNDATION. NO CITATION ISSUED. 7-38-010. MUST PROVIDE.\",41.94711774835235,-87.6553811622124,\"{\\'latitude\\': \\'-87.6553811622124\\', \\'longitude\\': \\'41.94711774835235\\'}\",,,,,',\n",
       " '2352734,CHILI\\'S T-I,CHILI\\'S (T1-B14),34169,Restaurant,Risk 1 (High),11601 W TOUHY AVE ,CHICAGO,IL,60666,2019-12-04T00:00:00.000,Canvass,Pass,\"10. ADEQUATE HANDWASHING SINKS PROPERLY SUPPLIED AND ACCESSIBLE - Comments: OBSERVED NO HAND WASHING SIGNAGE FOR HAND SINK AT REAR DISH WASHING AREA.MUST PROVIDE AND MAINTAIN. | 47. FOOD & NON-FOOD CONTACT SURFACES CLEANABLE, PROPERLY DESIGNED, CONSTRUCTED & USED - Comments: OBSERVED A TORN DOOR GASKET INSIDE OF THE 2 DOOR PREP COOLER SHOWED MANAGER. MUST REPLACE THE TORN DOOR GASKET AND TO MAINTAIN. | 49. NON-FOOD/FOOD CONTACT SURFACES CLEAN - Comments: INSTRUCTED TO DETAIL CLEAN AND MAINTAIN THE INTERIORS OF PREP COOLERS IN THE FOOD PREP AREA AND THE SIDES OF HOT COOKING EQUIPMENTS. | 55. PHYSICAL FACILITIES INSTALLED, MAINTAINED & CLEAN - Comments: INSTRUCTED TO REMOVE DUSTS AND FOOD SPLASHED DEBRIS ON WALLS AND CEILINGS AND ATTACHED CEILING VENTILATION COVERS IN FOOD PREP AREA AND REAR DISH WASHING AREA SHOWED MANAGER AND TO MAINTAIN. | 55. PHYSICAL FACILITIES INSTALLED, MAINTAINED & CLEAN - Comments: OBSERVED DIRTY FLOORS UNDER AND AROUND THE ICE MACHINE SHOWED MANAGER,CLEAN FLOORS IN DETAIL AND TO MAINTAIN.\",42.008536400868735,-87.91442843927047,\"{\\'latitude\\': \\'-87.91442843927047\\', \\'longitude\\': \\'42.008536400868735\\'}\",,,,,']"
      ]
     },
     "execution_count": 34,
     "metadata": {},
     "output_type": "execute_result"
    }
   ],
   "source": [
    "food_rdd.take(3)"
   ]
  },
  {
   "cell_type": "code",
   "execution_count": null,
   "metadata": {},
   "outputs": [],
   "source": []
  },
  {
   "cell_type": "code",
   "execution_count": null,
   "metadata": {},
   "outputs": [],
   "source": []
  }
 ],
 "metadata": {
  "kernelspec": {
   "display_name": "Python 3",
   "language": "python",
   "name": "python3"
  },
  "language_info": {
   "codemirror_mode": {
    "name": "ipython",
    "version": 3
   },
   "file_extension": ".py",
   "mimetype": "text/x-python",
   "name": "python",
   "nbconvert_exporter": "python",
   "pygments_lexer": "ipython3",
   "version": "3.7.4"
  }
 },
 "nbformat": 4,
 "nbformat_minor": 2
}
