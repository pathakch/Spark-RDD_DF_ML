{
 "cells": [
  {
   "cell_type": "code",
   "execution_count": 2,
   "metadata": {},
   "outputs": [],
   "source": [
    "import pyspark\n",
    "from pyspark.sql import Row\n",
    "from pyspark import SparkConf\n",
    "from pyspark import SparkContext\n",
    "sc=SparkContext.getOrCreate(SparkConf().setMaster(\"local[*]\"))\n",
    "from pyspark.sql import *\n",
    "from pyspark.sql import SQLContext\n",
    "import time"
   ]
  },
  {
   "attachments": {},
   "cell_type": "markdown",
   "metadata": {},
   "source": [
    "There are two method to create DataFrame in spark \n",
    "\n",
    "          1.using SQLContext\n",
    "          2.Using SparkSession\n",
    "          \n",
    "      In spark previous version there was no any concept of SparkSession then, we were using SQLContext\n",
    "      \n",
    "      But from Spark version 2 they introduced SparkSession and name of SparkSession will be 'spark' ideally "
   ]
  },
  {
   "attachments": {},
   "cell_type": "markdown",
   "metadata": {},
   "source": [
    " Creating SQLContext \n",
    " \n",
    "    To create sqlcontext we use 'sc' (which has been created in irst cell of this notebook.)\n",
    "    so basically to create sqlcontext we need this check below -->>> check below\n",
    "        imports needed : \n",
    "             from pyspark import SparkConf\n",
    "             from pyspark import SparkContext\n",
    "             sc=SparkContext.getOrCreate(SparkConf().setMaster(\"local[*]\"))\n",
    "             from pyspark.sql import *\n",
    "             from pyspark.sql import SQLContext\n",
    "\n",
    "             sqlcontext=SQLContext(sc) \n",
    "             \n"
   ]
  },
  {
   "attachments": {},
   "cell_type": "markdown",
   "metadata": {},
   "source": [
    "Creating SparkSession\n",
    "\n",
    "To create SparkSession we use below imports and code.\n",
    "--->>>> imports needed :\n",
    "\n",
    "        from pyspark.sql import SparkSession\n",
    "        spark=SparkSession.builder.appName('New').getOrCreate()\n",
    "\n"
   ]
  },
  {
   "cell_type": "code",
   "execution_count": null,
   "metadata": {},
   "outputs": [],
   "source": [
    "# creating sqlcontext as mentioned above.\n",
    "sqlcontext=SQLContext(sc)"
   ]
  },
  {
   "cell_type": "code",
   "execution_count": null,
   "metadata": {},
   "outputs": [],
   "source": [
    "# creating sparksession as mentioned above.\n",
    "spark=SparkSession.builder.appName('New').getOrCreate()"
   ]
  },
  {
   "cell_type": "code",
   "execution_count": 5,
   "metadata": {},
   "outputs": [
    {
     "data": {
      "text/html": [
       "\n",
       "            <div>\n",
       "                <p><b>SparkSession - in-memory</b></p>\n",
       "                \n",
       "        <div>\n",
       "            <p><b>SparkContext</b></p>\n",
       "\n",
       "            <p><a href=\"http://cpc:4040\">Spark UI</a></p>\n",
       "\n",
       "            <dl>\n",
       "              <dt>Version</dt>\n",
       "                <dd><code>v3.0.0-preview2</code></dd>\n",
       "              <dt>Master</dt>\n",
       "                <dd><code>local[*]</code></dd>\n",
       "              <dt>AppName</dt>\n",
       "                <dd><code>pyspark-shell</code></dd>\n",
       "            </dl>\n",
       "        </div>\n",
       "        \n",
       "            </div>\n",
       "        "
      ],
      "text/plain": [
       "<pyspark.sql.session.SparkSession at 0x3f2b0d7ac8>"
      ]
     },
     "execution_count": 5,
     "metadata": {},
     "output_type": "execute_result"
    }
   ],
   "source": [
    "# checking whether sparksession has been created or not.\n",
    "spark"
   ]
  },
  {
   "cell_type": "code",
   "execution_count": 47,
   "metadata": {},
   "outputs": [
    {
     "data": {
      "text/plain": [
       "<pyspark.sql.context.SQLContext at 0xbcee6b4088>"
      ]
     },
     "execution_count": 47,
     "metadata": {},
     "output_type": "execute_result"
    }
   ],
   "source": [
    "#checking whether sqlcontext has been created or not.\n",
    "sqlcontext"
   ]
  },
  {
   "cell_type": "code",
   "execution_count": 12,
   "metadata": {},
   "outputs": [
    {
     "data": {
      "text/html": [
       "\n",
       "        <div>\n",
       "            <p><b>SparkContext</b></p>\n",
       "\n",
       "            <p><a href=\"http://cpc:4040\">Spark UI</a></p>\n",
       "\n",
       "            <dl>\n",
       "              <dt>Version</dt>\n",
       "                <dd><code>v3.0.0-preview2</code></dd>\n",
       "              <dt>Master</dt>\n",
       "                <dd><code>local[*]</code></dd>\n",
       "              <dt>AppName</dt>\n",
       "                <dd><code>pyspark-shell</code></dd>\n",
       "            </dl>\n",
       "        </div>\n",
       "        "
      ],
      "text/plain": [
       "<SparkContext master=local[*] appName=pyspark-shell>"
      ]
     },
     "execution_count": 12,
     "metadata": {},
     "output_type": "execute_result"
    }
   ],
   "source": [
    "# checking whether SparkContext has been created or not.-- sparksession is required to create sqlcontext.\n",
    "sc"
   ]
  },
  {
   "cell_type": "code",
   "execution_count": 43,
   "metadata": {},
   "outputs": [
    {
     "data": {
      "text/plain": [
       "[('A', 100), ('B', 20), ('C', 30), ('D', 40)]"
      ]
     },
     "execution_count": 43,
     "metadata": {},
     "output_type": "execute_result"
    }
   ],
   "source": [
    "lst=[(\"A\",100),(\"B\",20),(\"C\",30),(\"D\",40)]\n",
    "# creating RDD using sparkContext 'sc'\n",
    "rdd=sc.parallelize(lst)\n",
    "rdd.collect()"
   ]
  },
  {
   "attachments": {},
   "cell_type": "markdown",
   "metadata": {},
   "source": [
    "creating dataframe from a RDD using sqlcontext\n",
    "\n",
    "check below -->>>"
   ]
  },
  {
   "cell_type": "code",
   "execution_count": 44,
   "metadata": {},
   "outputs": [
    {
     "name": "stdout",
     "output_type": "stream",
     "text": [
      "+---+---+\n",
      "| _1| _2|\n",
      "+---+---+\n",
      "|  A|100|\n",
      "|  B| 20|\n",
      "|  C| 30|\n",
      "|  D| 40|\n",
      "+---+---+\n",
      "\n"
     ]
    }
   ],
   "source": [
    "# creating dataframe from RDD created above as 'rdd' \n",
    "rdd_df=sqlcontext.createDataFrame(rdd)\n",
    "rdd_df.show()"
   ]
  },
  {
   "cell_type": "code",
   "execution_count": 16,
   "metadata": {},
   "outputs": [
    {
     "data": {
      "text/plain": [
       "<module 'pyspark' from 'C:\\\\spark\\\\spark-3.0.0-preview2-bin-hadoop2.7\\\\python\\\\pyspark\\\\__init__.py'>"
      ]
     },
     "execution_count": 16,
     "metadata": {},
     "output_type": "execute_result"
    }
   ],
   "source": [
    "pyspark"
   ]
  },
  {
   "attachments": {},
   "cell_type": "markdown",
   "metadata": {},
   "source": [
    "#### Creating DataFrame from SQLContext:\n",
    "    \n",
    "    check below:->>>"
   ]
  },
  {
   "cell_type": "code",
   "execution_count": 15,
   "metadata": {},
   "outputs": [],
   "source": [
    "file_df=sqlcontext.read.csv(\"file:///C:/Users/ckp43_000/Documents/generic-food.csv\",inferSchema=True,header=True)"
   ]
  },
  {
   "attachments": {},
   "cell_type": "markdown",
   "metadata": {},
   "source": [
    "#### Creating DataFrame SparkSession named 'spark':\n",
    "    \n",
    "    check Below :-->>"
   ]
  },
  {
   "cell_type": "code",
   "execution_count": null,
   "metadata": {},
   "outputs": [],
   "source": [
    "file_df_spark=spark.read.csv(\"file:///C:/Users/ckp43_000/Documents/generic-food.csv\",inferSchema=True,header=True)"
   ]
  },
  {
   "cell_type": "code",
   "execution_count": 9,
   "metadata": {},
   "outputs": [
    {
     "data": {
      "text/plain": [
       "DataFrame[FOODNAME: string, SCIENTIFICNAME: string, GROUP: string, SUBGROUP: string]"
      ]
     },
     "execution_count": 9,
     "metadata": {},
     "output_type": "execute_result"
    }
   ],
   "source": [
    "# checking dataframe created by reading file using sparksession \n",
    "file_df_spark"
   ]
  },
  {
   "cell_type": "code",
   "execution_count": 130,
   "metadata": {
    "scrolled": true
   },
   "outputs": [
    {
     "data": {
      "text/plain": [
       "DataFrame[FOODNAME: string, SCIENTIFICNAME: string, GROUP: string, SUBGROUP: string]"
      ]
     },
     "execution_count": 130,
     "metadata": {},
     "output_type": "execute_result"
    }
   ],
   "source": [
    "# checking dataframe created by reading file using sqlcontext.\n",
    "file_df"
   ]
  },
  {
   "cell_type": "code",
   "execution_count": 131,
   "metadata": {},
   "outputs": [
    {
     "name": "stdout",
     "output_type": "stream",
     "text": [
      "+--------------+--------------------+----------------+--------------------+\n",
      "|      FOODNAME|      SCIENTIFICNAME|           GROUP|            SUBGROUP|\n",
      "+--------------+--------------------+----------------+--------------------+\n",
      "|      Angelica|    Angelica keiskei|Herbs and Spices|               Herbs|\n",
      "| Savoy cabbage|Brassica oleracea...|      Vegetables|            Cabbages|\n",
      "| Silver linden|      Tilia argentea|Herbs and Spices|               Herbs|\n",
      "|          Kiwi| Actinidia chinensis|          Fruits|     Tropical fruits|\n",
      "|Allium (Onion)|              Allium|      Vegetables|Onion-family vege...|\n",
      "|  Garden onion|         Allium cepa|      Vegetables|Onion-family vege...|\n",
      "|          Leek|       Allium porrum|      Vegetables|Onion-family vege...|\n",
      "|        Garlic|      Allium sativum|Herbs and Spices|               Herbs|\n",
      "|        Chives|Allium schoenoprasum|Herbs and Spices|               Herbs|\n",
      "| Lemon verbena|   Aloysia triphylla|Herbs and Spices|               Herbs|\n",
      "|    Cashew nut|Anacardium occide...|            Nuts|                Nuts|\n",
      "|     Pineapple|      Ananas comosus|          Fruits|     Tropical fruits|\n",
      "|          Dill|  Anethum graveolens|Herbs and Spices|               Herbs|\n",
      "| Custard apple|   Annona reticulata|          Fruits|     Tropical fruits|\n",
      "|   Wild celery|    Apium graveolens|Herbs and Spices|              Spices|\n",
      "|        Peanut|    Arachis hypogaea|            Nuts|                Nuts|\n",
      "|       Burdock|       Arctium lappa|      Vegetables|     Root vegetables|\n",
      "|   Horseradish| Armoracia rusticana|Herbs and Spices|              Spices|\n",
      "|      Tarragon|Artemisia dracunc...|Herbs and Spices|               Herbs|\n",
      "|       Mugwort|  Artemisia vulgaris|Herbs and Spices|               Herbs|\n",
      "+--------------+--------------------+----------------+--------------------+\n",
      "only showing top 20 rows\n",
      "\n"
     ]
    }
   ],
   "source": [
    "file_df.show()"
   ]
  },
  {
   "cell_type": "code",
   "execution_count": 53,
   "metadata": {},
   "outputs": [
    {
     "name": "stdout",
     "output_type": "stream",
     "text": [
      "root\n",
      " |-- FOOD NAME: string (nullable = true)\n",
      " |-- SCIENTIFIC NAME: string (nullable = true)\n",
      " |-- GROUP: string (nullable = true)\n",
      " |-- SUB GROUP: string (nullable = true)\n",
      "\n"
     ]
    }
   ],
   "source": [
    "file_df.printSchema()"
   ]
  },
  {
   "attachments": {},
   "cell_type": "markdown",
   "metadata": {},
   "source": [
    "# in above o/p collumns are nullable means if no values are given it will take 'NULL' automatically."
   ]
  },
  {
   "cell_type": "code",
   "execution_count": 57,
   "metadata": {},
   "outputs": [
    {
     "data": {
      "text/plain": [
       "['FOOD NAME', 'SCIENTIFIC NAME', 'GROUP', 'SUB GROUP']"
      ]
     },
     "execution_count": 57,
     "metadata": {},
     "output_type": "execute_result"
    }
   ],
   "source": [
    "file_df.columns"
   ]
  },
  {
   "cell_type": "code",
   "execution_count": 58,
   "metadata": {
    "scrolled": true
   },
   "outputs": [
    {
     "data": {
      "text/plain": [
       "907"
      ]
     },
     "execution_count": 58,
     "metadata": {},
     "output_type": "execute_result"
    }
   ],
   "source": [
    "file_df.count()"
   ]
  },
  {
   "attachments": {},
   "cell_type": "markdown",
   "metadata": {},
   "source": [
    "#### Displaying number of columns of spark dataFrame"
   ]
  },
  {
   "cell_type": "code",
   "execution_count": 59,
   "metadata": {},
   "outputs": [
    {
     "data": {
      "text/plain": [
       "4"
      ]
     },
     "execution_count": 59,
     "metadata": {},
     "output_type": "execute_result"
    }
   ],
   "source": [
    "len(file_df.columns)"
   ]
  },
  {
   "cell_type": "code",
   "execution_count": 75,
   "metadata": {},
   "outputs": [
    {
     "name": "stdout",
     "output_type": "stream",
     "text": [
      "+-------+--------------------+\n",
      "|summary|      scientificname|\n",
      "+-------+--------------------+\n",
      "|  count|                 900|\n",
      "|   mean|                null|\n",
      "| stddev|                null|\n",
      "|    min|Abelmoschus escul...|\n",
      "|    max|  Zoarces americanus|\n",
      "+-------+--------------------+\n",
      "\n"
     ]
    }
   ],
   "source": [
    "file_df.describe(\"scientificname\").show()"
   ]
  },
  {
   "cell_type": "code",
   "execution_count": 81,
   "metadata": {
    "scrolled": true
   },
   "outputs": [
    {
     "data": {
      "text/plain": [
       "907"
      ]
     },
     "execution_count": 81,
     "metadata": {},
     "output_type": "execute_result"
    }
   ],
   "source": [
    "file_df.select(\"SCIENTIFICNAME\").count()"
   ]
  },
  {
   "cell_type": "code",
   "execution_count": 80,
   "metadata": {
    "scrolled": true
   },
   "outputs": [
    {
     "data": {
      "text/plain": [
       "1"
      ]
     },
     "execution_count": 80,
     "metadata": {},
     "output_type": "execute_result"
    }
   ],
   "source": [
    "file_df.filter(file_df.SCIENTIFICNAME=='Allium').count()"
   ]
  },
  {
   "cell_type": "code",
   "execution_count": 24,
   "metadata": {
    "scrolled": true
   },
   "outputs": [
    {
     "ename": "NameError",
     "evalue": "name 'SCIENTIFICNAME' is not defined",
     "output_type": "error",
     "traceback": [
      "\u001b[1;31m---------------------------------------------------------------------------\u001b[0m",
      "\u001b[1;31mNameError\u001b[0m                                 Traceback (most recent call last)",
      "\u001b[1;32m<ipython-input-24-b5be12b37f61>\u001b[0m in \u001b[0;36m<module>\u001b[1;34m\u001b[0m\n\u001b[1;32m----> 1\u001b[1;33m \u001b[0mfile_df\u001b[0m\u001b[1;33m.\u001b[0m\u001b[0mfilter\u001b[0m\u001b[1;33m(\u001b[0m\u001b[0mSCIENTIFICNAME\u001b[0m\u001b[1;33m==\u001b[0m\u001b[1;34m'Allium'\u001b[0m\u001b[1;33m)\u001b[0m\u001b[1;33m.\u001b[0m\u001b[0mcount\u001b[0m\u001b[1;33m(\u001b[0m\u001b[1;33m)\u001b[0m\u001b[1;33m\u001b[0m\u001b[1;33m\u001b[0m\u001b[0m\n\u001b[0m",
      "\u001b[1;31mNameError\u001b[0m: name 'SCIENTIFICNAME' is not defined"
     ]
    }
   ],
   "source": [
    "file_df.filter(SCIENTIFICNAME=='Allium').count()"
   ]
  },
  {
   "attachments": {},
   "cell_type": "markdown",
   "metadata": {},
   "source": [
    "#### After filter condition to access any column name we have to write like this:\n",
    "    df.column_name=='any condition'\n",
    "    Check Above exmple\n",
    "    "
   ]
  },
  {
   "cell_type": "code",
   "execution_count": 16,
   "metadata": {
    "scrolled": true
   },
   "outputs": [
    {
     "name": "stdout",
     "output_type": "stream",
     "text": [
      "+--------------+--------------------+----------+--------------------+\n",
      "|      FOODNAME|      SCIENTIFICNAME|     GROUP|            SUBGROUP|\n",
      "+--------------+--------------------+----------+--------------------+\n",
      "| Savoy cabbage|Brassica oleracea...|Vegetables|            Cabbages|\n",
      "|Allium (Onion)|              Allium|Vegetables|Onion-family vege...|\n",
      "|  Garden onion|         Allium cepa|Vegetables|Onion-family vege...|\n",
      "|          Leek|       Allium porrum|Vegetables|Onion-family vege...|\n",
      "|       Burdock|       Arctium lappa|Vegetables|     Root vegetables|\n",
      "+--------------+--------------------+----------+--------------------+\n",
      "only showing top 5 rows\n",
      "\n"
     ]
    }
   ],
   "source": [
    "file_df.filter(file_df.GROUP=='Vegetables').show(5)"
   ]
  },
  {
   "cell_type": "code",
   "execution_count": 17,
   "metadata": {
    "scrolled": true
   },
   "outputs": [
    {
     "data": {
      "text/plain": [
       "pyspark.sql.dataframe.DataFrame"
      ]
     },
     "execution_count": 17,
     "metadata": {},
     "output_type": "execute_result"
    }
   ],
   "source": [
    "type(file_df.filter(file_df.GROUP=='Vegetables'))"
   ]
  },
  {
   "attachments": {},
   "cell_type": "markdown",
   "metadata": {},
   "source": [
    "#### After filter we are getting a type of dataFrame(Check above), therefore we can perform all the actions which is applicable to a dataFrame:\n",
    "    Here after filter condition we are selecting some column names from DataFrame\n",
    "    Check Below:-->>\n",
    "        "
   ]
  },
  {
   "attachments": {},
   "cell_type": "markdown",
   "metadata": {},
   "source": [
    "#### With filter condition selecting multiple columns from DataFrame:\n",
    "       Check Below::-->>"
   ]
  },
  {
   "cell_type": "code",
   "execution_count": 21,
   "metadata": {
    "scrolled": false
   },
   "outputs": [
    {
     "name": "stdout",
     "output_type": "stream",
     "text": [
      "+--------------+----------+\n",
      "|      FOODNAME|     GROUP|\n",
      "+--------------+----------+\n",
      "| Savoy cabbage|Vegetables|\n",
      "|Allium (Onion)|Vegetables|\n",
      "|  Garden onion|Vegetables|\n",
      "|          Leek|Vegetables|\n",
      "|       Burdock|Vegetables|\n",
      "+--------------+----------+\n",
      "only showing top 5 rows\n",
      "\n"
     ]
    }
   ],
   "source": [
    "file_df.filter(file_df.GROUP=='Vegetables').select(\"FOODNAME\",\"GROUP\").show(5)"
   ]
  },
  {
   "attachments": {},
   "cell_type": "markdown",
   "metadata": {},
   "source": [
    "#### After filter condition performing dataFrame actions like '.describe()' and '.printSchema()'\n",
    "\n",
    "      Check Below Spark Code:-->>"
   ]
  },
  {
   "cell_type": "code",
   "execution_count": 32,
   "metadata": {
    "scrolled": true
   },
   "outputs": [
    {
     "name": "stdout",
     "output_type": "stream",
     "text": [
      "DataFrame[summary: string, FOODNAME: string, SCIENTIFICNAME: string, GROUP: string, SUBGROUP: string]\n",
      "\n",
      "\n",
      "root\n",
      " |-- FOODNAME: string (nullable = true)\n",
      " |-- SCIENTIFICNAME: string (nullable = true)\n",
      " |-- GROUP: string (nullable = true)\n",
      " |-- SUBGROUP: string (nullable = true)\n",
      "\n",
      "None\n"
     ]
    }
   ],
   "source": [
    "print(file_df.filter(file_df.GROUP=='Vegetables').describe())\n",
    "print(\"\\n\")\n",
    "print(file_df.filter(file_df.GROUP=='Vegatables').printSchema())"
   ]
  },
  {
   "attachments": {},
   "cell_type": "markdown",
   "metadata": {},
   "source": [
    "#### Applying multiple filter conditions on DataFRame:\n",
    "           Check Below spark code:-->>>"
   ]
  },
  {
   "cell_type": "code",
   "execution_count": 36,
   "metadata": {},
   "outputs": [
    {
     "name": "stdout",
     "output_type": "stream",
     "text": [
      "+-----------------+--------------------+----------+--------+\n",
      "|         FOODNAME|      SCIENTIFICNAME|     GROUP|SUBGROUP|\n",
      "+-----------------+--------------------+----------+--------+\n",
      "|    Savoy cabbage|Brassica oleracea...|Vegetables|Cabbages|\n",
      "|  Chinese mustard|     Brassica juncea|Vegetables|Cabbages|\n",
      "|   Common cabbage|   Brassica oleracea|Vegetables|Cabbages|\n",
      "|      Cauliflower|Brassica oleracea...|Vegetables|Cabbages|\n",
      "|  Brussel sprouts|Brassica oleracea...|Vegetables|Cabbages|\n",
      "|         Broccoli|Brassica oleracea...|Vegetables|Cabbages|\n",
      "|  Chinese cabbage|       Brassica rapa|Vegetables|Cabbages|\n",
      "|Tronchuda cabbage|Brassica oleracea...|Vegetables|Cabbages|\n",
      "|    Black cabbage|Brassica oleracea...|Vegetables|Cabbages|\n",
      "|        Komatsuna|Brassica rapa var...|Vegetables|Cabbages|\n",
      "+-----------------+--------------------+----------+--------+\n",
      "only showing top 10 rows\n",
      "\n"
     ]
    }
   ],
   "source": [
    "file_df.filter((file_df.GROUP=='Vegetables') & (file_df.SUBGROUP=='Cabbages')).show(10)"
   ]
  },
  {
   "attachments": {},
   "cell_type": "markdown",
   "metadata": {},
   "source": [
    "## \"orderBy\" on dataFrame"
   ]
  },
  {
   "cell_type": "code",
   "execution_count": 37,
   "metadata": {
    "scrolled": true
   },
   "outputs": [
    {
     "name": "stdout",
     "output_type": "stream",
     "text": [
      "+------------+------------------+------------+-------------+\n",
      "|    FOODNAME|    SCIENTIFICNAME|       GROUP|     SUBGROUP|\n",
      "+------------+------------------+------------+-------------+\n",
      "|   Wild boar|        Sus scrofa|Animal foods|        Swine|\n",
      "|  Guinea hen|  Numida meleagris|Animal foods|      Poultry|\n",
      "|  Brown bear|      Ursus arctos|Animal foods|Other mammals|\n",
      "|       Bison|       Bison bison|Animal foods|      Bovines|\n",
      "|     Buffalo|   Bubalus bubalis|Animal foods|      Bovines|\n",
      "|   Mule deer|        Odocoileus|Animal foods|      Venison|\n",
      "|Mallard duck|Anas platyrhynchos|Animal foods|      Poultry|\n",
      "|      Beaver| Castor canadensis|Animal foods|      Rodents|\n",
      "|         Elk| Cervus canadensis|Animal foods|      Venison|\n",
      "|     Caribou| Rangifer tarandus|Animal foods|      Venison|\n",
      "+------------+------------------+------------+-------------+\n",
      "only showing top 10 rows\n",
      "\n"
     ]
    }
   ],
   "source": [
    "file_df.orderBy(file_df.GROUP).show(10)"
   ]
  },
  {
   "cell_type": "code",
   "execution_count": 45,
   "metadata": {},
   "outputs": [],
   "source": [
    "from pyspark.sql.functions import *"
   ]
  },
  {
   "cell_type": "code",
   "execution_count": 50,
   "metadata": {},
   "outputs": [
    {
     "data": {
      "text/plain": [
       "<function pyspark.sql.functions._create_function.<locals>._(col)>"
      ]
     },
     "execution_count": 50,
     "metadata": {},
     "output_type": "execute_result"
    }
   ],
   "source": [
    "desc"
   ]
  },
  {
   "attachments": {},
   "cell_type": "markdown",
   "metadata": {},
   "source": [
    "#### We need to to import functions like 'desc' from  packege \"pyspark.sql.functions\":\n",
    "      Check Below SPark Code:-->>"
   ]
  },
  {
   "cell_type": "code",
   "execution_count": 55,
   "metadata": {
    "scrolled": true
   },
   "outputs": [
    {
     "name": "stdout",
     "output_type": "stream",
     "text": [
      "+----------+-----------------+------------+-------------+\n",
      "|  FOODNAME|   SCIENTIFICNAME|       GROUP|     SUBGROUP|\n",
      "+----------+-----------------+------------+-------------+\n",
      "|    Beaver|Castor canadensis|Animal foods|      Rodents|\n",
      "|   Buffalo|  Bubalus bubalis|Animal foods|      Bovines|\n",
      "|     Bison|      Bison bison|Animal foods|      Bovines|\n",
      "|Black bear| Ursus americanus|Animal foods|Other mammals|\n",
      "| Wild boar|       Sus scrofa|Animal foods|        Swine|\n",
      "+----------+-----------------+------------+-------------+\n",
      "only showing top 5 rows\n",
      "\n",
      "None\n",
      "+-------------------+--------------------+------------+------------+\n",
      "|           FOODNAME|      SCIENTIFICNAME|       GROUP|    SUBGROUP|\n",
      "+-------------------+--------------------+------------+------------+\n",
      "|       Animal foods|                NULL|Animal foods|Animal foods|\n",
      "|            Buffalo|     Bubalus bubalis|Animal foods|     Bovines|\n",
      "|Cattle (Beef, Veal)|          Bos taurus|Animal foods|     Bovines|\n",
      "|            Beefalo|Bos taurus X Biso...|Animal foods|     Bovines|\n",
      "|              Bison|         Bison bison|Animal foods|     Bovines|\n",
      "+-------------------+--------------------+------------+------------+\n",
      "only showing top 5 rows\n",
      "\n",
      "None\n",
      "+---------------+--------------------+----------+----------------+\n",
      "|       FOODNAME|      SCIENTIFICNAME|     GROUP|        SUBGROUP|\n",
      "+---------------+--------------------+----------+----------------+\n",
      "|Chinese mustard|     Brassica juncea|Vegetables|        Cabbages|\n",
      "|    Common beet|       Beta vulgaris|Vegetables| Leaf vegetables|\n",
      "|        Burdock|       Arctium lappa|Vegetables| Root vegetables|\n",
      "|  Savoy cabbage|Brassica oleracea...|Vegetables|        Cabbages|\n",
      "|      Asparagus|Asparagus officin...|Vegetables|Shoot vegetables|\n",
      "+---------------+--------------------+----------+----------------+\n",
      "only showing top 5 rows\n",
      "\n",
      "None\n",
      "+-------------+--------------------+----------+--------------------+\n",
      "|     FOODNAME|      SCIENTIFICNAME|     GROUP|            SUBGROUP|\n",
      "+-------------+--------------------+----------+--------------------+\n",
      "|         Leek|       Allium porrum|Vegetables|Onion-family vege...|\n",
      "|    Asparagus|Asparagus officin...|Vegetables|    Shoot vegetables|\n",
      "|      Burdock|       Arctium lappa|Vegetables|     Root vegetables|\n",
      "|Savoy cabbage|Brassica oleracea...|Vegetables|            Cabbages|\n",
      "+-------------+--------------------+----------+--------------------+\n",
      "only showing top 4 rows\n",
      "\n",
      "None\n"
     ]
    }
   ],
   "source": [
    "print(file_df.orderBy(\"GROUP\").show(5))\n",
    "print(file_df.orderBy([\"GROUP\",\"SUBGROUP\"],acsending=[0,1]).show(5))\n",
    "print(file_df.orderBy(desc(\"GROUP\")).show(5))\n",
    "print(file_df.orderBy(desc(\"GROUP\")).show(4))"
   ]
  },
  {
   "attachments": {},
   "cell_type": "markdown",
   "metadata": {},
   "source": [
    "#### Registering DataFrame as a table --  \n",
    "This comes under 'SparkSQL' portion of PySpark.\n",
    "\n",
    "         Check Below Code:-->>"
   ]
  },
  {
   "cell_type": "code",
   "execution_count": 56,
   "metadata": {},
   "outputs": [],
   "source": [
    "file_table=file_df.createOrReplaceTempView('file_Table')"
   ]
  },
  {
   "cell_type": "code",
   "execution_count": 57,
   "metadata": {},
   "outputs": [
    {
     "name": "stdout",
     "output_type": "stream",
     "text": [
      "+--------------+--------------------+----------------+--------------------+\n",
      "|      FOODNAME|      SCIENTIFICNAME|           GROUP|            SUBGROUP|\n",
      "+--------------+--------------------+----------------+--------------------+\n",
      "|      Angelica|    Angelica keiskei|Herbs and Spices|               Herbs|\n",
      "| Savoy cabbage|Brassica oleracea...|      Vegetables|            Cabbages|\n",
      "| Silver linden|      Tilia argentea|Herbs and Spices|               Herbs|\n",
      "|          Kiwi| Actinidia chinensis|          Fruits|     Tropical fruits|\n",
      "|Allium (Onion)|              Allium|      Vegetables|Onion-family vege...|\n",
      "+--------------+--------------------+----------------+--------------------+\n",
      "only showing top 5 rows\n",
      "\n"
     ]
    }
   ],
   "source": [
    "sqlcontext.sql(\"select * from file_table\").show(5)"
   ]
  },
  {
   "cell_type": "code",
   "execution_count": 97,
   "metadata": {},
   "outputs": [
    {
     "name": "stdout",
     "output_type": "stream",
     "text": [
      "+--------+\n",
      "|count(1)|\n",
      "+--------+\n",
      "|     907|\n",
      "+--------+\n",
      "\n"
     ]
    }
   ],
   "source": [
    "sqlcontext.sql(\"select count(*) from file_Table\").show()"
   ]
  },
  {
   "cell_type": "code",
   "execution_count": 1,
   "metadata": {},
   "outputs": [
    {
     "ename": "NameError",
     "evalue": "name 'time' is not defined",
     "output_type": "error",
     "traceback": [
      "\u001b[1;31m---------------------------------------------------------------------------\u001b[0m",
      "\u001b[1;31mNameError\u001b[0m                                 Traceback (most recent call last)",
      "Cell \u001b[1;32mIn[1], line 3\u001b[0m\n\u001b[0;32m      1\u001b[0m \u001b[39m# Printing time in required format with the help of 'strftime' function of python module 'time' \u001b[39;00m\n\u001b[0;32m      2\u001b[0m \u001b[39m#(Although here format is wrong actually '%M' returns minutes which is used for printing month)\u001b[39;00m\n\u001b[1;32m----> 3\u001b[0m \u001b[39mprint\u001b[39m(\u001b[39m\"\u001b[39m\u001b[39mcurrent time:\u001b[39m\u001b[39m\"\u001b[39m,time\u001b[39m.\u001b[39mstrftime(\u001b[39m\"\u001b[39m\u001b[39m%\u001b[39m\u001b[39mY-\u001b[39m\u001b[39m%\u001b[39m\u001b[39mM-\u001b[39m\u001b[39m%\u001b[39m\u001b[39mD \u001b[39m\u001b[39m%\u001b[39m\u001b[39mH-\u001b[39m\u001b[39m%\u001b[39m\u001b[39mM-\u001b[39m\u001b[39m%\u001b[39m\u001b[39mS\u001b[39m\u001b[39m\"\u001b[39m))\n\u001b[0;32m      4\u001b[0m sqlcontext\u001b[39m.\u001b[39msql(\u001b[39m\"\u001b[39m\u001b[39mselect * from file_Table where group=\u001b[39m\u001b[39m'\u001b[39m\u001b[39mVegetables\u001b[39m\u001b[39m'\u001b[39m\u001b[39m\"\u001b[39m)\u001b[39m.\u001b[39mshow(\u001b[39m5\u001b[39m)\n\u001b[0;32m      5\u001b[0m \u001b[39mprint\u001b[39m(\u001b[39m\"\u001b[39m\u001b[39mcurrenttime :\u001b[39m\u001b[39m\"\u001b[39m,time\u001b[39m.\u001b[39mstrftime(\u001b[39m\"\u001b[39m\u001b[39m%\u001b[39m\u001b[39mY-\u001b[39m\u001b[39m%\u001b[39m\u001b[39mM-\u001b[39m\u001b[39m%\u001b[39m\u001b[39mD \u001b[39m\u001b[39m%\u001b[39m\u001b[39mH-\u001b[39m\u001b[39m%\u001b[39m\u001b[39mM-\u001b[39m\u001b[39m%\u001b[39m\u001b[39mS\u001b[39m\u001b[39m\"\u001b[39m))\n",
      "\u001b[1;31mNameError\u001b[0m: name 'time' is not defined"
     ]
    }
   ],
   "source": [
    "# Printing time in required format with the help of 'strftime' function of python module 'time' \n",
    "#(Although here format is wrong actually '%M' returns minutes which is used for printing)\n",
    "print(\"current time:\",time.strftime(\"%Y-%M-%D %H-%M-%S\"))\n",
    "sqlcontext.sql(\"select * from file_Table where group='Vegetables'\").show(5)\n",
    "print(\"currenttime :\",time.strftime(\"%Y-%M-%D %H-%M-%S\"))"
   ]
  },
  {
   "cell_type": "code",
   "execution_count": 62,
   "metadata": {},
   "outputs": [
    {
     "name": "stdout",
     "output_type": "stream",
     "text": [
      "+--------------+--------------------+----------------+--------------------+\n",
      "|      FOODNAME|      SCIENTIFICNAME|           GROUP|            SUBGROUP|\n",
      "+--------------+--------------------+----------------+--------------------+\n",
      "|      Angelica|    Angelica keiskei|Herbs and Spices|               Herbs|\n",
      "| Savoy cabbage|Brassica oleracea...|      Vegetables|            Cabbages|\n",
      "| Silver linden|      Tilia argentea|Herbs and Spices|               Herbs|\n",
      "|          Kiwi| Actinidia chinensis|          Fruits|     Tropical fruits|\n",
      "|Allium (Onion)|              Allium|      Vegetables|Onion-family vege...|\n",
      "+--------------+--------------------+----------------+--------------------+\n",
      "only showing top 5 rows\n",
      "\n"
     ]
    }
   ],
   "source": [
    "sqlcontext.sql(\"select * from file_Table\").show(5)"
   ]
  },
  {
   "cell_type": "code",
   "execution_count": 5,
   "metadata": {},
   "outputs": [],
   "source": [
    "input_file_path=\"file:///C:/Users/ckp43_000/Documents/heroes_information.csv\"\n",
    "\n",
    "# Reading a csv file with sqlcontext to create spark/pyspark dataframe.\n",
    "hero_df=sqlcontext.read.csv(input_file_path,inferSchema=True,header=True)"
   ]
  },
  {
   "cell_type": "code",
   "execution_count": 6,
   "metadata": {},
   "outputs": [
    {
     "name": "stdout",
     "output_type": "stream",
     "text": [
      "+---+-----------+------+---------+-----------------+----------+------+-----------------+----------+---------+------+\n",
      "|_c0|       name|Gender|Eye_color|             Race|Hair_color|Height|        Publisher|Skin_color|Alignment|Weight|\n",
      "+---+-----------+------+---------+-----------------+----------+------+-----------------+----------+---------+------+\n",
      "|  0|     A-Bomb|  Male|   yellow|            Human|   No Hair| 203.0|    Marvel Comics|         -|     good| 441.0|\n",
      "|  1| Abe Sapien|  Male|     blue|    Icthyo Sapien|   No Hair| 191.0|Dark Horse Comics|      blue|     good|  65.0|\n",
      "|  2|   Abin Sur|  Male|     blue|          Ungaran|   No Hair| 185.0|        DC Comics|       red|     good|  90.0|\n",
      "|  3|Abomination|  Male|    green|Human / Radiation|   No Hair| 203.0|    Marvel Comics|         -|      bad| 441.0|\n",
      "|  4|    Abraxas|  Male|     blue|    Cosmic Entity|     Black| -99.0|    Marvel Comics|         -|      bad| -99.0|\n",
      "+---+-----------+------+---------+-----------------+----------+------+-----------------+----------+---------+------+\n",
      "only showing top 5 rows\n",
      "\n"
     ]
    }
   ],
   "source": [
    "hero_df.show(5)"
   ]
  },
  {
   "cell_type": "code",
   "execution_count": 112,
   "metadata": {},
   "outputs": [
    {
     "data": {
      "text/plain": [
       "734"
      ]
     },
     "execution_count": 112,
     "metadata": {},
     "output_type": "execute_result"
    }
   ],
   "source": [
    "hero_df.count()"
   ]
  },
  {
   "cell_type": "code",
   "execution_count": 113,
   "metadata": {},
   "outputs": [
    {
     "name": "stdout",
     "output_type": "stream",
     "text": [
      "root\n",
      " |-- _c0: integer (nullable = true)\n",
      " |-- name: string (nullable = true)\n",
      " |-- Gender: string (nullable = true)\n",
      " |-- Eye color: string (nullable = true)\n",
      " |-- Race: string (nullable = true)\n",
      " |-- Hair color: string (nullable = true)\n",
      " |-- Height: double (nullable = true)\n",
      " |-- Publisher: string (nullable = true)\n",
      " |-- Skin color: string (nullable = true)\n",
      " |-- Alignment: string (nullable = true)\n",
      " |-- Weight: double (nullable = true)\n",
      "\n"
     ]
    }
   ],
   "source": [
    "hero_df.printSchema()"
   ]
  },
  {
   "attachments": {},
   "cell_type": "markdown",
   "metadata": {},
   "source": [
    "Applying 'filter' condition on spark/pyspark dataframe."
   ]
  },
  {
   "cell_type": "code",
   "execution_count": 65,
   "metadata": {},
   "outputs": [
    {
     "name": "stdout",
     "output_type": "stream",
     "text": [
      "+---+-----------+------+---------+-----------------+----------+------+-----------------+----------+---------+------+\n",
      "|_c0|       name|Gender|Eye_color|             Race|Hair_color|Height|        Publisher|Skin_color|Alignment|Weight|\n",
      "+---+-----------+------+---------+-----------------+----------+------+-----------------+----------+---------+------+\n",
      "|  0|     A-Bomb|  Male|   yellow|            Human|   No Hair| 203.0|    Marvel Comics|         -|     good| 441.0|\n",
      "|  1| Abe Sapien|  Male|     blue|    Icthyo Sapien|   No Hair| 191.0|Dark Horse Comics|      blue|     good|  65.0|\n",
      "|  2|   Abin Sur|  Male|     blue|          Ungaran|   No Hair| 185.0|        DC Comics|       red|     good|  90.0|\n",
      "|  3|Abomination|  Male|    green|Human / Radiation|   No Hair| 203.0|    Marvel Comics|         -|      bad| 441.0|\n",
      "|  4|    Abraxas|  Male|     blue|    Cosmic Entity|     Black| -99.0|    Marvel Comics|         -|      bad| -99.0|\n",
      "+---+-----------+------+---------+-----------------+----------+------+-----------------+----------+---------+------+\n",
      "only showing top 5 rows\n",
      "\n"
     ]
    }
   ],
   "source": [
    "hero_df.filter(hero_df.Gender=='Male').show(5)"
   ]
  },
  {
   "cell_type": "code",
   "execution_count": 117,
   "metadata": {
    "scrolled": true
   },
   "outputs": [
    {
     "data": {
      "text/plain": [
       "505"
      ]
     },
     "execution_count": 117,
     "metadata": {},
     "output_type": "execute_result"
    }
   ],
   "source": [
    "hero_df.filter(hero_df.Gender=='Male').count()"
   ]
  },
  {
   "cell_type": "code",
   "execution_count": null,
   "metadata": {},
   "outputs": [],
   "source": [
    "hero_df"
   ]
  },
  {
   "attachments": {},
   "cell_type": "markdown",
   "metadata": {},
   "source": [
    "### \".groupBy\" on spark/pyspark DataFrame\n",
    "       Check Below Spark Code:-->>"
   ]
  },
  {
   "cell_type": "code",
   "execution_count": 82,
   "metadata": {
    "scrolled": true
   },
   "outputs": [
    {
     "name": "stdout",
     "output_type": "stream",
     "text": [
      "<class 'pyspark.sql.group.GroupedData'>\n",
      "\n",
      "\n",
      "<class 'pyspark.sql.dataframe.DataFrame'>\n",
      "\n",
      "\n",
      "DataFrame[Race: string, count: bigint]\n"
     ]
    }
   ],
   "source": [
    "print(type(hero_df.groupBy('Race')))\n",
    "print(\"\\n\")\n",
    "print(type(hero_df.orderBy('Weight')))\n",
    "print(\"\\n\")\n",
    "print(hero_df.groupBy('Race').count())"
   ]
  },
  {
   "cell_type": "code",
   "execution_count": null,
   "metadata": {},
   "outputs": [],
   "source": [
    "hero_df.groupBy('Race').count()"
   ]
  },
  {
   "cell_type": "code",
   "execution_count": 66,
   "metadata": {
    "scrolled": true
   },
   "outputs": [
    {
     "name": "stdout",
     "output_type": "stream",
     "text": [
      "+-----------------+-----+\n",
      "|             Race|count|\n",
      "+-----------------+-----+\n",
      "|            Human|  208|\n",
      "|    Icthyo Sapien|    1|\n",
      "|          Ungaran|    1|\n",
      "|Human / Radiation|   11|\n",
      "|    Cosmic Entity|    4|\n",
      "|                -|  304|\n",
      "|           Cyborg|   11|\n",
      "|  Xenomorph XX121|    1|\n",
      "|          Android|    9|\n",
      "|          Vampire|    2|\n",
      "+-----------------+-----+\n",
      "only showing top 10 rows\n",
      "\n"
     ]
    }
   ],
   "source": [
    "hero_df.groupBy('Race')\\\n",
    ".count()\\\n",
    ".show(10)"
   ]
  },
  {
   "cell_type": "code",
   "execution_count": 120,
   "metadata": {},
   "outputs": [
    {
     "name": "stdout",
     "output_type": "stream",
     "text": [
      "+---------+-----+\n",
      "|Alignment|count|\n",
      "+---------+-----+\n",
      "|     good|  496|\n",
      "|      bad|  207|\n",
      "|        -|    7|\n",
      "|  neutral|   24|\n",
      "+---------+-----+\n",
      "\n"
     ]
    }
   ],
   "source": [
    "race_df=hero_df.groupBy('Alignment')\\\n",
    ".count()\\\n",
    ".show()"
   ]
  },
  {
   "cell_type": "code",
   "execution_count": 67,
   "metadata": {
    "scrolled": true
   },
   "outputs": [
    {
     "name": "stdout",
     "output_type": "stream",
     "text": [
      "+---+--------------+------+---------+-------------+----------+------+-----------------+----------+---------+------+\n",
      "|_c0|          name|Gender|Eye_color|         Race|Hair_color|Height|        Publisher|Skin_color|Alignment|Weight|\n",
      "+---+--------------+------+---------+-------------+----------+------+-----------------+----------+---------+------+\n",
      "|286|      Godzilla|     -|        -|        Kaiju|         -| 108.0|             null|      grey|      bad|  null|\n",
      "|389|     King Kong|  Male|   yellow|       Animal|     Black|  30.5|             null|         -|     good|  null|\n",
      "| 35|      Aquababy|  Male|     blue|            -|     Blond| -99.0|        DC Comics|         -|     good| -99.0|\n",
      "| 32|    Anti-Spawn|  Male|        -|            -|         -| -99.0|     Image Comics|         -|      bad| -99.0|\n",
      "|  4|       Abraxas|  Male|     blue|Cosmic Entity|     Black| -99.0|    Marvel Comics|         -|      bad| -99.0|\n",
      "| 31|  Anti-Monitor|  Male|   yellow|God / Eternal|   No Hair|  61.0|        DC Comics|         -|      bad| -99.0|\n",
      "| 23|         Angel|  Male|        -|      Vampire|         -| -99.0|Dark Horse Comics|         -|     good| -99.0|\n",
      "|  6|   Adam Monroe|  Male|     blue|            -|     Blond| -99.0|     NBC - Heroes|         -|     good| -99.0|\n",
      "| 15|  Alex Woolsly|  Male|        -|            -|         -| -99.0|     NBC - Heroes|         -|     good| -99.0|\n",
      "| 21|Ando Masahashi|  Male|        -|            -|         -| -99.0|     NBC - Heroes|         -|     good| -99.0|\n",
      "+---+--------------+------+---------+-------------+----------+------+-----------------+----------+---------+------+\n",
      "only showing top 10 rows\n",
      "\n"
     ]
    }
   ],
   "source": [
    "hero_df.orderBy('Weight',desc=True).show(10)"
   ]
  },
  {
   "cell_type": "code",
   "execution_count": 90,
   "metadata": {},
   "outputs": [],
   "source": [
    "import time"
   ]
  },
  {
   "cell_type": "code",
   "execution_count": 94,
   "metadata": {
    "scrolled": true
   },
   "outputs": [
    {
     "name": "stdout",
     "output_type": "stream",
     "text": [
      "current_time= 2021-14-01/10/21-17-14-01\n",
      "+---+----------+------+---------+-----------------+----------+------+-------------+----------+---------+------+\n",
      "|_c0|      name|Gender|Eye_color|             Race|Hair_color|Height|    Publisher|Skin_color|Alignment|Weight|\n",
      "+---+----------+------+---------+-----------------+----------+------+-------------+----------+---------+------+\n",
      "|575| Sasquatch|  Male|      red|                -|    Orange| 305.0|Marvel Comics|         -|     good| 900.0|\n",
      "|373|Juggernaut|  Male|     blue|            Human|       Red| 287.0|Marvel Comics|         -|  neutral| 855.0|\n",
      "|203|  Darkseid|  Male|      red|          New God|   No Hair| 267.0|    DC Comics|      grey|      bad| 817.0|\n",
      "|283|   Giganta|Female|    green|                -|       Red|  62.5|    DC Comics|         -|      bad| 630.0|\n",
      "|549|  Red Hulk|  Male|   yellow|Human / Radiation|     Black| 213.0|Marvel Comics|       red|  neutral| 630.0|\n",
      "|331|      Hulk|  Male|    green|Human / Radiation|     Green| 244.0|Marvel Comics|     green|     good| 630.0|\n",
      "|119|  Bloodaxe|Female|     blue|            Human|     Brown| 218.0|Marvel Comics|         -|      bad| 495.0|\n",
      "|718| Wolfsbane|Female|    green|                -|    Auburn| 366.0|Marvel Comics|         -|     good| 473.0|\n",
      "|657|    Thanos|  Male|      red|          Eternal|   No Hair| 201.0|Marvel Comics|    purple|      bad| 443.0|\n",
      "|  0|    A-Bomb|  Male|   yellow|            Human|   No Hair| 203.0|Marvel Comics|         -|     good| 441.0|\n",
      "+---+----------+------+---------+-----------------+----------+------+-------------+----------+---------+------+\n",
      "only showing top 10 rows\n",
      "\n",
      "None\n",
      "current_time= 2021-14-01/10/21-17-14-01\n",
      "+---+----------+------+---------+-----------------+----------+------+-------------+----------+---------+------+\n",
      "|_c0|      name|Gender|Eye_color|             Race|Hair_color|Height|    Publisher|Skin_color|Alignment|Weight|\n",
      "+---+----------+------+---------+-----------------+----------+------+-------------+----------+---------+------+\n",
      "|575| Sasquatch|  Male|      red|                -|    Orange| 305.0|Marvel Comics|         -|     good| 900.0|\n",
      "|373|Juggernaut|  Male|     blue|            Human|       Red| 287.0|Marvel Comics|         -|  neutral| 855.0|\n",
      "|203|  Darkseid|  Male|      red|          New God|   No Hair| 267.0|    DC Comics|      grey|      bad| 817.0|\n",
      "|283|   Giganta|Female|    green|                -|       Red|  62.5|    DC Comics|         -|      bad| 630.0|\n",
      "|549|  Red Hulk|  Male|   yellow|Human / Radiation|     Black| 213.0|Marvel Comics|       red|  neutral| 630.0|\n",
      "|331|      Hulk|  Male|    green|Human / Radiation|     Green| 244.0|Marvel Comics|     green|     good| 630.0|\n",
      "|119|  Bloodaxe|Female|     blue|            Human|     Brown| 218.0|Marvel Comics|         -|      bad| 495.0|\n",
      "|718| Wolfsbane|Female|    green|                -|    Auburn| 366.0|Marvel Comics|         -|     good| 473.0|\n",
      "|657|    Thanos|  Male|      red|          Eternal|   No Hair| 201.0|Marvel Comics|    purple|      bad| 443.0|\n",
      "|  0|    A-Bomb|  Male|   yellow|            Human|   No Hair| 203.0|Marvel Comics|         -|     good| 441.0|\n",
      "+---+----------+------+---------+-----------------+----------+------+-------------+----------+---------+------+\n",
      "only showing top 10 rows\n",
      "\n",
      "None\n",
      "current_time= 2021-14-01/10/21-17-14-02\n"
     ]
    }
   ],
   "source": [
    "print('current_time=',time.strftime(\"%Y-%M-%D-%H-%M-%S\"))\n",
    "print(hero_df.orderBy('Weight',ascending=False).show(10))\n",
    "print('current_time=',time.strftime(\"%Y-%M-%D-%H-%M-%S\"))     \n",
    "print(hero_df.sort(desc(\"Weight\")).show(10))\n",
    "print('current_time=',time.strftime(\"%Y-%M-%D-%H-%M-%S\"))"
   ]
  },
  {
   "attachments": {},
   "cell_type": "markdown",
   "metadata": {},
   "source": [
    "                             ***Difference Between \"sort\" and \"orderBy\" ***\n",
    "#### sort() function sorts the output in each bucket by the given columns on the file system.It does not guaranty the order of output data. Whereas The orderBy() happens in two phase .\n",
    "\n",
    "#### First inside each bucket using sortBy() then entire data has to be brought into a single executer for over all order in ascending order or descending order based on the specified column. It involves high shuffling and is a costly operation. But as\n",
    "\n",
    "#### The sort() operation happen inside each an individual bucket and is a light weight operation.\n",
    "#### The SORT BY clause is used to return the result rows sorted within each partition in the user specified order.\n",
    "#### When there is more than one partition SORT BY may return result that is partially ordered"
   ]
  },
  {
   "cell_type": "code",
   "execution_count": 69,
   "metadata": {},
   "outputs": [
    {
     "name": "stdout",
     "output_type": "stream",
     "text": [
      "+---+----------+------+---------+-----------------+----------+------+-------------+----------+---------+------+\n",
      "|_c0|      name|Gender|Eye_color|             Race|Hair_color|Height|    Publisher|Skin_color|Alignment|Weight|\n",
      "+---+----------+------+---------+-----------------+----------+------+-------------+----------+---------+------+\n",
      "|575| Sasquatch|  Male|      red|                -|    Orange| 305.0|Marvel Comics|         -|     good| 900.0|\n",
      "|373|Juggernaut|  Male|     blue|            Human|       Red| 287.0|Marvel Comics|         -|  neutral| 855.0|\n",
      "|203|  Darkseid|  Male|      red|          New God|   No Hair| 267.0|    DC Comics|      grey|      bad| 817.0|\n",
      "|283|   Giganta|Female|    green|                -|       Red|  62.5|    DC Comics|         -|      bad| 630.0|\n",
      "|549|  Red Hulk|  Male|   yellow|Human / Radiation|     Black| 213.0|Marvel Comics|       red|  neutral| 630.0|\n",
      "|331|      Hulk|  Male|    green|Human / Radiation|     Green| 244.0|Marvel Comics|     green|     good| 630.0|\n",
      "|119|  Bloodaxe|Female|     blue|            Human|     Brown| 218.0|Marvel Comics|         -|      bad| 495.0|\n",
      "|718| Wolfsbane|Female|    green|                -|    Auburn| 366.0|Marvel Comics|         -|     good| 473.0|\n",
      "|657|    Thanos|  Male|      red|          Eternal|   No Hair| 201.0|Marvel Comics|    purple|      bad| 443.0|\n",
      "|  0|    A-Bomb|  Male|   yellow|            Human|   No Hair| 203.0|Marvel Comics|         -|     good| 441.0|\n",
      "+---+----------+------+---------+-----------------+----------+------+-------------+----------+---------+------+\n",
      "only showing top 10 rows\n",
      "\n"
     ]
    }
   ],
   "source": [
    " hero_df.sort(hero_df.Weight.desc())\\\n",
    "    .show(10)"
   ]
  },
  {
   "cell_type": "code",
   "execution_count": 83,
   "metadata": {},
   "outputs": [
    {
     "name": "stdout",
     "output_type": "stream",
     "text": [
      "+---+-------------+------+---------+---------------+----------+------+-------------+----------+---------+------+\n",
      "|_c0|         name|Gender|Eye_color|           Race|Hair_color|Height|    Publisher|Skin_color|Alignment|Weight|\n",
      "+---+-------------+------+---------+---------------+----------+------+-------------+----------+---------+------+\n",
      "|255|Fin Fang Foom|  Male|      red|Kakarantharaian|   No Hair| 975.0|Marvel Comics|     green|     good|  18.0|\n",
      "|272|     Galactus|  Male|    black|  Cosmic Entity|     Black| 876.0|Marvel Comics|         -|  neutral|  16.0|\n",
      "|302|        Groot|  Male|   yellow| Flora Colossus|         -| 701.0|Marvel Comics|         -|     good|   4.0|\n",
      "|463|        MODOK|  Male|    white|         Cyborg|    Brownn| 366.0|Marvel Comics|         -|      bad| 338.0|\n",
      "|718|    Wolfsbane|Female|    green|              -|    Auburn| 366.0|Marvel Comics|         -|     good| 473.0|\n",
      "|575|    Sasquatch|  Male|      red|              -|    Orange| 305.0|Marvel Comics|         -|     good| 900.0|\n",
      "|504|    Onslaught|  Male|      red|         Mutant|   No Hair| 305.0|Marvel Comics|         -|      bad| 405.0|\n",
      "|730|         Ymir|  Male|    white|    Frost Giant|   No Hair| 304.8|Marvel Comics|     white|     good| -99.0|\n",
      "|557|          Rey|Female|    hazel|          Human|     Brown| 297.0| George Lucas|         -|     good| -99.0|\n",
      "|373|   Juggernaut|  Male|     blue|          Human|       Red| 287.0|Marvel Comics|         -|  neutral| 855.0|\n",
      "+---+-------------+------+---------+---------------+----------+------+-------------+----------+---------+------+\n",
      "only showing top 10 rows\n",
      "\n"
     ]
    }
   ],
   "source": [
    "hero_df.sort(hero_df.Height.desc()).show(10)"
   ]
  },
  {
   "cell_type": "code",
   "execution_count": 143,
   "metadata": {},
   "outputs": [],
   "source": [
    "DC_hero=hero_df.filter(hero_df.Publisher=='DC Comics')"
   ]
  },
  {
   "cell_type": "code",
   "execution_count": 145,
   "metadata": {},
   "outputs": [
    {
     "data": {
      "text/plain": [
       "215"
      ]
     },
     "execution_count": 145,
     "metadata": {},
     "output_type": "execute_result"
    }
   ],
   "source": [
    "DC_hero.count()"
   ]
  },
  {
   "cell_type": "code",
   "execution_count": 84,
   "metadata": {
    "scrolled": true
   },
   "outputs": [
    {
     "name": "stdout",
     "output_type": "stream",
     "text": [
      "+-----------------+-----+\n",
      "|        Publisher|count|\n",
      "+-----------------+-----+\n",
      "|    Marvel Comics|  388|\n",
      "|Dark Horse Comics|   18|\n",
      "|        DC Comics|  215|\n",
      "|     NBC - Heroes|   19|\n",
      "|        Wildstorm|    3|\n",
      "+-----------------+-----+\n",
      "only showing top 5 rows\n",
      "\n"
     ]
    }
   ],
   "source": [
    "hero_df.groupBy('Publisher')\\\n",
    ".count()\\\n",
    ".show(5)\n"
   ]
  },
  {
   "attachments": {},
   "cell_type": "markdown",
   "metadata": {},
   "source": [
    "#### Registering a dataFrame as a table \n",
    "     Check Below Spark Code: "
   ]
  },
  {
   "cell_type": "code",
   "execution_count": 95,
   "metadata": {},
   "outputs": [],
   "source": [
    "hero_df.createOrReplaceTempView('hero_Table')"
   ]
  },
  {
   "cell_type": "code",
   "execution_count": 96,
   "metadata": {},
   "outputs": [
    {
     "name": "stdout",
     "output_type": "stream",
     "text": [
      "+--------+\n",
      "|count(1)|\n",
      "+--------+\n",
      "|     734|\n",
      "+--------+\n",
      "\n"
     ]
    }
   ],
   "source": [
    "sqlcontext.sql(\"select count(*) from hero_Table\").show()"
   ]
  },
  {
   "cell_type": "code",
   "execution_count": 149,
   "metadata": {},
   "outputs": [
    {
     "data": {
      "text/plain": [
       "734"
      ]
     },
     "execution_count": 149,
     "metadata": {},
     "output_type": "execute_result"
    }
   ],
   "source": [
    "hero_df.count()"
   ]
  },
  {
   "cell_type": "code",
   "execution_count": 150,
   "metadata": {},
   "outputs": [
    {
     "data": {
      "text/plain": [
       "734"
      ]
     },
     "execution_count": 150,
     "metadata": {},
     "output_type": "execute_result"
    }
   ],
   "source": [
    "hero_df.count()"
   ]
  },
  {
   "cell_type": "code",
   "execution_count": 99,
   "metadata": {
    "scrolled": true
   },
   "outputs": [
    {
     "name": "stdout",
     "output_type": "stream",
     "text": [
      "+---------------+---------+----------+------+---------+\n",
      "|row_num_orderby|Eye_color|Skin_color|Weight|Alignment|\n",
      "+---------------+---------+----------+------+---------+\n",
      "|              1|     blue|         -| 358.0|        -|\n",
      "|              2|      red|         -|  88.0|        -|\n",
      "|              3|     blue|         -|  81.0|        -|\n",
      "|              4|        -|         -| -99.0|        -|\n",
      "|              5|     blue|         -| -99.0|        -|\n",
      "|              6|        -|         -| -99.0|        -|\n",
      "|              7|        -|         -| -99.0|        -|\n",
      "|              1|      red|      grey| 817.0|      bad|\n",
      "|              2|    green|         -| 630.0|      bad|\n",
      "|              3|     blue|         -| 495.0|      bad|\n",
      "|              4|      red|    purple| 443.0|      bad|\n",
      "|              5|    green|         -| 441.0|      bad|\n",
      "|              6|    black|         -| 437.0|      bad|\n",
      "|              7|      red|         -| 412.0|      bad|\n",
      "|              8|      red|         -| 405.0|      bad|\n",
      "|              9|        -|         -| 383.0|      bad|\n",
      "|             10|   yellow|         -| 360.0|      bad|\n",
      "|             11|      red|     green| 356.0|      bad|\n",
      "|             12|    white|         -| 338.0|      bad|\n",
      "|             13|    brown|         -| 334.0|      bad|\n",
      "|             14|      red|    silver| 331.0|      bad|\n",
      "|             15|    brown|         -| 320.0|      bad|\n",
      "|             16|    brown|         -| 310.0|      bad|\n",
      "|             17|   yellow|         -| 270.0|      bad|\n",
      "|             18|     gold|         -| 248.0|      bad|\n",
      "|             19|    green|         -| 236.0|      bad|\n",
      "|             20|        -|         -| 234.0|      bad|\n",
      "|             21|    brown|         -| 230.0|      bad|\n",
      "|             22|      red|         -| 230.0|      bad|\n",
      "|             23|    green|         -| 225.0|      bad|\n",
      "|             24|     blue|         -| 203.0|      bad|\n",
      "|             25|     grey|      grey| 203.0|      bad|\n",
      "|             26|      red|         -| 198.0|      bad|\n",
      "|             27|      red|         -| 191.0|      bad|\n",
      "|             28|    brown|         -| 187.0|      bad|\n",
      "|             29|        -|         -| 180.0|      bad|\n",
      "|             30|      red|         -| 176.0|      bad|\n",
      "|             31|      red|         -| 173.0|      bad|\n",
      "|             32|    amber|         -| 171.0|      bad|\n",
      "|             33|        -|     black| 169.0|      bad|\n",
      "|             34|     blue|         -| 162.0|      bad|\n",
      "|             35|        -|    silver| 149.0|      bad|\n",
      "|             36|        -|    silver| 146.0|      bad|\n",
      "|             37|    white|         -| 140.0|      bad|\n",
      "|             38|      red|      grey| 135.0|      bad|\n",
      "|             39|     blue|         -| 135.0|      bad|\n",
      "|             40|    green|     green| 135.0|      bad|\n",
      "|             41|   yellow|         -| 135.0|      bad|\n",
      "|             42|    brown|         -| 132.0|      bad|\n",
      "|             43|      red|         -| 128.0|      bad|\n",
      "|             44|     blue|         -| 126.0|      bad|\n",
      "|             45|     blue|         -| 122.0|      bad|\n",
      "|             46|    brown|         -| 119.0|      bad|\n",
      "|             47|     blue|         -| 117.0|      bad|\n",
      "|             48|     blue|         -| 117.0|      bad|\n",
      "|             49|     blue|         -| 115.0|      bad|\n",
      "|             50|    brown|         -| 113.0|      bad|\n",
      "|             51|     blue|         -| 113.0|      bad|\n",
      "|             52|    brown|         -| 110.0|      bad|\n",
      "|             53|     blue|         -| 108.0|      bad|\n",
      "|             54|     blue|         -| 108.0|      bad|\n",
      "|             55|      red|     green| 106.0|      bad|\n",
      "|             56|    brown|         -| 106.0|      bad|\n",
      "|             57|      red|     white| 104.0|      bad|\n",
      "|             58|    white|         -| 104.0|      bad|\n",
      "|             59|    brown|         -| 104.0|      bad|\n",
      "|             60|    brown|         -| 104.0|      bad|\n",
      "|             61|    brown|         -| 101.0|      bad|\n",
      "|             62|    brown|         -|  99.0|      bad|\n",
      "|             63|    brown|         -|  99.0|      bad|\n",
      "|             64|    brown|         -|  99.0|      bad|\n",
      "|             65|      red|       red|  97.0|      bad|\n",
      "|             66|     blue|         -|  97.0|      bad|\n",
      "|             67|    green|         -|  97.0|      bad|\n",
      "|             68|     blue|         -|  96.0|      bad|\n",
      "|             69|      red|         -|  95.0|      bad|\n",
      "|             70|    white|         -|  95.0|      bad|\n",
      "|             71|    green|         -|  95.0|      bad|\n",
      "|             72|     blue|         -|  95.0|      bad|\n",
      "|             73|     blue|         -|  95.0|      bad|\n",
      "|             74|    black|         -|  92.0|      bad|\n",
      "|             75|    brown|         -|  91.0|      bad|\n",
      "|             76|      red|     white|  91.0|      bad|\n",
      "|             77|    brown|         -|  90.0|      bad|\n",
      "|             78|    green|         -|  90.0|      bad|\n",
      "|             79|     blue|         -|  90.0|      bad|\n",
      "|             80|    brown|         -|  90.0|      bad|\n",
      "|             81|    green|         -|  90.0|      bad|\n",
      "|             82|     blue|       red|  88.0|      bad|\n",
      "|             83|    green|         -|  87.0|      bad|\n",
      "|             84|     blue|         -|  86.0|      bad|\n",
      "|             85|    green|         -|  86.0|      bad|\n",
      "|             86|    brown|         -|  86.0|      bad|\n",
      "|             87|    green|     white|  86.0|      bad|\n",
      "|             88|     grey|         -|  86.0|      bad|\n",
      "|             89|        -|         -|  86.0|      bad|\n",
      "|             90|     blue|         -|  85.0|      bad|\n",
      "|             91|     blue|         -|  83.0|      bad|\n",
      "|             92|     blue|         -|  83.0|      bad|\n",
      "|             93|     blue|      blue|  83.0|      bad|\n",
      "+---------------+---------+----------+------+---------+\n",
      "only showing top 100 rows\n",
      "\n"
     ]
    }
   ],
   "source": [
    "sqlcontext.sql(\"\"\"select \n",
    "                  ROW_NUMBER()over( partition by Alignment order by Weight desc) \n",
    "                  row_num_orderby,Eye_color,Skin_color,Weight,Alignment \n",
    "                  from hero_Table\"\"\").show(100)\n"
   ]
  },
  {
   "cell_type": "code",
   "execution_count": 101,
   "metadata": {
    "scrolled": true
   },
   "outputs": [
    {
     "name": "stdout",
     "output_type": "stream",
     "text": [
      "+---+----------------+------+-----------+----+----------+------+-------------+----------+---------+------+--------+\n",
      "|_c0|            name|Gender|  Eye_color|Race|Hair_color|Height|    Publisher|Skin_color|Alignment|Weight|part_col|\n",
      "+---+----------------+------+-----------+----+----------+------+-------------+----------+---------+------+--------+\n",
      "|718|       Wolfsbane|Female|      green|   -|    Auburn| 366.0|Marvel Comics|         -|     good| 473.0|       1|\n",
      "|575|       Sasquatch|  Male|        red|   -|    Orange| 305.0|Marvel Comics|         -|     good| 900.0|       2|\n",
      "|179|           Cloak|  Male|      brown|   -|     black| 226.0|Marvel Comics|         -|     good|  70.0|       3|\n",
      "|667|         Thundra|Female|      green|   -|       Red| 218.0|Marvel Comics|         -|     good| 158.0|       4|\n",
      "|428|       Man-Thing|  Male|        red|   -|   No Hair| 213.0|Marvel Comics|     green|     good| 225.0|       5|\n",
      "|500|       Omega Red|  Male|        red|   -|     Blond| 211.0|Marvel Comics|         -|      bad| 191.0|       6|\n",
      "|270|          Frenzy|Female|      brown|   -|     Black| 211.0|Marvel Comics|         -|      bad| 104.0|       7|\n",
      "| 78|   Beta Ray Bill|  Male|          -|   -|   No Hair| 201.0|Marvel Comics|         -|     good| 216.0|       8|\n",
      "|222|  Doctor Doom II|  Male|      brown|   -|     Brown| 201.0|Marvel Comics|         -|      bad| 132.0|       9|\n",
      "|637|           Steel|  Male|      brown|   -|   No Hair| 201.0|    DC Comics|         -|     good| 131.0|      10|\n",
      "|409|    Living Brain|     -|     yellow|   -|         -| 198.0|Marvel Comics|         -|      bad| 360.0|      11|\n",
      "|666|   Thunderstrike|  Male|       blue|   -|     Blond| 198.0|Marvel Comics|         -|     good| 288.0|      12|\n",
      "|607|           Skaar|  Male|      green|   -|     Black| 198.0|Marvel Comics|         -|     good| 180.0|      13|\n",
      "|443|        Mephisto|  Male|      white|   -|     Black| 198.0|Marvel Comics|         -|      bad| 140.0|      14|\n",
      "| 71|      Battlestar|  Male|      brown|   -|     Black| 198.0|Marvel Comics|         -|     good| 133.0|      15|\n",
      "|467|      Molten Man|  Male|       gold|   -|      Gold| 196.0|Marvel Comics|         -|      bad| 248.0|      16|\n",
      "|724|  Wyatt Wingfoot|  Male|      brown|   -|     Black| 196.0|Marvel Comics|         -|     good| 117.0|      17|\n",
      "|230|    Doppelganger|  Male|      white|   -|   No Hair| 196.0|Marvel Comics|         -|      bad| 104.0|      18|\n",
      "|249|   Fabian Cortez|     -|       blue|   -|     Brown| 196.0|Marvel Comics|         -|      bad|  96.0|      19|\n",
      "|133|         Box III|     -|       blue|   -|     Blond| 193.0|Marvel Comics|         -|     good| 110.0|      20|\n",
      "|438|        Maverick|  Male|       blue|   -|     Black| 193.0|Marvel Comics|         -|     good| 110.0|      21|\n",
      "|257|        Firelord|     -|      white|   -|    Yellow| 193.0|Marvel Comics|         -|     good|  99.0|      22|\n",
      "|468|         Monarch|  Male|       blue|   -|     White| 193.0|    DC Comics|         -|     good|  90.0|      23|\n",
      "|686|        Valkyrie|Female|       blue|   -|     Blond| 191.0|Marvel Comics|         -|     good| 214.0|      24|\n",
      "|700|       Vision II|     -|        red|   -|   No Hair| 191.0|Marvel Comics|         -|     good| 135.0|      25|\n",
      "|546|   Razor-Fist II|  Male|       blue|   -|   No Hair| 191.0|Marvel Comics|         -|      bad| 117.0|      26|\n",
      "| 94|      Black Adam|  Male|      brown|   -|     Black| 191.0|    DC Comics|         -|      bad| 113.0|      27|\n",
      "| 10|      Agent Zero|  Male|          -|   -|         -| 191.0|Marvel Comics|         -|     good| 104.0|      28|\n",
      "|378|            Kang|  Male|      brown|   -|     Brown| 191.0|Marvel Comics|         -|      bad| 104.0|      29|\n",
      "|408|  Lightning Lord|  Male|       blue|   -|       Red| 191.0|    DC Comics|         -|      bad|  95.0|      30|\n",
      "|590|     Shatterstar|  Male|      brown|   -|       Red| 191.0|Marvel Comics|         -|     good|  88.0|      31|\n",
      "|186|         Corsair|  Male|      brown|   -|     Brown| 191.0|Marvel Comics|         -|     good|  79.0|      32|\n",
      "|217|       Destroyer|  Male|          -|   -|         -| 188.0|Marvel Comics|         -|      bad| 383.0|      33|\n",
      "|721|      Wonder Man|  Male|        red|   -|     Black| 188.0|Marvel Comics|         -|     good| 171.0|      34|\n",
      "|336|       Hydro-Man|  Male|      brown|   -|     Brown| 188.0|Marvel Comics|         -|      bad| 119.0|      35|\n",
      "|362|          Jigsaw|  Male|       blue|   -|     Black| 188.0|Marvel Comics|         -|      bad| 113.0|      36|\n",
      "| 11|      Air-Walker|  Male|       blue|   -|     White| 188.0|Marvel Comics|         -|      bad| 108.0|      37|\n",
      "|154|Captain Mar-vell|  Male|       blue|   -|     Blond| 188.0|Marvel Comics|         -|     good| 108.0|      38|\n",
      "|552|       Red Skull|  Male|       blue|   -|   No Hair| 188.0|Marvel Comics|         -|      bad| 108.0|      39|\n",
      "|707|         Warlock|  Male|        red|   -|     Blond| 188.0|Marvel Comics|         -|     good| 108.0|      40|\n",
      "|452|           Mimic|  Male|      brown|   -|     Brown| 188.0|Marvel Comics|         -|     good| 101.0|      41|\n",
      "|727|     Yellow Claw|  Male|       blue|   -|   No Hair| 188.0|Marvel Comics|         -|      bad|  95.0|      42|\n",
      "|269|  Franklin Storm|     -|       blue|   -|      Grey| 188.0|Marvel Comics|         -|     good|  92.0|      43|\n",
      "|429|        Man-Wolf|  Male|      brown|   -|    Auburn| 188.0|Marvel Comics|         -|     good|  90.0|      44|\n",
      "|472|          Morlun|  Male|white / red|   -|     Black| 188.0|Marvel Comics|         -|      bad|  79.0|      45|\n",
      "|152|    Captain Epic|  Male|       blue|   -|     Brown| 188.0| Team Epic TV|         -|     good| -99.0|      46|\n",
      "| 42|            Ares|  Male|      brown|   -|     Brown| 185.0|Marvel Comics|         -|     good| 270.0|      47|\n",
      "|586|     Shadow King|     -|        red|   -|         -| 185.0|Marvel Comics|         -|     good| 149.0|      48|\n",
      "|663|     Thunderbird|  Male|      brown|   -|     Black| 185.0|Marvel Comics|         -|     good| 101.0|      49|\n",
      "|102| Black Lightning|  Male|      brown|   -|   No Hair| 185.0|    DC Comics|         -|     good|  90.0|      50|\n",
      "+---+----------------+------+-----------+----+----------+------+-------------+----------+---------+------+--------+\n",
      "only showing top 50 rows\n",
      "\n"
     ]
    }
   ],
   "source": [
    "sqlcontext\\\n",
    ".sql(\"\"\"select *, \n",
    "     ROW_NUMBER()over(Partition by Race order by Height desc,Weight desc) part_col \n",
    "     from hero_Table\"\"\")\\\n",
    ".show(50)"
   ]
  },
  {
   "cell_type": "code",
   "execution_count": 104,
   "metadata": {
    "scrolled": true
   },
   "outputs": [
    {
     "name": "stdout",
     "output_type": "stream",
     "text": [
      "+---+-----------------+------+---------+-------------+----------+------+-----------+----------+---------+------+-------+\n",
      "|_c0|             name|Gender|Eye_color|         Race|Hair_color|Height|  Publisher|Skin_color|Alignment|Weight|prt_col|\n",
      "+---+-----------------+------+---------+-------------+----------+------+-----------+----------+---------+------+-------+\n",
      "|542|            Rambo|  Male|    brown|        Human|     Black| 178.0|       null|         -|     good|  83.0|      1|\n",
      "| 46|        Astro Boy|  Male|    brown|            -|     Black| -99.0|       null|         -|     good| -99.0|      2|\n",
      "| 86|     Bionic Woman|Female|     blue|       Cyborg|     Black| -99.0|       null|         -|     good| -99.0|      3|\n",
      "|138|       Brundlefly|  Male|        -|       Mutant|         -| 193.0|       null|         -|        -| -99.0|      4|\n",
      "|175|     Chuck Norris|  Male|        -|            -|         -| 178.0|       null|         -|     good| -99.0|      5|\n",
      "|204|         Darkside|     -|        -|            -|         -| -99.0|       null|         -|      bad| -99.0|      6|\n",
      "|244|       Ethan Hunt|  Male|    brown|        Human|     Brown| 168.0|       null|         -|     good| -99.0|      7|\n",
      "|263|     Flash Gordon|  Male|        -|            -|         -| -99.0|       null|         -|     good| -99.0|      8|\n",
      "|348|       Jack Bauer|  Male|        -|            -|         -| -99.0|       null|         -|     good| -99.0|      9|\n",
      "|354|     Jason Bourne|  Male|        -|        Human|         -| -99.0|       null|         -|     good| -99.0|     10|\n",
      "|381| Katniss Everdeen|Female|        -|        Human|         -| -99.0|       null|         -|     good| -99.0|     11|\n",
      "|393|     Kool-Aid Man|  Male|    black|            -|   No Hair| -99.0|       null|       red|     good| -99.0|     12|\n",
      "|658|         The Cape|  Male|        -|            -|         -| -99.0|       null|         -|     good| -99.0|     13|\n",
      "|286|         Godzilla|     -|        -|        Kaiju|         -| 108.0|       null|      grey|      bad|  null|     14|\n",
      "|389|        King Kong|  Male|   yellow|       Animal|     Black|  30.5|       null|         -|     good|  null|     15|\n",
      "|199|    Daphne Powell|Female|        -|            -|         -| -99.0|ABC Studios|         -|     good| -99.0|      1|\n",
      "|363|       Jim Powell|  Male|        -|            -|         -| -99.0|ABC Studios|         -|     good| -99.0|      2|\n",
      "|364|        JJ Powell|  Male|        -|            -|         -| -99.0|ABC Studios|         -|     good| -99.0|      3|\n",
      "|638| Stephanie Powell|Female|        -|            -|     Blond| -99.0|ABC Studios|         -|     good| -99.0|      4|\n",
      "|203|         Darkseid|  Male|      red|      New God|   No Hair| 267.0|  DC Comics|      grey|      bad| 817.0|      1|\n",
      "|283|          Giganta|Female|    green|            -|       Red|  62.5|  DC Comics|         -|      bad| 630.0|      2|\n",
      "|611|   Solomon Grundy|  Male|    black|       Zombie|     White| 279.0|  DC Comics|         -|      bad| 437.0|      3|\n",
      "|229|         Doomsday|  Male|      red|        Alien|     White| 244.0|  DC Comics|         -|      bad| 412.0|      4|\n",
      "|386|      Killer Croc|  Male|      red|    Metahuman|   No Hair| 244.0|  DC Comics|     green|      bad| 356.0|      5|\n",
      "|388|          Kilowog|  Male|      red|   Bolovaxian|   No Hair| 234.0|  DC Comics|      pink|     good| 324.0|      6|\n",
      "|413|             Lobo|  Male|      red|     Czarnian|     Black| 229.0|  DC Comics|blue-white|  neutral| 288.0|      7|\n",
      "|293|    Gorilla Grodd|  Male|   yellow|      Gorilla|     Black| 198.0|  DC Comics|         -|      bad| 270.0|      8|\n",
      "|245|          Etrigan|  Male|      red|        Demon|   No Hair| 193.0|  DC Comics|    yellow|  neutral| 203.0|      9|\n",
      "| 59|             Bane|  Male|        -|        Human|         -| 203.0|  DC Comics|         -|      bad| 180.0|     10|\n",
      "| 19|            Amazo|  Male|      red|      Android|         -| 257.0|  DC Comics|         -|      bad| 173.0|     11|\n",
      "|193|           Cyborg|  Male|    brown|       Cyborg|     Black| 198.0|  DC Comics|         -|     good| 173.0|     12|\n",
      "|176|    Citizen Steel|  Male|    green|        Human|       Red| 183.0|  DC Comics|         -|     good| 170.0|     13|\n",
      "| 92|          Bizarro|  Male|    black|      Bizarro|     Black| 191.0|  DC Comics|     white|  neutral| 155.0|     14|\n",
      "| 37|          Aquaman|  Male|     blue|    Atlantean|     Blond| 185.0|  DC Comics|         -|     good| 146.0|     15|\n",
      "|553|      Red Tornado|  Male|    green|      Android|   No Hair| 185.0|  DC Comics|         -|     good| 146.0|     16|\n",
      "| 80|        Big Barda|Female|     blue|      New God|     Black| 188.0|  DC Comics|         -|      bad| 135.0|     17|\n",
      "|135|         Brainiac|  Male|    green|      Android|   No Hair| 198.0|  DC Comics|     green|      bad| 135.0|     18|\n",
      "|432|Martian Manhunter|  Male|      red|      Martian|   No Hair| 201.0|  DC Comics|     green|     good| 135.0|     19|\n",
      "|637|            Steel|  Male|    brown|            -|   No Hair| 201.0|  DC Comics|         -|     good| 131.0|     20|\n",
      "| 48|            Atlas|  Male|     blue|God / Eternal|     Brown| 198.0|  DC Comics|         -|      bad| 126.0|     21|\n",
      "|294|  Granny Goodness|Female|     blue|            -|     White| 178.0|  DC Comics|         -|      bad| 115.0|     22|\n",
      "| 94|       Black Adam|  Male|    brown|            -|     Black| 191.0|  DC Comics|         -|      bad| 113.0|     23|\n",
      "|613|      Space Ghost|  Male|        -|        Human|         -| 188.0|  DC Comics|         -|     good| 113.0|     24|\n",
      "| 36|          Aqualad|  Male|     blue|    Atlantean|     Black| 178.0|  DC Comics|         -|     good| 106.0|     25|\n",
      "|156|   Captain Marvel|  Male|     blue|        Human|     Black| 193.0|  DC Comics|         -|     good| 101.0|     26|\n",
      "|215|      Deathstroke|  Male|     blue|        Human|     White| 193.0|  DC Comics|         -|  neutral| 101.0|     27|\n",
      "|564|         Robin II|  Male|     blue|        Human|       Red| 183.0|  DC Comics|         -|     good| 101.0|     28|\n",
      "|646|         Superman|  Male|     blue|   Kryptonian|     Black| 191.0|  DC Comics|         -|     good| 101.0|     29|\n",
      "|659|     The Comedian|  Male|    brown|        Human|     Black| 188.0|  DC Comics|         -|  neutral| 101.0|     30|\n",
      "|131|     Booster Gold|  Male|     blue|        Human|     Blond| 196.0|  DC Comics|         -|     good|  97.0|     31|\n",
      "+---+-----------------+------+---------+-------------+----------+------+-----------+----------+---------+------+-------+\n",
      "only showing top 50 rows\n",
      "\n"
     ]
    }
   ],
   "source": [
    "sqlcontext.sql(\"\"\"\n",
    "select *,row_number() over(partition by Publisher order by Weight desc)prt_col \n",
    "from hero_Table\"\"\").show(50)"
   ]
  },
  {
   "cell_type": "code",
   "execution_count": 204,
   "metadata": {},
   "outputs": [
    {
     "name": "stdout",
     "output_type": "stream",
     "text": [
      "+-----------+\n",
      "|max(Weight)|\n",
      "+-----------+\n",
      "|      900.0|\n",
      "+-----------+\n",
      "\n"
     ]
    }
   ],
   "source": [
    "sqlcontext.sql(\"\"\"\n",
    "select max(Weight) from hero_Table\"\"\").show()"
   ]
  },
  {
   "attachments": {},
   "cell_type": "markdown",
   "metadata": {},
   "source": [
    "#### Renaming of column name in DataFrame: \n",
    "     function used->>  \"withColumnRenamed\"\n",
    "     Check Below Spark Code:"
   ]
  },
  {
   "cell_type": "code",
   "execution_count": 106,
   "metadata": {},
   "outputs": [],
   "source": [
    "sn_hero_df=hero_df.withColumnRenamed('_c0','serial_no')"
   ]
  },
  {
   "cell_type": "code",
   "execution_count": 107,
   "metadata": {},
   "outputs": [
    {
     "name": "stdout",
     "output_type": "stream",
     "text": [
      "+---------+-----------+------+---------+-----------------+----------+------+-----------------+----------+---------+------+\n",
      "|serial_no|       name|Gender|Eye_color|             Race|Hair_color|Height|        Publisher|Skin_color|Alignment|Weight|\n",
      "+---------+-----------+------+---------+-----------------+----------+------+-----------------+----------+---------+------+\n",
      "|        0|     A-Bomb|  Male|   yellow|            Human|   No Hair| 203.0|    Marvel Comics|         -|     good| 441.0|\n",
      "|        1| Abe Sapien|  Male|     blue|    Icthyo Sapien|   No Hair| 191.0|Dark Horse Comics|      blue|     good|  65.0|\n",
      "|        2|   Abin Sur|  Male|     blue|          Ungaran|   No Hair| 185.0|        DC Comics|       red|     good|  90.0|\n",
      "|        3|Abomination|  Male|    green|Human / Radiation|   No Hair| 203.0|    Marvel Comics|         -|      bad| 441.0|\n",
      "|        4|    Abraxas|  Male|     blue|    Cosmic Entity|     Black| -99.0|    Marvel Comics|         -|      bad| -99.0|\n",
      "+---------+-----------+------+---------+-----------------+----------+------+-----------------+----------+---------+------+\n",
      "only showing top 5 rows\n",
      "\n"
     ]
    }
   ],
   "source": [
    "sn_hero_df.show(5)"
   ]
  },
  {
   "cell_type": "code",
   "execution_count": 108,
   "metadata": {},
   "outputs": [
    {
     "name": "stdout",
     "output_type": "stream",
     "text": [
      "+---+-----------+------+---------+-----------------+----------+------+-----------------+----------+---------+------+\n",
      "|_c0|       name|Gender|Eye_color|             Race|Hair_color|Height|        Publisher|Skin_color|Alignment|Weight|\n",
      "+---+-----------+------+---------+-----------------+----------+------+-----------------+----------+---------+------+\n",
      "|  0|     A-Bomb|  Male|   yellow|            Human|   No Hair| 203.0|    Marvel Comics|         -|     good| 441.0|\n",
      "|  1| Abe Sapien|  Male|     blue|    Icthyo Sapien|   No Hair| 191.0|Dark Horse Comics|      blue|     good|  65.0|\n",
      "|  2|   Abin Sur|  Male|     blue|          Ungaran|   No Hair| 185.0|        DC Comics|       red|     good|  90.0|\n",
      "|  3|Abomination|  Male|    green|Human / Radiation|   No Hair| 203.0|    Marvel Comics|         -|      bad| 441.0|\n",
      "|  4|    Abraxas|  Male|     blue|    Cosmic Entity|     Black| -99.0|    Marvel Comics|         -|      bad| -99.0|\n",
      "+---+-----------+------+---------+-----------------+----------+------+-----------------+----------+---------+------+\n",
      "only showing top 5 rows\n",
      "\n"
     ]
    }
   ],
   "source": [
    "hero_df.show(5)"
   ]
  },
  {
   "cell_type": "code",
   "execution_count": 211,
   "metadata": {},
   "outputs": [
    {
     "name": "stdout",
     "output_type": "stream",
     "text": [
      "root\n",
      " |-- serial_no: integer (nullable = true)\n",
      " |-- name: string (nullable = true)\n",
      " |-- Gender: string (nullable = true)\n",
      " |-- Eye_color: string (nullable = true)\n",
      " |-- Race: string (nullable = true)\n",
      " |-- Hair_color: string (nullable = true)\n",
      " |-- Height: double (nullable = true)\n",
      " |-- Publisher: string (nullable = true)\n",
      " |-- Skin_color: string (nullable = true)\n",
      " |-- Alignment: string (nullable = true)\n",
      " |-- Weight: double (nullable = true)\n",
      "\n"
     ]
    }
   ],
   "source": [
    " sn_hero_df.printSchema()"
   ]
  },
  {
   "cell_type": "code",
   "execution_count": 212,
   "metadata": {},
   "outputs": [
    {
     "name": "stdout",
     "output_type": "stream",
     "text": [
      "root\n",
      " |-- _c0: integer (nullable = true)\n",
      " |-- name: string (nullable = true)\n",
      " |-- Gender: string (nullable = true)\n",
      " |-- Eye_color: string (nullable = true)\n",
      " |-- Race: string (nullable = true)\n",
      " |-- Hair_color: string (nullable = true)\n",
      " |-- Height: double (nullable = true)\n",
      " |-- Publisher: string (nullable = true)\n",
      " |-- Skin_color: string (nullable = true)\n",
      " |-- Alignment: string (nullable = true)\n",
      " |-- Weight: double (nullable = true)\n",
      "\n"
     ]
    }
   ],
   "source": [
    "hero_df.printSchema()"
   ]
  },
  {
   "cell_type": "code",
   "execution_count": 110,
   "metadata": {},
   "outputs": [
    {
     "name": "stdout",
     "output_type": "stream",
     "text": [
      "+-------+------------------+------+------+------------+------+----------+------------------+-----------+----------+---------+------------------+\n",
      "|summary|               _c0|  name|Gender|   Eye_color|  Race|Hair_color|            Height|  Publisher|Skin_color|Alignment|            Weight|\n",
      "+-------+------------------+------+------+------------+------+----------+------------------+-----------+----------+---------+------------------+\n",
      "|  count|               734|   734|   734|         734|   734|       734|               734|        719|       734|      734|               732|\n",
      "|   mean|             366.5|  null|  null|        null|  null|      null|102.25408719346049|       null|      null|     null|  43.8551912568306|\n",
      "| stddev|212.03183723205342|  null|  null|        null|  null|      null|139.62454255007276|       null|      null|     null|130.82373271995195|\n",
      "|    min|                 0|A-Bomb|     -|           -|     -|         -|             -99.0|ABC Studios|         -|        -|             -99.0|\n",
      "|    max|               733|  Zoom|  Male|yellow / red|Zombie|     blond|             975.0|  Wildstorm|    yellow|  neutral|             900.0|\n",
      "+-------+------------------+------+------+------------+------+----------+------------------+-----------+----------+---------+------------------+\n",
      "\n"
     ]
    }
   ],
   "source": [
    "hero_df.describe().show()"
   ]
  },
  {
   "cell_type": "code",
   "execution_count": 214,
   "metadata": {},
   "outputs": [
    {
     "name": "stdout",
     "output_type": "stream",
     "text": [
      "+-------+------+\n",
      "|summary|  Race|\n",
      "+-------+------+\n",
      "|  count|   734|\n",
      "|   mean|  null|\n",
      "| stddev|  null|\n",
      "|    min|     -|\n",
      "|    max|Zombie|\n",
      "+-------+------+\n",
      "\n"
     ]
    }
   ],
   "source": [
    "hero_df.describe('Race').show()"
   ]
  },
  {
   "attachments": {},
   "cell_type": "markdown",
   "metadata": {},
   "source": [
    "#### Fetching distinct records for a column from DataFrame:\n",
    "    Check Below Spark Code:-->>"
   ]
  },
  {
   "cell_type": "code",
   "execution_count": 111,
   "metadata": {
    "scrolled": true
   },
   "outputs": [
    {
     "name": "stdout",
     "output_type": "stream",
     "text": [
      "+----------+\n",
      "|Skin_color|\n",
      "+----------+\n",
      "|         -|\n",
      "|      blue|\n",
      "|       red|\n",
      "|     black|\n",
      "|      grey|\n",
      "+----------+\n",
      "only showing top 5 rows\n",
      "\n"
     ]
    }
   ],
   "source": [
    "hero_df.select('Skin_color').distinct().show(5)"
   ]
  },
  {
   "cell_type": "code",
   "execution_count": 226,
   "metadata": {},
   "outputs": [
    {
     "name": "stdout",
     "output_type": "stream",
     "text": [
      "+----------+---------+-----------------+---------+\n",
      "|Skin_color|Eye_color|             Race|Alignment|\n",
      "+----------+---------+-----------------+---------+\n",
      "|         -|   yellow|            Human|     good|\n",
      "|      blue|     blue|    Icthyo Sapien|     good|\n",
      "|       red|     blue|          Ungaran|     good|\n",
      "|         -|    green|Human / Radiation|      bad|\n",
      "|         -|     blue|    Cosmic Entity|      bad|\n",
      "|         -|     blue|            Human|      bad|\n",
      "|         -|     blue|                -|     good|\n",
      "|         -|     blue|            Human|     good|\n",
      "|         -|    brown|            Human|     good|\n",
      "|         -|        -|                -|     good|\n",
      "|         -|     blue|                -|      bad|\n",
      "|         -|    brown|           Cyborg|      bad|\n",
      "|         -|        -|            Human|      bad|\n",
      "|     black|        -|  Xenomorph XX121|      bad|\n",
      "|         -|      red|          Android|      bad|\n",
      "|         -|    brown|            Human|      bad|\n",
      "|         -|        -|          Vampire|     good|\n",
      "|         -|   yellow|           Mutant|     good|\n",
      "|         -|    brown|                -|     good|\n",
      "|         -|        -|                -|      bad|\n",
      "|         -|    green|                -|      bad|\n",
      "|         -|   yellow|    God / Eternal|      bad|\n",
      "|         -|     blue|         Symbiote|        -|\n",
      "|      grey|      red|           Mutant|      bad|\n",
      "|         -|     blue|        Atlantean|     good|\n",
      "|      blue|     blue|           Mutant|     good|\n",
      "|         -|   violet|                -|      bad|\n",
      "|      gold|    white|            Alien|     good|\n",
      "|         -|   purple|                -|     good|\n",
      "|         -|    black|                -|     good|\n",
      "|         -|        -|            Human|     good|\n",
      "|         -|    brown|           Mutant|     good|\n",
      "|         -|     blue|    God / Eternal|      bad|\n",
      "|         -|     blue|           Mutant|     good|\n",
      "|       red|   yellow|         Neyaphem|      bad|\n",
      "|         -|    green|            Human|     good|\n",
      "|     green|    green|            Human|     good|\n",
      "|         -|        -|    God / Eternal|     good|\n",
      "|         -|     blue|          New God|      bad|\n",
      "|         -|        -|            Alpha|     good|\n",
      "|         -|     blue|           Cyborg|     good|\n",
      "|     white|    black|          Bizarro|  neutral|\n",
      "|         -|      red|                -|      bad|\n",
      "|         -|    brown|                -|      bad|\n",
      "|         -|     blue|          Inhuman|     good|\n",
      "|         -|     blue|        Metahuman|     good|\n",
      "|         -|        -|    God / Eternal|  neutral|\n",
      "|         -|    black|            Human|      bad|\n",
      "|     white|      red|            Demon|      bad|\n",
      "|         -|      red|            Alien|        -|\n",
      "|         -|    brown|          Vampire|     good|\n",
      "|      pink|    green|           Mutant|     good|\n",
      "|         -|    black|           Mutant|     good|\n",
      "|         -|    white|                -|      bad|\n",
      "|         -|    brown|    Human / Clone|      bad|\n",
      "|     green|    green|          Android|      bad|\n",
      "|         -|    green|                -|     good|\n",
      "|         -|        -|           Mutant|        -|\n",
      "|    silver|     blue|Human / Radiation|     good|\n",
      "|         -|    brown|            Human|  neutral|\n",
      "+----------+---------+-----------------+---------+\n",
      "only showing top 60 rows\n",
      "\n"
     ]
    }
   ],
   "source": [
    "hero_df.select('Skin_color','Eye_color','Race','Alignment').distinct().show(60)"
   ]
  },
  {
   "cell_type": "code",
   "execution_count": 118,
   "metadata": {},
   "outputs": [
    {
     "name": "stdout",
     "output_type": "stream",
     "text": [
      "+-------+----------+\n",
      "|summary|Skin_color|\n",
      "+-------+----------+\n",
      "|  count|       734|\n",
      "|    max|    yellow|\n",
      "|    min|         -|\n",
      "|   mean|      null|\n",
      "| stddev|      null|\n",
      "+-------+----------+\n",
      "\n",
      "None\n",
      "734\n",
      "Distinct skin color: 17\n",
      "+--------------+\n",
      "|    Skin_color|\n",
      "+--------------+\n",
      "|             -|\n",
      "|          blue|\n",
      "|           red|\n",
      "|         black|\n",
      "|          grey|\n",
      "|          gold|\n",
      "|         green|\n",
      "|         white|\n",
      "|          pink|\n",
      "|        silver|\n",
      "|   red / black|\n",
      "|        yellow|\n",
      "|        purple|\n",
      "|orange / white|\n",
      "|          gray|\n",
      "|    blue-white|\n",
      "|        orange|\n",
      "+--------------+\n",
      "\n",
      "None\n"
     ]
    }
   ],
   "source": [
    "print(hero_df.describe('Skin_color').distinct().show())\n",
    "print(hero_df.count())\n",
    "print(\"Distinct skin color:\",hero_df.select('Skin_color').distinct().count())\n",
    "print(hero_df.select('Skin_color').distinct().show())"
   ]
  },
  {
   "cell_type": "code",
   "execution_count": 119,
   "metadata": {
    "scrolled": true
   },
   "outputs": [
    {
     "name": "stdout",
     "output_type": "stream",
     "text": [
      "+---+-----------+------+---------+-----------------+----------+------+-----------------+----------+---------+------+\n",
      "|_c0|       name|Gender|Eye_color|             Race|Hair_color|Height|        Publisher|Skin_color|Alignment|Weight|\n",
      "+---+-----------+------+---------+-----------------+----------+------+-----------------+----------+---------+------+\n",
      "|  0|     A-Bomb|  Male|   yellow|            Human|   No Hair| 203.0|    Marvel Comics|         -|     good| 441.0|\n",
      "|  1| Abe Sapien|  Male|     blue|    Icthyo Sapien|   No Hair| 191.0|Dark Horse Comics|      blue|     good|  65.0|\n",
      "|  2|   Abin Sur|  Male|     blue|          Ungaran|   No Hair| 185.0|        DC Comics|       red|     good|  90.0|\n",
      "|  3|Abomination|  Male|    green|Human / Radiation|   No Hair| 203.0|    Marvel Comics|         -|      bad| 441.0|\n",
      "|  4|    Abraxas|  Male|     blue|    Cosmic Entity|     Black| -99.0|    Marvel Comics|         -|      bad| -99.0|\n",
      "+---+-----------+------+---------+-----------------+----------+------+-----------------+----------+---------+------+\n",
      "only showing top 5 rows\n",
      "\n"
     ]
    }
   ],
   "source": [
    "hero_df.show(5)"
   ]
  },
  {
   "cell_type": "code",
   "execution_count": 231,
   "metadata": {},
   "outputs": [],
   "source": [
    "from pyspark.sql.functions import desc\n",
    "from pyspark.sql.functions import asc"
   ]
  },
  {
   "cell_type": "code",
   "execution_count": 120,
   "metadata": {},
   "outputs": [
    {
     "name": "stdout",
     "output_type": "stream",
     "text": [
      "+---+----------+------+---------+-----------------+----------+------+-------------+----------+---------+------+\n",
      "|_c0|      name|Gender|Eye_color|             Race|Hair_color|Height|    Publisher|Skin_color|Alignment|Weight|\n",
      "+---+----------+------+---------+-----------------+----------+------+-------------+----------+---------+------+\n",
      "|575| Sasquatch|  Male|      red|                -|    Orange| 305.0|Marvel Comics|         -|     good| 900.0|\n",
      "|373|Juggernaut|  Male|     blue|            Human|       Red| 287.0|Marvel Comics|         -|  neutral| 855.0|\n",
      "|203|  Darkseid|  Male|      red|          New God|   No Hair| 267.0|    DC Comics|      grey|      bad| 817.0|\n",
      "|283|   Giganta|Female|    green|                -|       Red|  62.5|    DC Comics|         -|      bad| 630.0|\n",
      "|549|  Red Hulk|  Male|   yellow|Human / Radiation|     Black| 213.0|Marvel Comics|       red|  neutral| 630.0|\n",
      "|331|      Hulk|  Male|    green|Human / Radiation|     Green| 244.0|Marvel Comics|     green|     good| 630.0|\n",
      "|119|  Bloodaxe|Female|     blue|            Human|     Brown| 218.0|Marvel Comics|         -|      bad| 495.0|\n",
      "|718| Wolfsbane|Female|    green|                -|    Auburn| 366.0|Marvel Comics|         -|     good| 473.0|\n",
      "|657|    Thanos|  Male|      red|          Eternal|   No Hair| 201.0|Marvel Comics|    purple|      bad| 443.0|\n",
      "|  0|    A-Bomb|  Male|   yellow|            Human|   No Hair| 203.0|Marvel Comics|         -|     good| 441.0|\n",
      "+---+----------+------+---------+-----------------+----------+------+-------------+----------+---------+------+\n",
      "only showing top 10 rows\n",
      "\n"
     ]
    }
   ],
   "source": [
    "hero_df.sort(desc('Weight')).show(10)"
   ]
  },
  {
   "cell_type": "code",
   "execution_count": 122,
   "metadata": {},
   "outputs": [],
   "source": [
    "# sorting a datafarame in descending order by one column\n",
    "sorted_df=hero_df.sort(desc('Weight'))"
   ]
  },
  {
   "cell_type": "code",
   "execution_count": 123,
   "metadata": {},
   "outputs": [
    {
     "data": {
      "text/plain": [
       "734"
      ]
     },
     "execution_count": 123,
     "metadata": {},
     "output_type": "execute_result"
    }
   ],
   "source": [
    "sorted_df.count()"
   ]
  },
  {
   "cell_type": "code",
   "execution_count": 124,
   "metadata": {},
   "outputs": [
    {
     "name": "stdout",
     "output_type": "stream",
     "text": [
      "+---+----------+------+---------+-----------------+----------+------+-------------+----------+---------+------+\n",
      "|_c0|      name|Gender|Eye_color|             Race|Hair_color|Height|    Publisher|Skin_color|Alignment|Weight|\n",
      "+---+----------+------+---------+-----------------+----------+------+-------------+----------+---------+------+\n",
      "|575| Sasquatch|  Male|      red|                -|    Orange| 305.0|Marvel Comics|         -|     good| 900.0|\n",
      "|373|Juggernaut|  Male|     blue|            Human|       Red| 287.0|Marvel Comics|         -|  neutral| 855.0|\n",
      "|203|  Darkseid|  Male|      red|          New God|   No Hair| 267.0|    DC Comics|      grey|      bad| 817.0|\n",
      "|283|   Giganta|Female|    green|                -|       Red|  62.5|    DC Comics|         -|      bad| 630.0|\n",
      "|549|  Red Hulk|  Male|   yellow|Human / Radiation|     Black| 213.0|Marvel Comics|       red|  neutral| 630.0|\n",
      "|331|      Hulk|  Male|    green|Human / Radiation|     Green| 244.0|Marvel Comics|     green|     good| 630.0|\n",
      "|119|  Bloodaxe|Female|     blue|            Human|     Brown| 218.0|Marvel Comics|         -|      bad| 495.0|\n",
      "|718| Wolfsbane|Female|    green|                -|    Auburn| 366.0|Marvel Comics|         -|     good| 473.0|\n",
      "|657|    Thanos|  Male|      red|          Eternal|   No Hair| 201.0|Marvel Comics|    purple|      bad| 443.0|\n",
      "|  0|    A-Bomb|  Male|   yellow|            Human|   No Hair| 203.0|Marvel Comics|         -|     good| 441.0|\n",
      "+---+----------+------+---------+-----------------+----------+------+-------------+----------+---------+------+\n",
      "only showing top 10 rows\n",
      "\n"
     ]
    }
   ],
   "source": [
    "sorted_df.show(10)"
   ]
  },
  {
   "cell_type": "code",
   "execution_count": 125,
   "metadata": {},
   "outputs": [],
   "source": [
    "# select from sorted dataframe.\n",
    "sorted_df_1=sorted_df.select('name','weight','height')"
   ]
  },
  {
   "cell_type": "code",
   "execution_count": 126,
   "metadata": {
    "scrolled": true
   },
   "outputs": [
    {
     "name": "stdout",
     "output_type": "stream",
     "text": [
      "+----------+------+------+\n",
      "|      name|weight|height|\n",
      "+----------+------+------+\n",
      "| Sasquatch| 900.0| 305.0|\n",
      "|Juggernaut| 855.0| 287.0|\n",
      "|  Darkseid| 817.0| 267.0|\n",
      "|   Giganta| 630.0|  62.5|\n",
      "|      Hulk| 630.0| 244.0|\n",
      "+----------+------+------+\n",
      "only showing top 5 rows\n",
      "\n"
     ]
    }
   ],
   "source": [
    "sorted_df_1.show(5)"
   ]
  },
  {
   "cell_type": "code",
   "execution_count": 127,
   "metadata": {},
   "outputs": [],
   "source": [
    "sorted_df_2=sorted_df.select('name','height','race','weight')"
   ]
  },
  {
   "cell_type": "code",
   "execution_count": 128,
   "metadata": {
    "scrolled": true
   },
   "outputs": [
    {
     "name": "stdout",
     "output_type": "stream",
     "text": [
      "+----------+------+-----------------+------+\n",
      "|      name|height|             race|weight|\n",
      "+----------+------+-----------------+------+\n",
      "| Sasquatch| 305.0|                -| 900.0|\n",
      "|Juggernaut| 287.0|            Human| 855.0|\n",
      "|  Darkseid| 267.0|          New God| 817.0|\n",
      "|   Giganta|  62.5|                -| 630.0|\n",
      "|      Hulk| 244.0|Human / Radiation| 630.0|\n",
      "+----------+------+-----------------+------+\n",
      "only showing top 5 rows\n",
      "\n"
     ]
    }
   ],
   "source": [
    "sorted_df_2.show(5)"
   ]
  },
  {
   "cell_type": "code",
   "execution_count": 273,
   "metadata": {
    "scrolled": true
   },
   "outputs": [
    {
     "data": {
      "text/plain": [
       "734"
      ]
     },
     "execution_count": 273,
     "metadata": {},
     "output_type": "execute_result"
    }
   ],
   "source": [
    "sorted_df_2.count()"
   ]
  },
  {
   "attachments": {},
   "cell_type": "markdown",
   "metadata": {},
   "source": [
    "#### Dropping duplicates from DataFrame:\n",
    "     Used functions:--->> \"dropDuplicates\"\n",
    "     Check Below Spark Code:--->>"
   ]
  },
  {
   "cell_type": "code",
   "execution_count": 144,
   "metadata": {},
   "outputs": [],
   "source": [
    "# removing duplicate for column 'height' from a sorted dataframe.\n",
    "height_duplicate=sorted_df_1.dropDuplicates(['height'])"
   ]
  },
  {
   "cell_type": "code",
   "execution_count": 146,
   "metadata": {
    "scrolled": true
   },
   "outputs": [
    {
     "name": "stdout",
     "output_type": "stream",
     "text": [
      "54\n",
      "734\n",
      "54\n"
     ]
    }
   ],
   "source": [
    "print(height_duplicate.count())\n",
    "print(sorted_df_1.select('Height').count())\n",
    "print(sorted_df.select('Height').distinct().count())"
   ]
  },
  {
   "cell_type": "code",
   "execution_count": 2,
   "metadata": {
    "scrolled": true
   },
   "outputs": [
    {
     "ename": "NameError",
     "evalue": "name 'sorted_df_2' is not defined",
     "output_type": "error",
     "traceback": [
      "\u001b[1;31m---------------------------------------------------------------------------\u001b[0m",
      "\u001b[1;31mNameError\u001b[0m                                 Traceback (most recent call last)",
      "Cell \u001b[1;32mIn[2], line 2\u001b[0m\n\u001b[0;32m      1\u001b[0m \u001b[39m# get count of distinct 'race' from sorted dataframe\u001b[39;00m\n\u001b[1;32m----> 2\u001b[0m \u001b[39mprint\u001b[39m(sorted_df_2\u001b[39m.\u001b[39mselect(\u001b[39m'\u001b[39m\u001b[39mrace\u001b[39m\u001b[39m'\u001b[39m)\u001b[39m.\u001b[39mdistinct()\u001b[39m.\u001b[39mcount())\n\u001b[0;32m      4\u001b[0m \u001b[39m# get count of 'race' after removing duplicate 'race'\u001b[39;00m\n\u001b[0;32m      5\u001b[0m \u001b[39mprint\u001b[39m(sorted_df_2\u001b[39m.\u001b[39mdropDuplicates([\u001b[39m'\u001b[39m\u001b[39mrace\u001b[39m\u001b[39m'\u001b[39m])\u001b[39m.\u001b[39mcount())\n",
      "\u001b[1;31mNameError\u001b[0m: name 'sorted_df_2' is not defined"
     ]
    }
   ],
   "source": [
    "# get count of distinct 'race' from sorted dataframe\n",
    "print(sorted_df_2.select('race').distinct().count())\n",
    "\n",
    "# get count of 'race' after removing duplicate 'race'\n",
    "print(sorted_df_2.dropDuplicates(['race']).count())"
   ]
  },
  {
   "attachments": {},
   "cell_type": "markdown",
   "metadata": {},
   "source": [
    "In above spark code \n",
    "in first output we can see that there are 62 distincts race present in dataframe:\n",
    "In second output we can see that after removing duplicates for 'race' we r getting 62 records \n",
    "Thus this is functions are working correct\n"
   ]
  },
  {
   "cell_type": "code",
   "execution_count": 147,
   "metadata": {},
   "outputs": [],
   "source": [
    "# removing duplicates for two columns 'race' and 'height'.\n",
    "race_height_duplicate=sorted_df_2.dropDuplicates(['race','height'])"
   ]
  },
  {
   "cell_type": "code",
   "execution_count": 148,
   "metadata": {
    "scrolled": true
   },
   "outputs": [
    {
     "data": {
      "text/plain": [
       "206"
      ]
     },
     "execution_count": 148,
     "metadata": {},
     "output_type": "execute_result"
    }
   ],
   "source": [
    "race_height_duplicate.count()"
   ]
  },
  {
   "cell_type": "code",
   "execution_count": 149,
   "metadata": {},
   "outputs": [
    {
     "name": "stdout",
     "output_type": "stream",
     "text": [
      "+---------------+------+----+------+\n",
      "|           name|height|race|weight|\n",
      "+---------------+------+----+------+\n",
      "|        Atom IV| -99.0|   -|  72.0|\n",
      "|    Bloodwraith|  30.5|   -| -99.0|\n",
      "|        Giganta|  62.5|   -| 630.0|\n",
      "|Howard the Duck|  79.0|   -|  18.0|\n",
      "|        Wiz Kid| 140.0|   -|  39.0|\n",
      "|  Lightning Lad| 155.0|   -|  65.0|\n",
      "|     Silverclaw| 157.0|   -|  50.0|\n",
      "|          Quill| 163.0|   -|  56.0|\n",
      "|       Vanisher| 165.0|   -|  79.0|\n",
      "|      Ultragirl| 168.0|   -| 105.0|\n",
      "|       Superboy| 170.0|   -|  68.0|\n",
      "|           Warp| 173.0|   -|  67.0|\n",
      "|   Nightcrawler| 175.0|   -|  88.0|\n",
      "|           Blob| 178.0|   -| 230.0|\n",
      "|         Frigga| 180.0|   -| 167.0|\n",
      "|    Machine Man| 183.0|   -| 383.0|\n",
      "|           Ares| 185.0|   -| 270.0|\n",
      "|      Destroyer| 188.0|   -| 383.0|\n",
      "|       Valkyrie| 191.0|   -| 214.0|\n",
      "|        Box III| 193.0|   -| 110.0|\n",
      "+---------------+------+----+------+\n",
      "only showing top 20 rows\n",
      "\n"
     ]
    }
   ],
   "source": [
    "race_height_duplicate.show()"
   ]
  },
  {
   "cell_type": "code",
   "execution_count": 279,
   "metadata": {},
   "outputs": [
    {
     "name": "stdout",
     "output_type": "stream",
     "text": [
      "+-----------+------+------+\n",
      "|       name|weight|height|\n",
      "+-----------+------+------+\n",
      "|      T-850| 198.0| -99.0|\n",
      "|Utgard-Loki|  58.0|  15.2|\n",
      "+-----------+------+------+\n",
      "only showing top 2 rows\n",
      "\n"
     ]
    }
   ],
   "source": [
    "df_srt_1.show(2)"
   ]
  },
  {
   "cell_type": "code",
   "execution_count": 280,
   "metadata": {
    "scrolled": true
   },
   "outputs": [
    {
     "name": "stdout",
     "output_type": "stream",
     "text": [
      "+-----------+------+----+------+\n",
      "|       name|height|race|weight|\n",
      "+-----------+------+----+------+\n",
      "|    Atom IV| -99.0|   -|  72.0|\n",
      "|Bloodwraith|  30.5|   -| -99.0|\n",
      "+-----------+------+----+------+\n",
      "only showing top 2 rows\n",
      "\n"
     ]
    }
   ],
   "source": [
    "df_srt_2.show(2)"
   ]
  },
  {
   "attachments": {},
   "cell_type": "markdown",
   "metadata": {},
   "source": [
    "#### Joining two dataFrames:\n",
    "      Function:--->>\".join\"\n",
    "      Check Below Code:"
   ]
  },
  {
   "cell_type": "code",
   "execution_count": 150,
   "metadata": {},
   "outputs": [],
   "source": [
    "join_df=height_duplicate.join(race_height_duplicate,height_duplicate.name==race_height_duplicate.name)"
   ]
  },
  {
   "cell_type": "code",
   "execution_count": 151,
   "metadata": {},
   "outputs": [
    {
     "name": "stdout",
     "output_type": "stream",
     "text": [
      "+---------------+------+------+---------------+------+--------------+------+\n",
      "|           name|weight|height|           name|height|          race|weight|\n",
      "+---------------+------+------+---------------+------+--------------+------+\n",
      "|          T-850| 198.0| -99.0|          T-850| -99.0|        Cyborg| 198.0|\n",
      "|    Utgard-Loki|  58.0|  15.2|    Utgard-Loki|  15.2|   Frost Giant|  58.0|\n",
      "|    Bloodwraith| -99.0|  30.5|    Bloodwraith|  30.5|             -| -99.0|\n",
      "|   Anti-Monitor| -99.0|  61.0|   Anti-Monitor|  61.0| God / Eternal| -99.0|\n",
      "|        Giganta| 630.0|  62.5|        Giganta|  62.5|             -| 630.0|\n",
      "|         Krypto|  18.0|  64.0|         Krypto|  64.0|    Kryptonian|  18.0|\n",
      "|           Yoda|  17.0|  66.0|           Yoda|  66.0|Yoda's species|  17.0|\n",
      "|      Jack-Jack|  14.0|  71.0|      Jack-Jack|  71.0|         Human|  14.0|\n",
      "|Howard the Duck|  18.0|  79.0|Howard the Duck|  79.0|             -|  18.0|\n",
      "|       Godzilla|  null| 108.0|       Godzilla| 108.0|         Kaiju|  null|\n",
      "+---------------+------+------+---------------+------+--------------+------+\n",
      "only showing top 10 rows\n",
      "\n"
     ]
    }
   ],
   "source": [
    "join_df.show(10)"
   ]
  },
  {
   "cell_type": "code",
   "execution_count": 152,
   "metadata": {},
   "outputs": [
    {
     "data": {
      "text/plain": [
       "54"
      ]
     },
     "execution_count": 152,
     "metadata": {},
     "output_type": "execute_result"
    }
   ],
   "source": [
    "join_df.count()"
   ]
  },
  {
   "cell_type": "code",
   "execution_count": 259,
   "metadata": {},
   "outputs": [
    {
     "data": {
      "text/plain": [
       "616"
      ]
     },
     "execution_count": 259,
     "metadata": {},
     "output_type": "execute_result"
    }
   ],
   "source": [
    "sorted_df.dropDuplicates(['Hair_color','Eye_color','race','alignment','publisher','skin_color','gender','height']).count()"
   ]
  },
  {
   "cell_type": "code",
   "execution_count": 262,
   "metadata": {},
   "outputs": [
    {
     "name": "stdout",
     "output_type": "stream",
     "text": [
      "+---+-------------+------+---------+----+----------+------+-----------------+----------+---------+------+\n",
      "|_c0|         name|Gender|Eye_color|Race|Hair_color|Height|        Publisher|Skin_color|Alignment|Weight|\n",
      "+---+-------------+------+---------+----+----------+------+-----------------+----------+---------+------+\n",
      "|204|     Darkside|     -|        -|   -|         -| -99.0|             null|         -|      bad| -99.0|\n",
      "|263| Flash Gordon|  Male|        -|   -|         -| -99.0|             null|         -|     good| -99.0|\n",
      "|199|Daphne Powell|Female|        -|   -|         -| -99.0|      ABC Studios|         -|     good| -99.0|\n",
      "|363|   Jim Powell|  Male|        -|   -|         -| -99.0|      ABC Studios|         -|     good| -99.0|\n",
      "|169|    Chameleon|  Male|        -|   -|         -| -99.0|        DC Comics|         -|      bad| -99.0|\n",
      "| 62|      Batgirl|Female|        -|   -|         -| -99.0|        DC Comics|         -|     good| -99.0|\n",
      "| 50|         Atom|  Male|        -|   -|         -| -99.0|        DC Comics|         -|     good| -99.0|\n",
      "|411|  Liz Sherman|Female|        -|   -|         -| -99.0|Dark Horse Comics|         -|     good| -99.0|\n",
      "|365|Johann Krauss|  Male|        -|   -|         -| -99.0|Dark Horse Comics|         -|     good| -99.0|\n",
      "|242|       Energy|Female|        -|   -|         -| -99.0|    HarperCollins|         -|     good| -99.0|\n",
      "|536|      Quantum|  Male|        -|   -|         -| -99.0|    HarperCollins|         -|     good| -99.0|\n",
      "|550|     Red Mist|  Male|        -|   -|         -| -99.0|      Icon Comics|         -|      bad| -99.0|\n",
      "| 81|    Big Daddy|  Male|        -|   -|         -| -99.0|      Icon Comics|         -|     good| -99.0|\n",
      "| 26|       Angela|Female|        -|   -|         -| -99.0|     Image Comics|         -|      bad| -99.0|\n",
      "| 32|   Anti-Spawn|  Male|        -|   -|         -| -99.0|     Image Comics|         -|      bad| -99.0|\n",
      "|577|Savage Dragon|  Male|        -|   -|         -| -99.0|     Image Comics|         -|     good| -99.0|\n",
      "|234|          Ego|     -|        -|   -|         -| -99.0|    Marvel Comics|         -|      bad| -99.0|\n",
      "| 76|       Beetle|  Male|        -|   -|         -| -99.0|    Marvel Comics|         -|      bad| -99.0|\n",
      "| 87|   Bird-Brain|     -|        -|   -|         -| -99.0|    Marvel Comics|         -|     good| -99.0|\n",
      "|130|       Boomer|Female|        -|   -|         -| -99.0|    Marvel Comics|         -|     good| -99.0|\n",
      "+---+-------------+------+---------+----+----------+------+-----------------+----------+---------+------+\n",
      "only showing top 20 rows\n",
      "\n"
     ]
    }
   ],
   "source": [
    "sorted_df.dropDuplicates(['hair_color','skin_color','eye_color','alignment','height','gender','publisher','race']).show()"
   ]
  },
  {
   "cell_type": "code",
   "execution_count": 153,
   "metadata": {},
   "outputs": [
    {
     "name": "stdout",
     "output_type": "stream",
     "text": [
      "+---+----------+------+---------+-----------------+----------+------+-------------+----------+---------+------+\n",
      "|_c0|      name|Gender|Eye_color|             Race|Hair_color|Height|    Publisher|Skin_color|Alignment|Weight|\n",
      "+---+----------+------+---------+-----------------+----------+------+-------------+----------+---------+------+\n",
      "|575| Sasquatch|  Male|      red|                -|    Orange| 305.0|Marvel Comics|         -|     good| 900.0|\n",
      "|373|Juggernaut|  Male|     blue|            Human|       Red| 287.0|Marvel Comics|         -|  neutral| 855.0|\n",
      "|203|  Darkseid|  Male|      red|          New God|   No Hair| 267.0|    DC Comics|      grey|      bad| 817.0|\n",
      "|283|   Giganta|Female|    green|                -|       Red|  62.5|    DC Comics|         -|      bad| 630.0|\n",
      "|549|  Red Hulk|  Male|   yellow|Human / Radiation|     Black| 213.0|Marvel Comics|       red|  neutral| 630.0|\n",
      "|331|      Hulk|  Male|    green|Human / Radiation|     Green| 244.0|Marvel Comics|     green|     good| 630.0|\n",
      "|119|  Bloodaxe|Female|     blue|            Human|     Brown| 218.0|Marvel Comics|         -|      bad| 495.0|\n",
      "|718| Wolfsbane|Female|    green|                -|    Auburn| 366.0|Marvel Comics|         -|     good| 473.0|\n",
      "|657|    Thanos|  Male|      red|          Eternal|   No Hair| 201.0|Marvel Comics|    purple|      bad| 443.0|\n",
      "|  0|    A-Bomb|  Male|   yellow|            Human|   No Hair| 203.0|Marvel Comics|         -|     good| 441.0|\n",
      "+---+----------+------+---------+-----------------+----------+------+-------------+----------+---------+------+\n",
      "only showing top 10 rows\n",
      "\n"
     ]
    }
   ],
   "source": [
    "sorted_df.show(10)"
   ]
  },
  {
   "cell_type": "code",
   "execution_count": 286,
   "metadata": {
    "scrolled": true
   },
   "outputs": [
    {
     "name": "stdout",
     "output_type": "stream",
     "text": [
      "+---+--------------+------+---------+-----------------+----------+------+-------------+----------+---------+------+\n",
      "|_c0|          name|Gender|Eye_color|             Race|Hair_color|Height|    Publisher|Skin_color|Alignment|Weight|\n",
      "+---+--------------+------+---------+-----------------+----------+------+-------------+----------+---------+------+\n",
      "|575|     Sasquatch|  Male|      red|                -|    Orange| 305.0|Marvel Comics|         -|     good| 900.0|\n",
      "|373|    Juggernaut|  Male|     blue|            Human|       Red| 287.0|Marvel Comics|         -|  neutral| 855.0|\n",
      "|203|      Darkseid|  Male|      red|          New God|   No Hair| 267.0|    DC Comics|      grey|      bad| 817.0|\n",
      "|549|      Red Hulk|  Male|   yellow|Human / Radiation|     Black| 213.0|Marvel Comics|       red|  neutral| 630.0|\n",
      "|283|       Giganta|Female|    green|                -|       Red|  62.5|    DC Comics|         -|      bad| 630.0|\n",
      "|331|          Hulk|  Male|    green|Human / Radiation|     Green| 244.0|Marvel Comics|     green|     good| 630.0|\n",
      "|119|      Bloodaxe|Female|     blue|            Human|     Brown| 218.0|Marvel Comics|         -|      bad| 495.0|\n",
      "|718|     Wolfsbane|Female|    green|                -|    Auburn| 366.0|Marvel Comics|         -|     good| 473.0|\n",
      "|657|        Thanos|  Male|      red|          Eternal|   No Hair| 201.0|Marvel Comics|    purple|      bad| 443.0|\n",
      "|  0|        A-Bomb|  Male|   yellow|            Human|   No Hair| 203.0|Marvel Comics|         -|     good| 441.0|\n",
      "|  3|   Abomination|  Male|    green|Human / Radiation|   No Hair| 203.0|Marvel Comics|         -|      bad| 441.0|\n",
      "|611|Solomon Grundy|  Male|    black|           Zombie|     White| 279.0|    DC Comics|         -|      bad| 437.0|\n",
      "|229|      Doomsday|  Male|      red|            Alien|     White| 244.0|    DC Comics|         -|      bad| 412.0|\n",
      "|614|         Spawn|  Male|    brown|            Demon|     Black| 211.0| Image Comics|         -|     good| 405.0|\n",
      "|504|     Onslaught|  Male|      red|           Mutant|   No Hair| 305.0|Marvel Comics|         -|      bad| 405.0|\n",
      "|217|     Destroyer|  Male|        -|                -|         -| 188.0|Marvel Comics|         -|      bad| 383.0|\n",
      "|422|   Machine Man|     -|      red|                -|     Black| 183.0|Marvel Comics|         -|     good| 383.0|\n",
      "|409|  Living Brain|     -|   yellow|                -|         -| 198.0|Marvel Comics|         -|      bad| 360.0|\n",
      "| 33|    Anti-Venom|  Male|     blue|         Symbiote|     Blond| 229.0|Marvel Comics|         -|        -| 358.0|\n",
      "|386|   Killer Croc|  Male|      red|        Metahuman|   No Hair| 244.0|    DC Comics|     green|      bad| 356.0|\n",
      "+---+--------------+------+---------+-----------------+----------+------+-------------+----------+---------+------+\n",
      "only showing top 20 rows\n",
      "\n"
     ]
    }
   ],
   "source": [
    "sorted_df.show()"
   ]
  },
  {
   "attachments": {},
   "cell_type": "markdown",
   "metadata": {},
   "source": [
    "### Application of \".where\" condition on a DataFrame\n",
    "      Check Below Code:-->>>"
   ]
  },
  {
   "cell_type": "code",
   "execution_count": 167,
   "metadata": {},
   "outputs": [],
   "source": [
    "from pyspark.sql.functions import col\n",
    "\n",
    "# where_df=sorted_df.where(col(\"Race\")==\"Human\")&(col(\"Eye_color\")==\"red\")&(col(\"Publisher\")==\"Marvel Comics\"))\n",
    "where_df_new=sorted_df.where((sorted_df.Race==\"Human\")&(sorted_df.Eye_color==\"red\")&(sorted_df.Publisher==\"Marvel Comics\"))"
   ]
  },
  {
   "cell_type": "code",
   "execution_count": 168,
   "metadata": {},
   "outputs": [
    {
     "name": "stdout",
     "output_type": "stream",
     "text": [
      "+---+----------+------+---------+-----+----------+------+-------------+----------+---------+------+\n",
      "|_c0|      name|Gender|Eye_color| Race|Hair_color|Height|    Publisher|Skin_color|Alignment|Weight|\n",
      "+---+----------+------+---------+-----+----------+------+-------------+----------+---------+------+\n",
      "|412|    Lizard|  Male|      red|Human|   No Hair| 203.0|Marvel Comics|         -|      bad| 230.0|\n",
      "|392|      Klaw|  Male|      red|Human|   No Hair| 188.0|Marvel Comics|       red|      bad|  97.0|\n",
      "|623|Spider-Man|     -|      red|Human|     Brown| 178.0|Marvel Comics|         -|     good|  77.0|\n",
      "+---+----------+------+---------+-----+----------+------+-------------+----------+---------+------+\n",
      "\n"
     ]
    }
   ],
   "source": [
    "where_df_new.show()"
   ]
  },
  {
   "cell_type": "code",
   "execution_count": 303,
   "metadata": {},
   "outputs": [
    {
     "data": {
      "text/plain": [
       "734"
      ]
     },
     "execution_count": 303,
     "metadata": {},
     "output_type": "execute_result"
    }
   ],
   "source": [
    "sorted_df.count()"
   ]
  },
  {
   "cell_type": "code",
   "execution_count": 305,
   "metadata": {},
   "outputs": [
    {
     "name": "stdout",
     "output_type": "stream",
     "text": [
      "== Physical Plan ==\n",
      "*(1) Sort [Weight#1477 DESC NULLS LAST], true, 0\n",
      "+- *(1) Project [_c0#1467, name#1468, Gender#1469, Eye_color#1470, Race#1471, Hair_color#1472, Height#1473, Publisher#1474, Skin_color#1475, Alignment#1476, Weight#1477]\n",
      "   +- BatchScan[_c0#1467, name#1468, Gender#1469, Eye_color#1470, Race#1471, Hair_color#1472, Height#1473, Publisher#1474, Skin_color#1475, Alignment#1476, Weight#1477] CSVScan Location: InMemoryFileIndex[file:/C:/Users/ckp43_000/Documents/heroes_information.csv], ReadSchema: struct<_c0:int,name:string,Gender:string,Eye_color:string,Race:string,Hair_color:string,Height:do...\n",
      "\n",
      "\n"
     ]
    }
   ],
   "source": [
    "sorted_df.explain()"
   ]
  },
  {
   "cell_type": "code",
   "execution_count": 306,
   "metadata": {},
   "outputs": [
    {
     "name": "stdout",
     "output_type": "stream",
     "text": [
      "== Parsed Logical Plan ==\n",
      "'Sort ['Weight DESC NULLS LAST], true\n",
      "+- RelationV2[_c0#1467, name#1468, Gender#1469, Eye_color#1470, Race#1471, Hair_color#1472, Height#1473, Publisher#1474, Skin_color#1475, Alignment#1476, Weight#1477] csv file:/C:/Users/ckp43_000/Documents/heroes_information.csv\n",
      "\n",
      "== Analyzed Logical Plan ==\n",
      "_c0: int, name: string, Gender: string, Eye_color: string, Race: string, Hair_color: string, Height: double, Publisher: string, Skin_color: string, Alignment: string, Weight: double\n",
      "Sort [Weight#1477 DESC NULLS LAST], true\n",
      "+- RelationV2[_c0#1467, name#1468, Gender#1469, Eye_color#1470, Race#1471, Hair_color#1472, Height#1473, Publisher#1474, Skin_color#1475, Alignment#1476, Weight#1477] csv file:/C:/Users/ckp43_000/Documents/heroes_information.csv\n",
      "\n",
      "== Optimized Logical Plan ==\n",
      "Sort [Weight#1477 DESC NULLS LAST], true\n",
      "+- RelationV2[_c0#1467, name#1468, Gender#1469, Eye_color#1470, Race#1471, Hair_color#1472, Height#1473, Publisher#1474, Skin_color#1475, Alignment#1476, Weight#1477] csv file:/C:/Users/ckp43_000/Documents/heroes_information.csv\n",
      "\n",
      "== Physical Plan ==\n",
      "*(1) Sort [Weight#1477 DESC NULLS LAST], true, 0\n",
      "+- *(1) Project [_c0#1467, name#1468, Gender#1469, Eye_color#1470, Race#1471, Hair_color#1472, Height#1473, Publisher#1474, Skin_color#1475, Alignment#1476, Weight#1477]\n",
      "   +- BatchScan[_c0#1467, name#1468, Gender#1469, Eye_color#1470, Race#1471, Hair_color#1472, Height#1473, Publisher#1474, Skin_color#1475, Alignment#1476, Weight#1477] CSVScan Location: InMemoryFileIndex[file:/C:/Users/ckp43_000/Documents/heroes_information.csv], ReadSchema: struct<_c0:int,name:string,Gender:string,Eye_color:string,Race:string,Hair_color:string,Height:do...\n",
      "\n"
     ]
    }
   ],
   "source": [
    "sorted_df.explain(True)"
   ]
  },
  {
   "cell_type": "code",
   "execution_count": 171,
   "metadata": {
    "scrolled": true
   },
   "outputs": [],
   "source": [
    "from pyspark.sql.functions import stddev,avg"
   ]
  },
  {
   "cell_type": "code",
   "execution_count": 183,
   "metadata": {},
   "outputs": [
    {
     "name": "stdout",
     "output_type": "stream",
     "text": [
      "Row(avg(height)=102.25408719346049)\n",
      "DataFrame[avg(height): double]\n",
      "\n",
      "\n",
      "Row(stddev_samp(height)=139.6245425500728)\n",
      "Row(sum(height)=75054.5)\n"
     ]
    }
   ],
   "source": [
    "print(sorted_df.agg(avg('height')).first())\n",
    "print(sorted_df.agg(avg('height')))\n",
    "print(\"\\n\")\n",
    "print(sorted_df.agg(stddev('height')).first())\n",
    "print(sorted_df.agg(sum('height')).first())"
   ]
  },
  {
   "cell_type": "code",
   "execution_count": 309,
   "metadata": {},
   "outputs": [
    {
     "data": {
      "text/plain": [
       "Row(avg(skin_color)=None)"
      ]
     },
     "execution_count": 309,
     "metadata": {},
     "output_type": "execute_result"
    }
   ],
   "source": [
    "sorted_df.agg(avg('skin_color')).first()"
   ]
  }
 ],
 "metadata": {
  "kernelspec": {
   "display_name": "Python 3",
   "language": "python",
   "name": "python3"
  },
  "language_info": {
   "codemirror_mode": {
    "name": "ipython",
    "version": 3
   },
   "file_extension": ".py",
   "mimetype": "text/x-python",
   "name": "python",
   "nbconvert_exporter": "python",
   "pygments_lexer": "ipython3",
   "version": "3.11.3"
  }
 },
 "nbformat": 4,
 "nbformat_minor": 2
}
