{
 "cells": [
  {
   "cell_type": "code",
   "execution_count": 1,
   "metadata": {},
   "outputs": [],
   "source": [
    "from pyspark import SparkConf"
   ]
  },
  {
   "cell_type": "code",
   "execution_count": 2,
   "metadata": {},
   "outputs": [],
   "source": [
    "from pyspark import SparkContext"
   ]
  },
  {
   "cell_type": "code",
   "execution_count": 9,
   "metadata": {
    "scrolled": true
   },
   "outputs": [],
   "source": [
    "sc=SparkContext.getOrCreate(SparkConf().setMaster(\"local[*]\"))"
   ]
  },
  {
   "cell_type": "code",
   "execution_count": 10,
   "metadata": {},
   "outputs": [
    {
     "data": {
      "text/html": [
       "\n",
       "        <div>\n",
       "            <p><b>SparkContext</b></p>\n",
       "\n",
       "            <p><a href=\"http://cpc:4042\">Spark UI</a></p>\n",
       "\n",
       "            <dl>\n",
       "              <dt>Version</dt>\n",
       "                <dd><code>v3.0.0-preview2</code></dd>\n",
       "              <dt>Master</dt>\n",
       "                <dd><code>local[*]</code></dd>\n",
       "              <dt>AppName</dt>\n",
       "                <dd><code>pyspark-shell</code></dd>\n",
       "            </dl>\n",
       "        </div>\n",
       "        "
      ],
      "text/plain": [
       "<SparkContext master=local[*] appName=pyspark-shell>"
      ]
     },
     "execution_count": 10,
     "metadata": {},
     "output_type": "execute_result"
    }
   ],
   "source": [
    "sc"
   ]
  },
  {
   "cell_type": "code",
   "execution_count": 11,
   "metadata": {},
   "outputs": [],
   "source": [
    "num=range(20)\n",
    "rdd=sc.parallelize(num)"
   ]
  },
  {
   "cell_type": "code",
   "execution_count": 12,
   "metadata": {},
   "outputs": [
    {
     "data": {
      "text/plain": [
       "[[0, 1, 2, 3, 4], [5, 6, 7, 8, 9], [10, 11, 12, 13, 14], [15, 16, 17, 18, 19]]"
      ]
     },
     "execution_count": 12,
     "metadata": {},
     "output_type": "execute_result"
    }
   ],
   "source": [
    "rdd.glom().collect()"
   ]
  },
  {
   "cell_type": "code",
   "execution_count": null,
   "metadata": {},
   "outputs": [],
   "source": []
  },
  {
   "cell_type": "code",
   "execution_count": 13,
   "metadata": {},
   "outputs": [],
   "source": [
    "input_file_path_1=\"file:///C:/Users/ckp43_000/Documents/generic-food.csv\"\n",
    "food=sc.textFile(input_file_path_1)"
   ]
  },
  {
   "cell_type": "code",
   "execution_count": 58,
   "metadata": {
    "scrolled": true
   },
   "outputs": [
    {
     "data": {
      "text/plain": [
       "908"
      ]
     },
     "execution_count": 58,
     "metadata": {},
     "output_type": "execute_result"
    }
   ],
   "source": [
    "food.count()"
   ]
  },
  {
   "cell_type": "code",
   "execution_count": 17,
   "metadata": {
    "scrolled": true
   },
   "outputs": [
    {
     "data": {
      "text/plain": [
       "2"
      ]
     },
     "execution_count": 17,
     "metadata": {},
     "output_type": "execute_result"
    }
   ],
   "source": [
    "food.getNumPartitions()"
   ]
  },
  {
   "cell_type": "code",
   "execution_count": 18,
   "metadata": {
    "scrolled": true
   },
   "outputs": [
    {
     "data": {
      "text/plain": [
       "['FOODNAME,SCIENTIFICNAME,GROUP,SUBGROUP',\n",
       " 'Angelica,Angelica keiskei,Herbs and Spices,Herbs',\n",
       " 'Savoy cabbage,Brassica oleracea var. sabauda,Vegetables,Cabbages',\n",
       " 'Silver linden,Tilia argentea,Herbs and Spices,Herbs',\n",
       " 'Kiwi,Actinidia chinensis,Fruits,Tropical fruits']"
      ]
     },
     "execution_count": 18,
     "metadata": {},
     "output_type": "execute_result"
    }
   ],
   "source": [
    "food.take(5)"
   ]
  },
  {
   "cell_type": "markdown",
   "metadata": {},
   "source": [
    "### Creating Schema for \"food\" RDD\n",
    "         first of all we will create a function which will be applied to each lines of food RDD and using separator \",\"\n",
    "         it will create a list of all elements of RDD\n",
    "         Then using \"Row\" we will create Row object with these list \n",
    "         finally from this Row object RDD ,dataFrame will be created.\n",
    "         Check Below::--->>>"
   ]
  },
  {
   "cell_type": "code",
   "execution_count": 23,
   "metadata": {
    "scrolled": true
   },
   "outputs": [
    {
     "data": {
      "text/plain": [
       "['FOODNAME', 'SCIENTIFICNAME', 'GROUP', 'SUBGROUP']"
      ]
     },
     "execution_count": 23,
     "metadata": {},
     "output_type": "execute_result"
    }
   ],
   "source": [
    "food.map(lambda x:x.split(',')).take (10)[0]"
   ]
  },
  {
   "cell_type": "code",
   "execution_count": 35,
   "metadata": {},
   "outputs": [],
   "source": [
    "from pyspark.sql import Row"
   ]
  },
  {
   "cell_type": "code",
   "execution_count": 47,
   "metadata": {},
   "outputs": [],
   "source": [
    "def food_schema(line):\n",
    "    fields=line.split(\",\")\n",
    "    return Row (Foodname=str(fields[0]),Scientificname=str(fields[1]),Group=str(fields[2]),Subgroup=str(fields[3]))"
   ]
  },
  {
   "cell_type": "code",
   "execution_count": 60,
   "metadata": {
    "scrolled": true
   },
   "outputs": [],
   "source": [
    "food_withSchema=food.map(food_schema)"
   ]
  },
  {
   "cell_type": "code",
   "execution_count": 61,
   "metadata": {
    "scrolled": true
   },
   "outputs": [
    {
     "data": {
      "text/plain": [
       "[Row(Foodname='FOODNAME', Group='GROUP', Scientificname='SCIENTIFICNAME', Subgroup='SUBGROUP'),\n",
       " Row(Foodname='Angelica', Group='Herbs and Spices', Scientificname='Angelica keiskei', Subgroup='Herbs'),\n",
       " Row(Foodname='Savoy cabbage', Group='Vegetables', Scientificname='Brassica oleracea var. sabauda', Subgroup='Cabbages')]"
      ]
     },
     "execution_count": 61,
     "metadata": {},
     "output_type": "execute_result"
    }
   ],
   "source": [
    "food_withSchema.take(3)"
   ]
  },
  {
   "cell_type": "code",
   "execution_count": 68,
   "metadata": {},
   "outputs": [
    {
     "data": {
      "text/plain": [
       "['Angelica,Angelica keiskei,Herbs and Spices,Herbs',\n",
       " 'Savoy cabbage,Brassica oleracea var. sabauda,Vegetables,Cabbages',\n",
       " 'Silver linden,Tilia argentea,Herbs and Spices,Herbs',\n",
       " 'Kiwi,Actinidia chinensis,Fruits,Tropical fruits',\n",
       " 'Allium (Onion),Allium,Vegetables,Onion-family vegetables']"
      ]
     },
     "execution_count": 68,
     "metadata": {},
     "output_type": "execute_result"
    }
   ],
   "source": [
    "food.filter(lambda row:row!=\"FOODNAME,SCIENTIFICNAME,GROUP,SUBGROUP\").take(5)"
   ]
  },
  {
   "cell_type": "code",
   "execution_count": 70,
   "metadata": {
    "scrolled": true
   },
   "outputs": [
    {
     "data": {
      "text/plain": [
       "[Row(Foodname='FOODNAME', Group='GROUP', Scientificname='SCIENTIFICNAME', Subgroup='SUBGROUP'),\n",
       " Row(Foodname='Angelica', Group='Herbs and Spices', Scientificname='Angelica keiskei', Subgroup='Herbs'),\n",
       " Row(Foodname='Savoy cabbage', Group='Vegetables', Scientificname='Brassica oleracea var. sabauda', Subgroup='Cabbages'),\n",
       " Row(Foodname='Silver linden', Group='Herbs and Spices', Scientificname='Tilia argentea', Subgroup='Herbs'),\n",
       " Row(Foodname='Kiwi', Group='Fruits', Scientificname='Actinidia chinensis', Subgroup='Tropical fruits')]"
      ]
     },
     "execution_count": 70,
     "metadata": {},
     "output_type": "execute_result"
    }
   ],
   "source": [
    "food_withSchema.filter(lambda row:row!=\"FOODNAME,SCIENTIFICNAME,GROUP,SUBGROUP\").take(5)"
   ]
  },
  {
   "cell_type": "code",
   "execution_count": 72,
   "metadata": {},
   "outputs": [
    {
     "data": {
      "text/plain": [
       "pyspark.rdd.PipelinedRDD"
      ]
     },
     "execution_count": 72,
     "metadata": {},
     "output_type": "execute_result"
    }
   ],
   "source": [
    "type(food_withSchema)"
   ]
  },
  {
   "cell_type": "code",
   "execution_count": 73,
   "metadata": {},
   "outputs": [
    {
     "data": {
      "text/plain": [
       "pyspark.rdd.RDD"
      ]
     },
     "execution_count": 73,
     "metadata": {},
     "output_type": "execute_result"
    }
   ],
   "source": [
    "type(food)"
   ]
  },
  {
   "cell_type": "code",
   "execution_count": 64,
   "metadata": {},
   "outputs": [
    {
     "data": {
      "text/plain": [
       "list"
      ]
     },
     "execution_count": 64,
     "metadata": {},
     "output_type": "execute_result"
    }
   ],
   "source": [
    "type(food_withSchema.take(2))"
   ]
  },
  {
   "cell_type": "code",
   "execution_count": 49,
   "metadata": {},
   "outputs": [],
   "source": [
    "from pyspark.sql import SparkSession"
   ]
  },
  {
   "cell_type": "code",
   "execution_count": 51,
   "metadata": {},
   "outputs": [],
   "source": [
    "spark=SparkSession.builder.appName(\"Rdd with Schema\").getOrCreate()"
   ]
  },
  {
   "cell_type": "code",
   "execution_count": 62,
   "metadata": {},
   "outputs": [],
   "source": [
    "food_df=spark.createDataFrame(food_withSchema)"
   ]
  },
  {
   "cell_type": "code",
   "execution_count": 63,
   "metadata": {
    "scrolled": true
   },
   "outputs": [
    {
     "name": "stdout",
     "output_type": "stream",
     "text": [
      "+--------------+----------------+--------------------+--------------------+\n",
      "|      Foodname|           Group|      Scientificname|            Subgroup|\n",
      "+--------------+----------------+--------------------+--------------------+\n",
      "|      FOODNAME|           GROUP|      SCIENTIFICNAME|            SUBGROUP|\n",
      "|      Angelica|Herbs and Spices|    Angelica keiskei|               Herbs|\n",
      "| Savoy cabbage|      Vegetables|Brassica oleracea...|            Cabbages|\n",
      "| Silver linden|Herbs and Spices|      Tilia argentea|               Herbs|\n",
      "|          Kiwi|          Fruits| Actinidia chinensis|     Tropical fruits|\n",
      "|Allium (Onion)|      Vegetables|              Allium|Onion-family vege...|\n",
      "|  Garden onion|      Vegetables|         Allium cepa|Onion-family vege...|\n",
      "|          Leek|      Vegetables|       Allium porrum|Onion-family vege...|\n",
      "|        Garlic|Herbs and Spices|      Allium sativum|               Herbs|\n",
      "|        Chives|Herbs and Spices|Allium schoenoprasum|               Herbs|\n",
      "+--------------+----------------+--------------------+--------------------+\n",
      "only showing top 10 rows\n",
      "\n"
     ]
    }
   ],
   "source": [
    "food_df.show(10)"
   ]
  },
  {
   "cell_type": "markdown",
   "metadata": {},
   "source": [
    "#### Informative point:-->>\n",
    "                       We can apply \".filter\" function on RDD as wll as dataFrame to remove any particular line from RDD\n",
    "                       ANd to remove any row from dataFrame \n",
    "                       Check Below :--->>>"
   ]
  },
  {
   "cell_type": "code",
   "execution_count": 78,
   "metadata": {},
   "outputs": [
    {
     "data": {
      "text/plain": [
       "['Angelica,Angelica keiskei,Herbs and Spices,Herbs',\n",
       " 'Savoy cabbage,Brassica oleracea var. sabauda,Vegetables,Cabbages',\n",
       " 'Silver linden,Tilia argentea,Herbs and Spices,Herbs',\n",
       " 'Kiwi,Actinidia chinensis,Fruits,Tropical fruits',\n",
       " 'Allium (Onion),Allium,Vegetables,Onion-family vegetables']"
      ]
     },
     "execution_count": 78,
     "metadata": {},
     "output_type": "execute_result"
    }
   ],
   "source": [
    "food.filter(lambda x:x!=\"FOODNAME,SCIENTIFICNAME,GROUP,SUBGROUP\").take(5)"
   ]
  },
  {
   "cell_type": "code",
   "execution_count": 77,
   "metadata": {},
   "outputs": [
    {
     "name": "stdout",
     "output_type": "stream",
     "text": [
      "+--------------+----------------+--------------------+--------------------+\n",
      "|      Foodname|           Group|      Scientificname|            Subgroup|\n",
      "+--------------+----------------+--------------------+--------------------+\n",
      "|      Angelica|Herbs and Spices|    Angelica keiskei|               Herbs|\n",
      "| Savoy cabbage|      Vegetables|Brassica oleracea...|            Cabbages|\n",
      "| Silver linden|Herbs and Spices|      Tilia argentea|               Herbs|\n",
      "|          Kiwi|          Fruits| Actinidia chinensis|     Tropical fruits|\n",
      "|Allium (Onion)|      Vegetables|              Allium|Onion-family vege...|\n",
      "+--------------+----------------+--------------------+--------------------+\n",
      "only showing top 5 rows\n",
      "\n"
     ]
    }
   ],
   "source": [
    "food_df.filter(food_df.Foodname!='FOODNAME').show(5)"
   ]
  },
  {
   "cell_type": "code",
   "execution_count": 79,
   "metadata": {},
   "outputs": [],
   "source": [
    "input_file_path_2=\"file:///C:/Users/ckp43_000/Documents/flavors.csv\"\n",
    "flavors=sc.textFile(input_file_path_2)"
   ]
  },
  {
   "cell_type": "code",
   "execution_count": 80,
   "metadata": {},
   "outputs": [
    {
     "data": {
      "text/plain": [
       "857"
      ]
     },
     "execution_count": 80,
     "metadata": {},
     "output_type": "execute_result"
    }
   ],
   "source": [
    "flavors.count()"
   ]
  },
  {
   "cell_type": "code",
   "execution_count": 83,
   "metadata": {
    "scrolled": true
   },
   "outputs": [
    {
     "data": {
      "text/plain": [
       "2"
      ]
     },
     "execution_count": 83,
     "metadata": {},
     "output_type": "execute_result"
    }
   ],
   "source": [
    "flavors.getNumPartitions()"
   ]
  },
  {
   "cell_type": "code",
   "execution_count": 84,
   "metadata": {
    "scrolled": true
   },
   "outputs": [
    {
     "data": {
      "text/plain": [
       "['GROUP,SUB GROUP',\n",
       " 'celery,vegetable',\n",
       " 'corn,vegetable',\n",
       " 'cucumber,vegetable',\n",
       " 'horseradish,vegetable']"
      ]
     },
     "execution_count": 84,
     "metadata": {},
     "output_type": "execute_result"
    }
   ],
   "source": [
    "flavors.take(5)"
   ]
  },
  {
   "cell_type": "code",
   "execution_count": 85,
   "metadata": {
    "scrolled": true
   },
   "outputs": [
    {
     "data": {
      "text/plain": [
       "['celery,vegetable',\n",
       " 'corn,vegetable',\n",
       " 'cucumber,vegetable',\n",
       " 'horseradish,vegetable',\n",
       " 'vegetable,vegetable']"
      ]
     },
     "execution_count": 85,
     "metadata": {},
     "output_type": "execute_result"
    }
   ],
   "source": [
    "flavors.filter(lambda row:row !=\"GROUP,SUB GROUP\").take(5)"
   ]
  },
  {
   "cell_type": "code",
   "execution_count": 86,
   "metadata": {},
   "outputs": [],
   "source": [
    "filter_flavor=flavors.filter(lambda x:x!='GROUP,SUB GROUP')"
   ]
  },
  {
   "cell_type": "code",
   "execution_count": 87,
   "metadata": {
    "scrolled": false
   },
   "outputs": [
    {
     "data": {
      "text/plain": [
       "['celery,vegetable',\n",
       " 'corn,vegetable',\n",
       " 'cucumber,vegetable',\n",
       " 'horseradish,vegetable']"
      ]
     },
     "execution_count": 87,
     "metadata": {},
     "output_type": "execute_result"
    }
   ],
   "source": [
    "filter_flavor.take(4)"
   ]
  },
  {
   "cell_type": "code",
   "execution_count": 88,
   "metadata": {},
   "outputs": [],
   "source": [
    "def flavor_schema(lines):\n",
    "    fields=lines.split(',')\n",
    "    return Row(Group=str(fields[0]),Subgroup=str(fields[1]))"
   ]
  },
  {
   "cell_type": "code",
   "execution_count": 90,
   "metadata": {
    "scrolled": false
   },
   "outputs": [
    {
     "data": {
      "text/plain": [
       "[Row(Group='celery', Subgroup='vegetable'),\n",
       " Row(Group='corn', Subgroup='vegetable'),\n",
       " Row(Group='cucumber', Subgroup='vegetable'),\n",
       " Row(Group='horseradish', Subgroup='vegetable'),\n",
       " Row(Group='vegetable', Subgroup='vegetable')]"
      ]
     },
     "execution_count": 90,
     "metadata": {},
     "output_type": "execute_result"
    }
   ],
   "source": [
    "filter_flavor.map(flavor_schema).take(5)"
   ]
  },
  {
   "cell_type": "code",
   "execution_count": 91,
   "metadata": {},
   "outputs": [],
   "source": [
    "fil_flavor=filter_flavor.map(flavor_schema)"
   ]
  },
  {
   "cell_type": "code",
   "execution_count": 92,
   "metadata": {},
   "outputs": [],
   "source": [
    "flavor_df=spark.createDataFrame(fil_flavor,)"
   ]
  },
  {
   "cell_type": "code",
   "execution_count": 93,
   "metadata": {},
   "outputs": [
    {
     "name": "stdout",
     "output_type": "stream",
     "text": [
      "+-----------+---------+\n",
      "|      Group| Subgroup|\n",
      "+-----------+---------+\n",
      "|     celery|vegetable|\n",
      "|       corn|vegetable|\n",
      "|   cucumber|vegetable|\n",
      "|horseradish|vegetable|\n",
      "|  vegetable|vegetable|\n",
      "+-----------+---------+\n",
      "only showing top 5 rows\n",
      "\n"
     ]
    }
   ],
   "source": [
    "flavor_df.show(5)"
   ]
  },
  {
   "cell_type": "code",
   "execution_count": 95,
   "metadata": {},
   "outputs": [
    {
     "data": {
      "text/plain": [
       "[('GROUP', 'SUB GROUP'),\n",
       " ('celery', 'vegetable'),\n",
       " ('corn', 'vegetable'),\n",
       " ('cucumber', 'vegetable')]"
      ]
     },
     "execution_count": 95,
     "metadata": {},
     "output_type": "execute_result"
    }
   ],
   "source": [
    "flavors.map(lambda row:(row.split(',')[0],row.split(',')[1]))\\\n",
    ".take(4)"
   ]
  },
  {
   "cell_type": "code",
   "execution_count": 96,
   "metadata": {},
   "outputs": [
    {
     "data": {
      "text/plain": [
       "['GROUP,SUB GROUP', 'celery,vegetable', 'corn,vegetable', 'cucumber,vegetable']"
      ]
     },
     "execution_count": 96,
     "metadata": {},
     "output_type": "execute_result"
    }
   ],
   "source": [
    "flavors.take(4)"
   ]
  },
  {
   "cell_type": "code",
   "execution_count": 103,
   "metadata": {
    "scrolled": true
   },
   "outputs": [
    {
     "data": {
      "text/plain": [
       "[('celery', 1),\n",
       " ('vegetable', 9),\n",
       " ('horseradish', 1),\n",
       " ('herbaceous', 6),\n",
       " ('clove', 1),\n",
       " ('sage', 1),\n",
       " ('butter', 1),\n",
       " ('fatty', 8),\n",
       " ('hop_oil', 1),\n",
       " ('oily', 1),\n",
       " ('floral', 15),\n",
       " ('carnation', 1),\n",
       " ('geranium', 1),\n",
       " ('hawthorne', 1),\n",
       " ('hyacinth', 1)]"
      ]
     },
     "execution_count": 103,
     "metadata": {},
     "output_type": "execute_result"
    }
   ],
   "source": [
    "flavors.flatMap(lambda x:x.split(','))\\\n",
    ".map(lambda word:(word,1))\\\n",
    ".reduceByKey(lambda x,y:x+y)\\\n",
    ".take(15)"
   ]
  },
  {
   "cell_type": "markdown",
   "metadata": {},
   "source": [
    "#### use of \"groupBy\" on RDD \n",
    "           To apply \"groupBy\" on any RDD input should be in key value pair \n",
    "           Ex :-->> In below example we are grouping all the words which is matching up to 4 letters \n",
    "           these four letters will be key and all the matching word till four letters will be value for the key \n",
    "           In groupBy satatement we will write a function which will take 4 letters of each element of RDD"
   ]
  },
  {
   "cell_type": "code",
   "execution_count": 127,
   "metadata": {},
   "outputs": [],
   "source": [
    "new_rdd=flavors.flatMap(lambda x:x.split(','))\\\n",
    ".groupBy(lambda x:x[0:4])"
   ]
  },
  {
   "cell_type": "markdown",
   "metadata": {},
   "source": [
    "#### In Below Example we have taken only 10 records \n",
    "     we can take as records as we want :\n",
    "     Check Below :--->>"
   ]
  },
  {
   "cell_type": "code",
   "execution_count": 131,
   "metadata": {
    "scrolled": true
   },
   "outputs": [
    {
     "name": "stdout",
     "output_type": "stream",
     "text": [
      "SUB  ['SUB GROUP']\n",
      "cucu ['cucumber', 'cucumber seed', 'cucumber skin']\n",
      "pota ['potato']\n",
      "toma ['tomato', 'tomato leaf']\n",
      "herb ['herbaceous', 'herbaceous', 'herbaceous', 'herbaceous', 'herbaceous', 'herbaceous', 'herb', 'herbal']\n",
      "sage ['sage']\n",
      "butt ['butter', 'butterscotch', 'buttered', 'buttermilk', 'buttery']\n",
      "crea ['creamy', 'cream']\n",
      "oily ['oily']\n",
      "coum ['coumarin', 'coumarinic']\n"
     ]
    }
   ],
   "source": [
    "for (k,v) in (new_rdd.take(10)):\n",
    "     print(k,list(v))"
   ]
  },
  {
   "cell_type": "markdown",
   "metadata": {},
   "source": [
    "### Transformation: groupByKey / reduceByKey \n",
    "                   Q4: What if we want to calculate how many times each word is coming in corpus ?\n",
    "\n",
    "                  Solution: We can apply the “groupByKey” / “reduceByKey” transformations on (key,val) pair RDD. The            “groupByKey” will group the values for each key in the original RDD. It will create a new pair, where the original key corresponds to this collected group of values.\n",
    "\n",
    "        To use “groupbyKey” / “reduceByKey” transformation to find the frequencies of each words, you can follow the steps below:\n",
    "\n",
    "     A (key,val) pair RDD is required; In this (key,val) pair RDD, key is the word and val is 1 for each word in RDD (1 represents the number for the each word in “flavor”).\n",
    "    To apply “groupbyKey” / “reduceByKey” on “flavor”, we need to first convert “flavor” to (key,val) pair RDD."
   ]
  },
  {
   "cell_type": "markdown",
   "metadata": {},
   "source": []
  },
  {
   "cell_type": "code",
   "execution_count": 150,
   "metadata": {},
   "outputs": [],
   "source": [
    "bykey_flavor=flavors.flatMap(lambda x:x.split(','))\\\n",
    ".map(lambda x:(x,1))\\\n",
    ".groupByKey()"
   ]
  },
  {
   "cell_type": "code",
   "execution_count": 151,
   "metadata": {},
   "outputs": [
    {
     "data": {
      "text/plain": [
       "[('celery', <pyspark.resultiterable.ResultIterable at 0x52b01477c8>),\n",
       " ('vegetable', <pyspark.resultiterable.ResultIterable at 0x52b013f348>),\n",
       " ('horseradish', <pyspark.resultiterable.ResultIterable at 0x52b0147088>),\n",
       " ('herbaceous', <pyspark.resultiterable.ResultIterable at 0x52b0147248>),\n",
       " ('clove', <pyspark.resultiterable.ResultIterable at 0x52b0147e48>),\n",
       " ('sage', <pyspark.resultiterable.ResultIterable at 0x52b0147a08>),\n",
       " ('butter', <pyspark.resultiterable.ResultIterable at 0x52b0147308>),\n",
       " ('fatty', <pyspark.resultiterable.ResultIterable at 0x52b01478c8>),\n",
       " ('hop_oil', <pyspark.resultiterable.ResultIterable at 0x52b0147fc8>),\n",
       " ('oily', <pyspark.resultiterable.ResultIterable at 0x52b0147ac8>)]"
      ]
     },
     "execution_count": 151,
     "metadata": {},
     "output_type": "execute_result"
    }
   ],
   "source": [
    "bykey_flavor.take(10)"
   ]
  },
  {
   "cell_type": "code",
   "execution_count": 153,
   "metadata": {
    "scrolled": true
   },
   "outputs": [
    {
     "name": "stdout",
     "output_type": "stream",
     "text": [
      "('celery', [1])\n",
      "('vegetable', [1, 1, 1, 1, 1, 1, 1, 1, 1])\n",
      "('horseradish', [1])\n",
      "('herbaceous', [1, 1, 1, 1, 1, 1])\n",
      "('clove', [1])\n",
      "('sage', [1])\n",
      "('butter', [1])\n",
      "('fatty', [1, 1, 1, 1, 1, 1, 1, 1])\n",
      "('hop_oil', [1])\n",
      "('oily', [1])\n"
     ]
    }
   ],
   "source": [
    "for j in (bykey_flavor.take(10)):\n",
    "    print((j[0],list(j[1])))"
   ]
  },
  {
   "cell_type": "code",
   "execution_count": 154,
   "metadata": {
    "scrolled": false
   },
   "outputs": [
    {
     "data": {
      "text/plain": [
       "[('celery', 1),\n",
       " ('vegetable', 9),\n",
       " ('horseradish', 1),\n",
       " ('herbaceous', 6),\n",
       " ('clove', 1),\n",
       " ('sage', 1),\n",
       " ('butter', 1),\n",
       " ('fatty', 8),\n",
       " ('hop_oil', 1),\n",
       " ('oily', 1)]"
      ]
     },
     "execution_count": 154,
     "metadata": {},
     "output_type": "execute_result"
    }
   ],
   "source": [
    "bykey_flavor.mapValues(sum).take(10)"
   ]
  },
  {
   "cell_type": "code",
   "execution_count": 161,
   "metadata": {
    "scrolled": true
   },
   "outputs": [
    {
     "data": {
      "text/plain": [
       "[(743, 'NULL'),\n",
       " (25, 'fruity'),\n",
       " (15, 'floral'),\n",
       " (11, 'balsamic'),\n",
       " (9, 'vegetable'),\n",
       " (8, 'fatty'),\n",
       " (6, 'herbaceous'),\n",
       " (6, 'alcohol'),\n",
       " (6, 'nutty'),\n",
       " (6, 'citrus')]"
      ]
     },
     "execution_count": 161,
     "metadata": {},
     "output_type": "execute_result"
    }
   ],
   "source": [
    "bykey_flavor.mapValues(sum).map(lambda x:(x[1],x[0])).sortByKey(ascending=False).take(10)"
   ]
  },
  {
   "cell_type": "markdown",
   "metadata": {},
   "source": [
    "### \"reduceByKey\""
   ]
  },
  {
   "cell_type": "code",
   "execution_count": 11,
   "metadata": {
    "scrolled": true
   },
   "outputs": [
    {
     "name": "stdout",
     "output_type": "stream",
     "text": [
      " \n",
      " reduce flavors file rdd :\n",
      "('celery', 1)\n",
      "('vegetable', 9)\n",
      "('horseradish', 1)\n",
      "('herbaceous', 6)\n",
      "('clove', 1)\n",
      "('sage', 1)\n",
      "('butter', 1)\n",
      "('fatty', 8)\n",
      "('hop_oil', 1)\n",
      "('oily', 1)\n",
      "('floral', 15)\n",
      "('carnation', 1)\n",
      "('geranium', 1)\n",
      "('hawthorne', 1)\n",
      "('hyacinth', 1)\n",
      "('rose', 1)\n",
      "('anise', 1)\n",
      "('butterscotch', 1)\n",
      "('chocolate', 1)\n",
      "('honey', 1)\n",
      "('others', 1)\n",
      "('sweet', 1)\n",
      "('vanilla', 1)\n",
      "('melon', 1)\n",
      "('orange', 1)\n",
      "('woody', 5)\n",
      "('maple', 1)\n",
      "('bacon', 1)\n",
      "('beef', 1)\n",
      "('green', 4)\n",
      "('wintergreen', 1)\n",
      "('alcohol', 6)\n",
      "('wine_like', 1)\n",
      "('rum', 1)\n",
      "('mushroom', 1)\n",
      "('apricot', 1)\n",
      "('banana', 1)\n",
      "('cherry', 1)\n",
      "('coconut', 1)\n",
      "('grapefruit', 1)\n",
      "('jam', 1)\n",
      "('mango', 1)\n",
      "('peach', 1)\n",
      "('pear', 1)\n",
      "('pineapple', 1)\n",
      "('raspberry', 1)\n",
      "('tart', 1)\n",
      "('watermelon', 1)\n",
      "('plastic', 1)\n",
      "('sulfurous', 1)\n",
      "('nutty', 6)\n",
      "('peanut', 1)\n",
      "('walnut', 1)\n",
      "('camphoraceous', 2)\n",
      "('tobacco', 2)\n",
      "('minty', 2)\n",
      "('mossy', 2)\n",
      "('smoky', 2)\n",
      "('musky', 2)\n",
      "('soapy', 2)\n",
      "('seedy', 2)\n",
      "('alkaline', 1)\n",
      "('NULL', 743)\n",
      "('alkane', 1)\n",
      "('almond shell', 1)\n",
      "('amine', 1)\n",
      "('baked', 1)\n",
      "('beet', 1)\n",
      "('biscuit', 1)\n",
      "('bitter almond', 1)\n",
      "('bread', 1)\n",
      "('broccoli', 1)\n",
      "('burnt', 1)\n",
      "('camphor', 1)\n",
      "('carrot', 1)\n",
      "('cat', 1)\n",
      "('cognac', 1)\n",
      "('cologne', 1)\n",
      "('cooked potato', 1)\n",
      "('cooked vegetable', 1)\n",
      "('coriander', 1)\n",
      "('cream', 1)\n",
      "('earth', 1)\n",
      "('ester', 1)\n",
      "('ether', 1)\n",
      "('fat', 1)\n",
      "('fish', 1)\n",
      "('flower', 1)\n",
      "('garlic', 1)\n",
      "('grass', 1)\n",
      "('green bean', 1)\n",
      "('green leaf', 1)\n",
      "('green pepper', 1)\n",
      "('green tea', 1)\n",
      "('herb', 1)\n",
      "('hot milk', 1)\n",
      "('hummus', 1)\n",
      "('leaf', 1)\n",
      "('lettuce', 1)\n",
      "('lilac', 1)\n",
      "('mandarin', 1)\n",
      "('marshmallow', 1)\n",
      "('meat broth', 1)\n",
      "('medicine', 1)\n",
      "('menthol', 1)\n",
      "('metal', 1)\n",
      "('mildew', 1)\n",
      "('moss', 1)\n",
      "('muguet', 1)\n",
      "('must', 1)\n",
      "('nut', 1)\n",
      "('nutmeg', 1)\n",
      "('pesticide', 1)\n",
      "('phenol', 1)\n",
      "('pine', 1)\n",
      "('putrid', 1)\n",
      "('resin', 1)\n",
      "('roast beef', 1)\n",
      "('roasted meat', 1)\n",
      "('roasted nut', 1)\n",
      "('soap', 1)\n",
      "('straw', 1)\n",
      "('sulfur', 1)\n",
      "('tar', 1)\n",
      "('thyme', 1)\n",
      "('truffle', 1)\n",
      "('urine', 1)\n",
      "('vinyl', 1)\n",
      "('wax', 1)\n",
      "('weak spice', 1)\n",
      "('wine', 1)\n",
      "('wood', 1)\n",
      "('absinthe', 1)\n",
      "('absolute', 1)\n",
      "('acacia', 1)\n",
      "('acetate', 1)\n",
      "('acidic', 1)\n",
      "('acorn', 1)\n",
      "('acrid', 1)\n",
      "('acrylic', 1)\n",
      "('aldehyde', 1)\n",
      "('aldehydic', 1)\n",
      "('algae', 1)\n",
      "('alliaceous', 1)\n",
      "('allo-ocimenol', 1)\n",
      "('allspice', 1)\n",
      "('amber', 1)\n",
      "('ambergris', 1)\n",
      "('amyris', 1)\n",
      "('angelic', 1)\n",
      "('angelica', 1)\n",
      "('anisyl acetate', 1)\n",
      "('apple skin', 1)\n",
      "('armoise', 1)\n",
      "('arrack', 1)\n",
      "('asprin', 1)\n",
      "('astringent', 1)\n",
      "('azalea', 1)\n",
      "('banana skin', 1)\n",
      "('barley', 1)\n",
      "('bean', 1)\n",
      "('beany', 1)\n",
      "('beef juice', 1)\n",
      "('benzaldehyde', 1)\n",
      "('bergamot', 1)\n",
      "('bisabolene', 1)\n",
      "('blackberry', 1)\n",
      "('blackcurrant', 1)\n",
      "('bland', 1)\n",
      "('bloody', 1)\n",
      "('bloomy', 1)\n",
      "('blue cheese', 1)\n",
      "('bluebell', 1)\n",
      "('boiled egg', 1)\n",
      "('boiled meat', 1)\n",
      "('boiled shrimp', 1)\n",
      "('brassylate', 1)\n",
      "('brussel sprouts', 1)\n",
      "('burnt almonds', 1)\n",
      "('buttered', 1)\n",
      "('buttery', 1)\n",
      "('butyric', 1)\n",
      "('caco', 1)\n",
      "('cadaverous', 1)\n",
      "('camphoreous', 1)\n",
      "('candy', 1)\n",
      "('cantaloupe rind', 1)\n",
      "('capers', 1)\n",
      "('caramellic', 1)\n",
      "('cardamom', 1)\n",
      "('cashew', 1)\n",
      "('cassia', 1)\n",
      "('cat-urine', 1)\n",
      "('catty', 1)\n",
      "('cauliflower', 1)\n",
      "('chamomile', 1)\n",
      "('cherry-pit', 1)\n",
      "('chlorine', 1)\n",
      "('chloroform', 1)\n",
      "('cigar box', 1)\n",
      "('cinnamyl', 1)\n",
      "('citral', 1)\n",
      "('citralva', 1)\n",
      "('citric', 1)\n",
      "('citronella', 1)\n",
      "('citronellyl acetate', 1)\n",
      "('clam', 1)\n",
      "('clean clothes', 1)\n",
      "('clover', 1)\n",
      "('concord grape', 1)\n",
      "('cooked beef juice', 1)\n",
      "('cookies', 1)\n",
      "('cortex', 1)\n",
      "('coumarinic', 1)\n",
      "('crab', 1)\n",
      "('creosote', 1)\n",
      "('cucumber seed', 1)\n",
      "('cultured dairy', 1)\n",
      "('cumin', 1)\n",
      "('dairy', 1)\n",
      "('damp', 1)\n",
      "('dark', 1)\n",
      "('decomposing cabbage', 1)\n",
      "('dewy', 1)\n",
      "('diffusive', 1)\n",
      "('dihydrolinalool', 1)\n",
      "('diphenyl oxide', 1)\n",
      "('diterpene', 1)\n",
      "('dried berry', 1)\n",
      "('dried fruit', 1)\n",
      "('dusty', 1)\n",
      "('estery', 1)\n",
      "('ethyl benzoate', 1)\n",
      "('fenchyl', 1)\n",
      "('fenugreek', 1)\n",
      "('fermented', 1)\n",
      "('fine', 1)\n",
      "('fir needle', 1)\n",
      "('flat', 1)\n",
      "('fleafy', 1)\n",
      "('fleshy', 1)\n",
      "('flower shop', 1)\n",
      "('formyl', 1)\n",
      "('freesia', 1)\n",
      "('fresh outdoors', 1)\n",
      "('freshly bruised dock leaves', 1)\n",
      "('freshly bruised mallow leaves', 1)\n",
      "('freshly plowed soil', 1)\n",
      "('fungal', 1)\n",
      "('furfural', 1)\n",
      "('genet', 1)\n",
      "('genista', 1)\n",
      "('genuine', 1)\n",
      "('gin', 1)\n",
      "('ginger root oil', 1)\n",
      "('gooseberry', 1)\n",
      "('grain', 1)\n",
      "('grape skin', 1)\n",
      "('grassy', 1)\n",
      "('greasy', 1)\n",
      "('grilled', 1)\n",
      "('ground', 1)\n",
      "('ham', 1)\n",
      "('hard yolk', 1)\n",
      "('hawthorn', 1)\n",
      "('hay', 1)\n",
      "('heavy', 1)\n",
      "('herbal', 1)\n",
      "('honeydew', 1)\n",
      "('honeysuckle', 1)\n",
      "('hot', 1)\n",
      "('humid', 1)\n",
      "('humus', 1)\n",
      "('iactonic', 1)\n",
      "('incense', 1)\n",
      "('indole', 1)\n",
      "('intense', 1)\n",
      "('intensely', 1)\n",
      "('iodine', 1)\n",
      "('isoeugenol', 1)\n",
      "('isojasmone', 1)\n",
      "('jam preserves', 1)\n",
      "('jasmone', 1)\n",
      "('kiwi', 1)\n",
      "('labdanum', 1)\n",
      "('lactonic', 1)\n",
      "('lamb', 1)\n",
      "('laundered cloths', 1)\n",
      "('laundry', 1)\n",
      "('lavandin', 1)\n",
      "('leathery', 1)\n",
      "('leaves', 1)\n",
      "('leek', 1)\n",
      "('lemon peel', 1)\n",
      "('lemon rind', 1)\n",
      "('lime blossom', 1)\n",
      "('linden', 1)\n",
      "('linseed', 1)\n",
      "('liquor', 1)\n",
      "('logenberry', 1)\n",
      "('low', 1)\n",
      "('lychee', 1)\n",
      "('mace', 1)\n",
      "('mahogany', 1)\n",
      "('mallow', 1)\n",
      "('maltol', 1)\n",
      "('malty', 1)\n",
      "('maple syrup', 1)\n",
      "('may blossom', 1)\n",
      "('medical', 1)\n",
      "('mellow', 1)\n",
      "('melon rind', 1)\n",
      "('mild cooling', 1)\n",
      "('milk', 1)\n",
      "('moist', 1)\n",
      "('molasses', 1)\n",
      "('musk', 1)\n",
      "('myrcene', 1)\n",
      "('naphthelene', 1)\n",
      "('naphthyl', 1)\n",
      "('new car', 1)\n",
      "('niobe', 1)\n",
      "('nitrile', 1)\n",
      "('nopyl acetate', 1)\n",
      "('nut skin', 1)\n",
      "('oak', 1)\n",
      "('olibanum', 1)\n",
      "('opoponax', 1)\n",
      "('orange blossom', 1)\n",
      "('orange flower', 1)\n",
      "('orange juice', 1)\n",
      "('overripe fruit', 1)\n",
      "('oxyacetaldehyde', 1)\n",
      "('palmarosa', 1)\n",
      "('parmesan', 1)\n",
      "('parsley', 1)\n",
      "('passion fruit', 1)\n",
      "('patchouli', 1)\n",
      "('pear skin', 1)\n",
      "('peony', 1)\n",
      "('peppery', 1)\n",
      "('peptone', 1)\n",
      "('petal', 1)\n",
      "('petitgrain', 1)\n",
      "('plant', 1)\n",
      "('plum skin', 1)\n",
      "('powderful', 1)\n",
      "('profarnesal', 1)\n",
      "('pulpy', 1)\n",
      "('raisin', 1)\n",
      "('raw', 1)\n",
      "('red rose', 1)\n",
      "('reseda', 1)\n",
      "('rhubarb', 1)\n",
      "('ripe', 1)\n",
      "('ripe apricot', 1)\n",
      "('roasted almonds', 1)\n",
      "('roasted nuts', 1)\n",
      "('roasted peanuts', 1)\n",
      "('root', 1)\n",
      "('rooty', 1)\n",
      "('rose bud', 1)\n",
      "('rose de mai', 1)\n",
      "('rose dried', 1)\n",
      "('rose flower', 1)\n",
      "('rose oxide', 1)\n",
      "('rose petals', 1)\n",
      "('rosemary', 1)\n",
      "('rotten', 1)\n",
      "('rue', 1)\n",
      "('rummy', 1)\n",
      "('rye', 1)\n",
      "('salt', 1)\n",
      "('sandalwood', 1)\n",
      "('sappy', 1)\n",
      "('sassafrass', 1)\n",
      "('savory', 1)\n",
      "('scallion', 1)\n",
      "('sea', 1)\n",
      "('sea breeze', 1)\n",
      "('seaside', 1)\n",
      "('sensual', 1)\n",
      "('shrimp', 1)\n",
      "('slightly fruity', 1)\n",
      "('slightly roasted nut', 1)\n",
      "('slightly rose', 1)\n",
      "('smoked', 1)\n",
      "('soil', 1)\n",
      "('soupy', 1)\n",
      "('styrene', 1)\n",
      "('sugar', 1)\n",
      "('sulfide', 1)\n",
      "('sweet corn', 1)\n",
      "('taco', 1)\n",
      "('tangy', 1)\n",
      "('thuja', 1)\n",
      "('thujone', 1)\n",
      "('thymol', 1)\n",
      "('toasted', 1)\n",
      "('tolu', 1)\n",
      "('tree', 1)\n",
      "('tropical fruit', 1)\n",
      "('tuberose', 1)\n",
      "('umami', 1)\n",
      "('undecylenic', 1)\n",
      "('unripe fruit', 1)\n",
      "('unripe plum', 1)\n",
      "('valerian', 1)\n",
      "('vegetable skin', 1)\n",
      "('velvety', 1)\n",
      "('verbena', 1)\n",
      "('very faint', 1)\n",
      "('very intense', 1)\n",
      "('very mild', 1)\n",
      "('very sweet', 1)\n",
      "('vetiver acetate', 1)\n",
      "('vinous', 1)\n",
      "('wasabi', 1)\n",
      "('watercress', 1)\n",
      "('watery', 1)\n",
      "('waxy', 1)\n",
      "('weedy', 1)\n",
      "('wet', 1)\n",
      "('wild', 1)\n",
      "('winey', 1)\n",
      "('yeasty', 1)\n",
      "('ylang', 1)\n",
      "('corn', 1)\n",
      "('cucumber', 1)\n",
      "('potato', 1)\n",
      "('tomato', 1)\n",
      "('caraway', 1)\n",
      "('fennel', 1)\n",
      "('cheese', 1)\n",
      "('creamy', 1)\n",
      "('sour', 1)\n",
      "('coumarin', 1)\n",
      "('spicy', 3)\n",
      "('blossom', 1)\n",
      "('gardenia', 1)\n",
      "('iris', 1)\n",
      "('jasmine', 1)\n",
      "('lavender', 1)\n",
      "('lily', 1)\n",
      "('marigold', 1)\n",
      "('violet', 1)\n",
      "('balsamic', 11)\n",
      "('balsam', 1)\n",
      "('caramel', 1)\n",
      "('cinnamon', 1)\n",
      "('lemon', 1)\n",
      "('citrus', 6)\n",
      "('lime', 1)\n",
      "('cedar', 1)\n",
      "('mesquite', 1)\n",
      "('meaty', 4)\n",
      "('leafy', 1)\n",
      "('beer', 1)\n",
      "('brandy', 1)\n",
      "('whiskey', 1)\n",
      "('earthy', 4)\n",
      "('musty', 1)\n",
      "('apple', 1)\n",
      "('fruity', 25)\n",
      "('berry', 1)\n",
      "('cantaloupe', 1)\n",
      "('cranberry', 1)\n",
      "('grape', 1)\n",
      "('papaya', 1)\n",
      "('plum', 1)\n",
      "('quince', 1)\n",
      "('strawberry', 1)\n",
      "('tropica', 1)\n",
      "('chemical', 4)\n",
      "('almond', 1)\n",
      "('hazelnut', 1)\n",
      "('pepper', 2)\n",
      "('medicinal', 2)\n",
      "('fishy', 2)\n",
      "('animal', 2)\n",
      "('apple peel', 1)\n",
      "('basil', 1)\n",
      "('bitter', 1)\n",
      "('black currant', 1)\n",
      "('boiled vegetable', 1)\n",
      "('box tree', 1)\n",
      "('brown sugar', 1)\n",
      "('burnt sugar', 1)\n",
      "('cabbage', 1)\n",
      "('camomile', 1)\n",
      "('cardboard', 1)\n",
      "('cocoa', 1)\n",
      "('coffee', 1)\n",
      "('cooked meat', 1)\n",
      "('cotton candy', 1)\n",
      "('crushed bug', 1)\n",
      "('curry', 1)\n",
      "('dill', 1)\n",
      "('dust', 1)\n",
      "('fecal', 1)\n",
      "('foxy', 1)\n",
      "('fresh', 1)\n",
      "('fried', 1)\n",
      "('fruit', 1)\n",
      "('gasoline', 1)\n",
      "('lactone', 1)\n",
      "('licorice', 1)\n",
      "('magnolia', 1)\n",
      "('malt', 1)\n",
      "('meat', 1)\n",
      "('mint', 1)\n",
      "('mold', 1)\n",
      "('mothball', 1)\n",
      "('mustard', 1)\n",
      "('oil', 1)\n",
      "('onion', 1)\n",
      "('orange peel', 1)\n",
      "('orris', 1)\n",
      "('paint', 1)\n",
      "('paper', 1)\n",
      "('pea', 1)\n",
      "('peanut butter', 1)\n",
      "('peppermint', 1)\n",
      "('popcorn', 1)\n",
      "('prune', 1)\n",
      "('pungent', 1)\n",
      "('rancid', 1)\n",
      "('roast', 1)\n",
      "('rubber', 1)\n",
      "('seaweed', 1)\n",
      "('sharp', 1)\n",
      "('smoke', 1)\n",
      "('solvent', 1)\n",
      "('soy', 1)\n",
      "('spearmint', 1)\n",
      "('spice', 1)\n",
      "('sweat', 1)\n",
      "('tallow', 1)\n",
      "('tart lime', 1)\n",
      "('tea', 1)\n",
      "('terpentine', 1)\n",
      "('thiamin', 1)\n",
      "('tomato leaf', 1)\n",
      "('turpentine', 1)\n",
      "('warm', 1)\n",
      "('wet cloth', 1)\n",
      "('yeast', 1)\n",
      "('acid', 1)\n",
      "('4-t-butyl cyclohexyl acetate', 1)\n",
      "('acetic', 1)\n",
      "('acetoin', 1)\n",
      "('acetone', 1)\n",
      "('acetophenone', 1)\n",
      "('acrylate', 1)\n",
      "('adoxal', 1)\n",
      "('air marine', 1)\n",
      "('alcoholic', 1)\n",
      "('almost odorless', 1)\n",
      "('ambrette', 1)\n",
      "('ambrette seed', 1)\n",
      "('ambrette seed effect', 1)\n",
      "('ammonia', 1)\n",
      "('ammoniacal', 1)\n",
      "('amyl butyl ester', 1)\n",
      "('aniseed', 1)\n",
      "('anisic', 1)\n",
      "('apple juice', 1)\n",
      "('aromatic', 1)\n",
      "('artichoke', 1)\n",
      "('autumn', 1)\n",
      "('banana peel', 1)\n",
      "('bark', 1)\n",
      "('bay oil', 1)\n",
      "('beef gravey', 1)\n",
      "('beefy', 1)\n",
      "('beeswax', 1)\n",
      "('bell', 1)\n",
      "('benzophenone', 1)\n",
      "('benzyl acetate', 1)\n",
      "('benzyl propionate', 1)\n",
      "('bilberry', 1)\n",
      "('black tea', 1)\n",
      "('blueberry', 1)\n",
      "('boiled beef', 1)\n",
      "('bois de rose', 1)\n",
      "('borneol', 1)\n",
      "('boronia', 1)\n",
      "('bouillon', 1)\n",
      "('bourbon', 1)\n",
      "('bread crust', 1)\n",
      "('bready', 1)\n",
      "('broom', 1)\n",
      "('broth', 1)\n",
      "('brothy', 1)\n",
      "('brown', 1)\n",
      "('buchu', 1)\n",
      "('buttermilk', 1)\n",
      "('butyrate', 1)\n",
      "('cacao', 1)\n",
      "('cake', 1)\n",
      "('cananga', 1)\n",
      "('carao', 1)\n",
      "('carvone', 1)\n",
      "('casky', 1)\n",
      "('cassie', 1)\n",
      "('cassis', 1)\n",
      "('castoreum', 1)\n",
      "('cayloxol', 1)\n",
      "('cedarleaf', 1)\n",
      "('cedarwood', 1)\n",
      "('celery seed', 1)\n",
      "('cereal', 1)\n",
      "('cheesy', 1)\n",
      "('chicken', 1)\n",
      "('chicken coop', 1)\n",
      "('chip', 1)\n",
      "('chrysanthemum', 1)\n",
      "('cinnamate', 1)\n",
      "('cinnamic', 1)\n",
      "('cistus', 1)\n",
      "('citronellol', 1)\n",
      "('citrus peel', 1)\n",
      "('civet', 1)\n",
      "('clary', 1)\n",
      "('clean', 1)\n",
      "('clean cloth', 1)\n",
      "('clean cloths', 1)\n",
      "('cooked', 1)\n",
      "('cool', 1)\n",
      "('cooling', 1)\n",
      "('costus', 1)\n",
      "('cotton', 1)\n",
      "('cresol', 1)\n",
      "('crispy', 1)\n",
      "('cucumber skin', 1)\n",
      "('cuminic acetate', 1)\n",
      "('cuminseed', 1)\n",
      "('custard', 1)\n",
      "('cut grass', 1)\n",
      "('cut privet', 1)\n",
      "('cyclamen', 1)\n",
      "('cypress', 1)\n",
      "('damascone', 1)\n",
      "('dank', 1)\n",
      "('date', 1)\n",
      "('deep', 1)\n",
      "('delicate', 1)\n",
      "('dirt', 1)\n",
      "('dirty', 1)\n",
      "('dried raspberry', 1)\n",
      "('dry', 1)\n",
      "('durian', 1)\n",
      "('egg', 1)\n",
      "('elderflower', 1)\n",
      "('elemi', 1)\n",
      "('ethereal', 1)\n",
      "('ethyl safranate', 1)\n",
      "('eucalyptus', 1)\n",
      "('eugenol', 1)\n",
      "('everlasting', 1)\n",
      "('extremely sweet', 1)\n",
      "('faint', 1)\n",
      "('farnesol', 1)\n",
      "('feet', 1)\n",
      "('fern', 1)\n",
      "('feta cheese', 1)\n",
      "('fig', 1)\n",
      "('filbert', 1)\n",
      "('fir', 1)\n",
      "('foliage', 1)\n",
      "('forest', 1)\n",
      "('fragrant', 1)\n",
      "('fresh air', 1)\n",
      "('freshly bruised sage leaves', 1)\n",
      "('fusel', 1)\n",
      "('galbanum', 1)\n",
      "('gassy', 1)\n",
      "('ginger', 1)\n",
      "('glue', 1)\n",
      "('grapefruit peel', 1)\n",
      "('grapefruit skin', 1)\n",
      "('gravy', 1)\n",
      "('green onions', 1)\n",
      "('grocery store', 1)\n",
      "('guaiacol', 1)\n",
      "('guaiacwood', 1)\n",
      "('hairy', 1)\n",
      "('harsh', 1)\n",
      "('heather', 1)\n",
      "('heliotrope', 1)\n",
      "('heliotropin', 1)\n",
      "('hydroxycitronellal', 1)\n",
      "('immortelle', 1)\n",
      "('ionone', 1)\n",
      "('irone', 1)\n",
      "('jammy', 1)\n",
      "('jasmin', 1)\n",
      "('juicy', 1)\n",
      "('juniper', 1)\n",
      "('juniper berry', 1)\n",
      "('ketone', 1)\n",
      "('ketonic', 1)\n",
      "('lard', 1)\n",
      "('leather', 1)\n",
      "('lemongrass', 1)\n",
      "('liatrix', 1)\n",
      "('light', 1)\n",
      "('lily of the valley', 1)\n",
      "('linalool', 1)\n",
      "('linalyl acetate', 1)\n",
      "('linen', 1)\n",
      "('longifolone', 1)\n",
      "('lovage', 1)\n",
      "('macrocyclic', 1)\n",
      "('mandarin skin', 1)\n",
      "('marine', 1)\n",
      "('matches', 1)\n",
      "('meadow', 1)\n",
      "('mentholic', 1)\n",
      "('mercaptan', 1)\n",
      "('metallic', 1)\n",
      "('methyl acetophenone', 1)\n",
      "('methyl dihydrojasmonate', 1)\n",
      "('methyl ionone', 1)\n",
      "('mignonette', 1)\n",
      "('mild', 1)\n",
      "('milky', 1)\n",
      "('mimosa', 1)\n",
      "('moldy', 1)\n",
      "('moscato', 1)\n",
      "('moth ball', 1)\n",
      "('mouldy', 1)\n",
      "('mousy', 1)\n",
      "('mutton', 1)\n",
      "('myrrh', 1)\n",
      "('naphtha', 1)\n",
      "('naphthalic', 1)\n",
      "('narcissus', 1)\n",
      "('nasturtium', 1)\n",
      "('natural', 1)\n",
      "('neroli', 1)\n",
      "('new mown hay', 1)\n",
      "('oakmoss', 1)\n",
      "('ocimene', 1)\n",
      "('odorless', 1)\n",
      "('old paper', 1)\n",
      "('old wood', 1)\n",
      "('orchid', 1)\n",
      "('oriental', 1)\n",
      "('outdoor', 1)\n",
      "('ozone', 1)\n",
      "('painty', 1)\n",
      "('pastry', 1)\n",
      "('peach-pit', 1)\n",
      "('peely', 1)\n",
      "('pencil', 1)\n",
      "('penetrating', 1)\n",
      "('petroleum', 1)\n",
      "('phenolic', 1)\n",
      "('pine needle', 1)\n",
      "('pistachio', 1)\n",
      "('pleasant', 1)\n",
      "('pollen', 1)\n",
      "('pork', 1)\n",
      "('powdery', 1)\n",
      "('powerful', 1)\n",
      "('privet', 1)\n",
      "('privet blossom', 1)\n",
      "('propionic', 1)\n",
      "('pumpkin', 1)\n",
      "('pyrazine', 1)\n",
      "('pyridine', 1)\n",
      "('radiant', 1)\n",
      "('radish', 1)\n",
      "('red cedar', 1)\n",
      "('red fruit', 1)\n",
      "('red hots', 1)\n",
      "('repulsive', 1)\n",
      "('resinous', 1)\n",
      "('rhodinol', 1)\n",
      "('rich', 1)\n",
      "('ricotta', 1)\n",
      "('roasted', 1)\n",
      "('roasted in sugar syrup', 1)\n",
      "('roasted peanut', 1)\n",
      "('romano', 1)\n",
      "('rootbeer', 1)\n",
      "('roquefort cheese', 1)\n",
      "('rose acetate', 1)\n",
      "('rose water', 1)\n",
      "('rosy', 1)\n",
      "('rotting', 1)\n",
      "('rubbery', 1)\n",
      "('russian', 1)\n",
      "('saffron', 1)\n",
      "('salicylate', 1)\n",
      "('salmon', 1)\n",
      "('sandal', 1)\n",
      "('sandy', 1)\n",
      "('sap', 1)\n",
      "('sarsaparilla', 1)\n",
      "('sausage', 1)\n",
      "('sawdust', 1)\n",
      "('sawen', 1)\n",
      "('seafood', 1)\n",
      "('seashell', 1)\n",
      "('seashore', 1)\n",
      "('shellfish', 1)\n",
      "('sick', 1)\n",
      "('sickening', 1)\n",
      "('skunk', 1)\n",
      "('skunky', 1)\n",
      "('slight', 1)\n",
      "('slightly ethereal', 1)\n",
      "('slightly metallic', 1)\n",
      "('slightly waxy', 1)\n",
      "('soft', 1)\n",
      "('soup', 1)\n",
      "('soybean', 1)\n",
      "('spring', 1)\n",
      "('stem', 1)\n",
      "('stinky', 1)\n",
      "('storax', 1)\n",
      "('strong', 1)\n",
      "('styrax', 1)\n",
      "('sulfury', 1)\n",
      "('sweaty', 1)\n",
      "('syrup', 1)\n",
      "('tagette', 1)\n",
      "('tangerine', 1)\n",
      "('tarragon', 1)\n",
      "('tarry', 1)\n",
      "('terpene', 1)\n",
      "('terpenic', 1)\n",
      "('terpineol', 1)\n",
      "('thiamine', 1)\n",
      "('tobacco-leaf', 1)\n",
      "('toffee', 1)\n",
      "('toluene', 1)\n",
      "('tonka', 1)\n",
      "('tropical', 1)\n",
      "('turnup', 1)\n",
      "('tutti frutti', 1)\n",
      "('undecatriene', 1)\n",
      "('undergrowth', 1)\n",
      "('unpleasant', 1)\n",
      "('unripe banana', 1)\n",
      "('valeric', 1)\n",
      "('vanillin', 1)\n",
      "('very slight', 1)\n",
      "('very strong', 1)\n",
      "('vetiver', 1)\n",
      "('vine', 1)\n",
      "('vinegar', 1)\n",
      "('violet-leaf', 1)\n",
      "('weak', 1)\n",
      "('wine-lee', 1)\n"
     ]
    }
   ],
   "source": [
    "reduce_flavors_rdd=filter_file_rdd_2\\\n",
    "    .flatMap(lambda e:e.split(','))\\\n",
    "    .map(lambda e:(e,1))\\\n",
    "    .reduceByKey(lambda x,y:x+y)\n",
    "print(\" \\n reduce flavors file rdd :\")\n",
    "for ele in reduce_flavors_rdd.collect():\n",
    "    print(ele)"
   ]
  },
  {
   "cell_type": "markdown",
   "metadata": {},
   "source": [
    "### Note :--->>\n",
    "\n",
    "    After applying reduceByKey we are interchanging the key and value pair(.map(lambda x:(x[1],x[0]))) in output which \n",
    "    we are getting after reduceByKey\n",
    "    Then we are doing sorting using sortByKey in ascending order\n",
    "    Check Below:---->>>"
   ]
  },
  {
   "cell_type": "code",
   "execution_count": 166,
   "metadata": {
    "scrolled": false
   },
   "outputs": [
    {
     "data": {
      "text/plain": [
       "[(743, 'NULL'),\n",
       " (25, 'fruity'),\n",
       " (15, 'floral'),\n",
       " (11, 'balsamic'),\n",
       " (9, 'vegetable'),\n",
       " (8, 'fatty'),\n",
       " (6, 'herbaceous'),\n",
       " (6, 'alcohol'),\n",
       " (6, 'nutty'),\n",
       " (6, 'citrus')]"
      ]
     },
     "execution_count": 166,
     "metadata": {},
     "output_type": "execute_result"
    }
   ],
   "source": [
    " flavors.flatMap(lambda x:x.split(','))\\\n",
    "    .map(lambda x:(x,1))\\\n",
    "    .reduceByKey(lambda x,y:x+y)\\\n",
    "    .map(lambda x:(x[1],x[0]))\\\n",
    "    .sortByKey(ascending=False)\\\n",
    "    .take(10)"
   ]
  },
  {
   "cell_type": "code",
   "execution_count": 171,
   "metadata": {},
   "outputs": [
    {
     "data": {
      "text/plain": [
       "[('SUB GROUP', 'GROUP'),\n",
       " ('vegetable', 'celery'),\n",
       " ('vegetable', 'corn'),\n",
       " ('vegetable', 'cucumber'),\n",
       " ('vegetable', 'horseradish'),\n",
       " ('vegetable', 'vegetable'),\n",
       " ('vegetable', 'potato'),\n",
       " ('vegetable', 'tomato'),\n",
       " ('herbaceous', 'caraway'),\n",
       " ('herbaceous', 'clove'),\n",
       " ('herbaceous', 'fennel'),\n",
       " ('herbaceous', 'herbaceous'),\n",
       " ('herbaceous', 'sage'),\n",
       " ('fatty', 'butter'),\n",
       " ('fatty', 'cheese'),\n",
       " ('fatty', 'creamy'),\n",
       " ('fatty', 'hop_oil'),\n",
       " ('fatty', 'oily'),\n",
       " ('fatty', 'fatty'),\n",
       " ('fatty', 'sour')]"
      ]
     },
     "execution_count": 171,
     "metadata": {},
     "output_type": "execute_result"
    }
   ],
   "source": [
    "flavors.map(lambda row:(row.split(',')[1],row.split(',')[0])).take(20)"
   ]
  },
  {
   "cell_type": "code",
   "execution_count": null,
   "metadata": {
    "scrolled": false
   },
   "outputs": [],
   "source": []
  },
  {
   "cell_type": "code",
   "execution_count": 172,
   "metadata": {},
   "outputs": [
    {
     "data": {
      "text/plain": [
       "[(1, 'A'), (2, 'B')]"
      ]
     },
     "execution_count": 172,
     "metadata": {},
     "output_type": "execute_result"
    }
   ],
   "source": [
    "lst1=[(1,\"A\"),(2,\"B\")]\n",
    "lst2=[(1,\"P\"),(2,\"L\")]\n",
    "rdd1=sc.parallelize(lst1)\n",
    "rdd2=sc.parallelize(lst2)\n",
    "rdd1.collect()"
   ]
  },
  {
   "cell_type": "code",
   "execution_count": 23,
   "metadata": {},
   "outputs": [
    {
     "data": {
      "text/plain": [
       "[(1, 'P'), (2, 'L')]"
      ]
     },
     "execution_count": 23,
     "metadata": {},
     "output_type": "execute_result"
    }
   ],
   "source": [
    "rdd2.collect()"
   ]
  },
  {
   "cell_type": "code",
   "execution_count": 24,
   "metadata": {},
   "outputs": [
    {
     "data": {
      "text/plain": [
       "[(1,\n",
       "  (<pyspark.resultiterable.ResultIterable at 0x1bbc1ca388>,\n",
       "   <pyspark.resultiterable.ResultIterable at 0x1bbc1ca5c8>)),\n",
       " (2,\n",
       "  (<pyspark.resultiterable.ResultIterable at 0x1bbc1ca7c8>,\n",
       "   <pyspark.resultiterable.ResultIterable at 0x1bbc1ca508>))]"
      ]
     },
     "execution_count": 24,
     "metadata": {},
     "output_type": "execute_result"
    }
   ],
   "source": [
    "rdd1.cogroup(rdd2).collect()"
   ]
  },
  {
   "cell_type": "code",
   "execution_count": 14,
   "metadata": {},
   "outputs": [
    {
     "data": {
      "text/plain": [
       "857"
      ]
     },
     "execution_count": 14,
     "metadata": {},
     "output_type": "execute_result"
    }
   ],
   "source": [
    "reduce_flavors_rdd.count()"
   ]
  },
  {
   "cell_type": "code",
   "execution_count": 15,
   "metadata": {
    "collapsed": true
   },
   "outputs": [
    {
     "data": {
      "text/plain": [
       "1676"
      ]
     },
     "execution_count": 15,
     "metadata": {},
     "output_type": "execute_result"
    }
   ],
   "source": [
    "reduce_food_rdd.count()"
   ]
  },
  {
   "cell_type": "code",
   "execution_count": 16,
   "metadata": {},
   "outputs": [],
   "source": [
    "# join_rdd=reduce_flavors_rdd.join(reduce_food_rdd)"
   ]
  },
  {
   "cell_type": "code",
   "execution_count": 17,
   "metadata": {},
   "outputs": [
    {
     "data": {
      "text/plain": [
       "[('NULL', (743, 252))]"
      ]
     },
     "execution_count": 17,
     "metadata": {},
     "output_type": "execute_result"
    }
   ],
   "source": [
    "join_rdd.collect()"
   ]
  },
  {
   "cell_type": "code",
   "execution_count": null,
   "metadata": {},
   "outputs": [],
   "source": [
    "join_rdd_1=reduce_lavors_rdd.join"
   ]
  }
 ],
 "metadata": {
  "kernelspec": {
   "display_name": "Python 3",
   "language": "python",
   "name": "python3"
  },
  "language_info": {
   "codemirror_mode": {
    "name": "ipython",
    "version": 3
   },
   "file_extension": ".py",
   "mimetype": "text/x-python",
   "name": "python",
   "nbconvert_exporter": "python",
   "pygments_lexer": "ipython3",
   "version": "3.7.4"
  }
 },
 "nbformat": 4,
 "nbformat_minor": 4
}
